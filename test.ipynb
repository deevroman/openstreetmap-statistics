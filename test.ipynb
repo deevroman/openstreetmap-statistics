{
 "cells": [
  {
   "cell_type": "code",
   "execution_count": null,
   "metadata": {},
   "outputs": [],
   "source": [
    "import duckdb\n",
    "\n",
    "result = duckdb.sql(\"SELECT * FROM 'data/year=*/month=*/*.parquet'\")"
   ]
  },
  {
   "cell_type": "code",
   "execution_count": 4,
   "metadata": {},
   "outputs": [
    {
     "name": "stdout",
     "output_type": "stream",
     "text": [
      "             column_name column_type null   key default extra\n",
      "0             edit_count     INTEGER  YES  None    None  None\n",
      "1             user_index     INTEGER  YES  None    None  None\n",
      "2                  pos_x    SMALLINT  YES  None    None  None\n",
      "3                  pos_y    SMALLINT  YES  None    None  None\n",
      "4                 is_bot     BOOLEAN  YES  None    None  None\n",
      "5            corporation     VARCHAR  YES  None    None  None\n",
      "6             created_by     VARCHAR  YES  None    None  None\n",
      "7           imagery_used   VARCHAR[]  YES  None    None  None\n",
      "8               hashtags   VARCHAR[]  YES  None    None  None\n",
      "9                 source   VARCHAR[]  YES  None    None  None\n",
      "10  streetcomplete_quest     VARCHAR  YES  None    None  None\n",
      "11             mobile_os     VARCHAR  YES  None    None  None\n",
      "12              all_tags   VARCHAR[]  YES  None    None  None\n",
      "13                 month      BIGINT  YES  None    None  None\n",
      "14                  year      BIGINT  YES  None    None  None\n"
     ]
    }
   ],
   "source": [
    "result = duckdb.sql(\"DESCRIBE 'data/year=*/month=*/*.parquet'\").df()\n",
    "print(result)"
   ]
  },
  {
   "cell_type": "code",
   "execution_count": 5,
   "metadata": {},
   "outputs": [
    {
     "name": "stdout",
     "output_type": "stream",
     "text": [
      "edit_count: INTEGER\n",
      "user_index: INTEGER\n",
      "pos_x: SMALLINT\n",
      "pos_y: SMALLINT\n",
      "is_bot: BOOLEAN\n",
      "corporation: VARCHAR\n",
      "created_by: VARCHAR\n",
      "imagery_used: VARCHAR[]\n",
      "hashtags: VARCHAR[]\n",
      "source: VARCHAR[]\n",
      "streetcomplete_quest: VARCHAR\n",
      "mobile_os: VARCHAR\n",
      "all_tags: VARCHAR[]\n",
      "month: BIGINT\n",
      "year: BIGINT\n"
     ]
    }
   ],
   "source": [
    "import duckdb\n",
    "\n",
    "# Quick column overview\n",
    "columns = duckdb.sql(\"SELECT * FROM 'data/year=*/month=*/*.parquet' LIMIT 0\").columns\n",
    "types = duckdb.sql(\"SELECT * FROM 'data/year=*/month=*/*.parquet' LIMIT 0\").types\n",
    "\n",
    "for col, dtype in zip(columns, types):\n",
    "    print(f\"{col}: {dtype}\")"
   ]
  },
  {
   "cell_type": "code",
   "execution_count": 9,
   "metadata": {},
   "outputs": [
    {
     "data": {
      "text/html": [
       "<div>\n",
       "<style scoped>\n",
       "    .dataframe tbody tr th:only-of-type {\n",
       "        vertical-align: middle;\n",
       "    }\n",
       "\n",
       "    .dataframe tbody tr th {\n",
       "        vertical-align: top;\n",
       "    }\n",
       "\n",
       "    .dataframe thead th {\n",
       "        text-align: right;\n",
       "    }\n",
       "</style>\n",
       "<table border=\"1\" class=\"dataframe\">\n",
       "  <thead>\n",
       "    <tr style=\"text-align: right;\">\n",
       "      <th></th>\n",
       "      <th>edit_count</th>\n",
       "      <th>user_index</th>\n",
       "      <th>pos_x</th>\n",
       "      <th>pos_y</th>\n",
       "      <th>is_bot</th>\n",
       "      <th>corporation</th>\n",
       "      <th>created_by</th>\n",
       "      <th>imagery_used</th>\n",
       "      <th>hashtags</th>\n",
       "      <th>source</th>\n",
       "      <th>streetcomplete_quest</th>\n",
       "      <th>mobile_os</th>\n",
       "      <th>all_tags</th>\n",
       "      <th>month</th>\n",
       "      <th>year</th>\n",
       "    </tr>\n",
       "  </thead>\n",
       "  <tbody>\n",
       "    <tr>\n",
       "      <th>0</th>\n",
       "      <td>4</td>\n",
       "      <td>32</td>\n",
       "      <td>180</td>\n",
       "      <td>142</td>\n",
       "      <td>False</td>\n",
       "      <td></td>\n",
       "      <td>None</td>\n",
       "      <td>&lt;NA&gt;</td>\n",
       "      <td>&lt;NA&gt;</td>\n",
       "      <td>&lt;NA&gt;</td>\n",
       "      <td>None</td>\n",
       "      <td>None</td>\n",
       "      <td>[]</td>\n",
       "      <td>10</td>\n",
       "      <td>2005</td>\n",
       "    </tr>\n",
       "  </tbody>\n",
       "</table>\n",
       "</div>"
      ],
      "text/plain": [
       "   edit_count  user_index  pos_x  pos_y  is_bot corporation created_by  \\\n",
       "0           4          32    180    142   False                   None   \n",
       "\n",
       "  imagery_used hashtags source streetcomplete_quest mobile_os all_tags  month  \\\n",
       "0         <NA>     <NA>   <NA>                 None      None       []     10   \n",
       "\n",
       "   year  \n",
       "0  2005  "
      ]
     },
     "execution_count": 9,
     "metadata": {},
     "output_type": "execute_result"
    }
   ],
   "source": [
    "duckdb.sql(\"SELECT * FROM 'data/year=*/month=*/*.parquet' LIMIT 1\").df()"
   ]
  },
  {
   "cell_type": "code",
   "execution_count": 10,
   "metadata": {},
   "outputs": [
    {
     "name": "stdout",
     "output_type": "stream",
     "text": [
      "     year  month  unique_users  total_records     date\n",
      "0    2005      4             4              8  2005-04\n",
      "1    2005      5             5             45  2005-05\n",
      "2    2005      6             8             49  2005-06\n",
      "3    2005      7            16             97  2005-07\n",
      "4    2005      8            22            107  2005-08\n",
      "..    ...    ...           ...            ...      ...\n",
      "200  2021     12         40051        1202017  2021-12\n",
      "201  2022      1         41972        1219838  2022-01\n",
      "202  2022      2         40240        1118106  2022-02\n",
      "203  2022      3         43967        1218111  2022-03\n",
      "204  2022      4         35231         847977  2022-04\n",
      "\n",
      "[205 rows x 5 columns]\n"
     ]
    }
   ],
   "source": [
    "import duckdb\n",
    "\n",
    "result = duckdb.sql(\"\"\"\n",
    "    SELECT \n",
    "        year,\n",
    "        month,\n",
    "        COUNT(DISTINCT user_index) as unique_users,\n",
    "        COUNT(*) as total_records\n",
    "    FROM 'data/year=*/month=*/*.parquet'\n",
    "    GROUP BY year, month\n",
    "    ORDER BY year, month\n",
    "\"\"\").df()\n",
    "\n",
    "# Add a formatted date column if you want\n",
    "result['date'] = result['year'].astype(str) + '-' + result['month'].astype(str).str.zfill(2)\n",
    "print(result)"
   ]
  },
  {
   "cell_type": "code",
   "execution_count": 13,
   "metadata": {},
   "outputs": [
    {
     "data": {
      "application/vnd.plotly.v1+json": {
       "config": {
        "plotlyServerURL": "https://plot.ly"
       },
       "data": [
        {
         "hovertemplate": "Date=%{x}<br>Number of Unique Users=%{y}<extra></extra>",
         "legendgroup": "",
         "line": {
          "color": "#636efa",
          "dash": "solid"
         },
         "marker": {
          "symbol": "circle"
         },
         "mode": "lines",
         "name": "",
         "orientation": "v",
         "showlegend": false,
         "type": "scatter",
         "x": [
          "2005-04-01T00:00:00.000000000",
          "2005-05-01T00:00:00.000000000",
          "2005-06-01T00:00:00.000000000",
          "2005-07-01T00:00:00.000000000",
          "2005-08-01T00:00:00.000000000",
          "2005-09-01T00:00:00.000000000",
          "2005-10-01T00:00:00.000000000",
          "2005-11-01T00:00:00.000000000",
          "2005-12-01T00:00:00.000000000",
          "2006-01-01T00:00:00.000000000",
          "2006-02-01T00:00:00.000000000",
          "2006-03-01T00:00:00.000000000",
          "2006-04-01T00:00:00.000000000",
          "2006-05-01T00:00:00.000000000",
          "2006-06-01T00:00:00.000000000",
          "2006-07-01T00:00:00.000000000",
          "2006-08-01T00:00:00.000000000",
          "2006-09-01T00:00:00.000000000",
          "2006-10-01T00:00:00.000000000",
          "2006-11-01T00:00:00.000000000",
          "2006-12-01T00:00:00.000000000",
          "2007-01-01T00:00:00.000000000",
          "2007-02-01T00:00:00.000000000",
          "2007-03-01T00:00:00.000000000",
          "2007-04-01T00:00:00.000000000",
          "2007-05-01T00:00:00.000000000",
          "2007-06-01T00:00:00.000000000",
          "2007-07-01T00:00:00.000000000",
          "2007-08-01T00:00:00.000000000",
          "2007-09-01T00:00:00.000000000",
          "2007-10-01T00:00:00.000000000",
          "2007-11-01T00:00:00.000000000",
          "2007-12-01T00:00:00.000000000",
          "2008-01-01T00:00:00.000000000",
          "2008-02-01T00:00:00.000000000",
          "2008-03-01T00:00:00.000000000",
          "2008-04-01T00:00:00.000000000",
          "2008-05-01T00:00:00.000000000",
          "2008-06-01T00:00:00.000000000",
          "2008-07-01T00:00:00.000000000",
          "2008-08-01T00:00:00.000000000",
          "2008-09-01T00:00:00.000000000",
          "2008-10-01T00:00:00.000000000",
          "2008-11-01T00:00:00.000000000",
          "2008-12-01T00:00:00.000000000",
          "2009-01-01T00:00:00.000000000",
          "2009-02-01T00:00:00.000000000",
          "2009-03-01T00:00:00.000000000",
          "2009-04-01T00:00:00.000000000",
          "2009-05-01T00:00:00.000000000",
          "2009-06-01T00:00:00.000000000",
          "2009-07-01T00:00:00.000000000",
          "2009-08-01T00:00:00.000000000",
          "2009-09-01T00:00:00.000000000",
          "2009-10-01T00:00:00.000000000",
          "2009-11-01T00:00:00.000000000",
          "2009-12-01T00:00:00.000000000",
          "2010-01-01T00:00:00.000000000",
          "2010-02-01T00:00:00.000000000",
          "2010-03-01T00:00:00.000000000",
          "2010-04-01T00:00:00.000000000",
          "2010-05-01T00:00:00.000000000",
          "2010-06-01T00:00:00.000000000",
          "2010-07-01T00:00:00.000000000",
          "2010-08-01T00:00:00.000000000",
          "2010-09-01T00:00:00.000000000",
          "2010-10-01T00:00:00.000000000",
          "2010-11-01T00:00:00.000000000",
          "2010-12-01T00:00:00.000000000",
          "2011-01-01T00:00:00.000000000",
          "2011-02-01T00:00:00.000000000",
          "2011-03-01T00:00:00.000000000",
          "2011-04-01T00:00:00.000000000",
          "2011-05-01T00:00:00.000000000",
          "2011-06-01T00:00:00.000000000",
          "2011-07-01T00:00:00.000000000",
          "2011-08-01T00:00:00.000000000",
          "2011-09-01T00:00:00.000000000",
          "2011-10-01T00:00:00.000000000",
          "2011-11-01T00:00:00.000000000",
          "2011-12-01T00:00:00.000000000",
          "2012-01-01T00:00:00.000000000",
          "2012-02-01T00:00:00.000000000",
          "2012-03-01T00:00:00.000000000",
          "2012-04-01T00:00:00.000000000",
          "2012-05-01T00:00:00.000000000",
          "2012-06-01T00:00:00.000000000",
          "2012-07-01T00:00:00.000000000",
          "2012-08-01T00:00:00.000000000",
          "2012-09-01T00:00:00.000000000",
          "2012-10-01T00:00:00.000000000",
          "2012-11-01T00:00:00.000000000",
          "2012-12-01T00:00:00.000000000",
          "2013-01-01T00:00:00.000000000",
          "2013-02-01T00:00:00.000000000",
          "2013-03-01T00:00:00.000000000",
          "2013-04-01T00:00:00.000000000",
          "2013-05-01T00:00:00.000000000",
          "2013-06-01T00:00:00.000000000",
          "2013-07-01T00:00:00.000000000",
          "2013-08-01T00:00:00.000000000",
          "2013-09-01T00:00:00.000000000",
          "2013-10-01T00:00:00.000000000",
          "2013-11-01T00:00:00.000000000",
          "2013-12-01T00:00:00.000000000",
          "2014-01-01T00:00:00.000000000",
          "2014-02-01T00:00:00.000000000",
          "2014-03-01T00:00:00.000000000",
          "2014-04-01T00:00:00.000000000",
          "2014-05-01T00:00:00.000000000",
          "2014-06-01T00:00:00.000000000",
          "2014-07-01T00:00:00.000000000",
          "2014-08-01T00:00:00.000000000",
          "2014-09-01T00:00:00.000000000",
          "2014-10-01T00:00:00.000000000",
          "2014-11-01T00:00:00.000000000",
          "2014-12-01T00:00:00.000000000",
          "2015-01-01T00:00:00.000000000",
          "2015-02-01T00:00:00.000000000",
          "2015-03-01T00:00:00.000000000",
          "2015-04-01T00:00:00.000000000",
          "2015-05-01T00:00:00.000000000",
          "2015-06-01T00:00:00.000000000",
          "2015-07-01T00:00:00.000000000",
          "2015-08-01T00:00:00.000000000",
          "2015-09-01T00:00:00.000000000",
          "2015-10-01T00:00:00.000000000",
          "2015-11-01T00:00:00.000000000",
          "2015-12-01T00:00:00.000000000",
          "2016-01-01T00:00:00.000000000",
          "2016-02-01T00:00:00.000000000",
          "2016-03-01T00:00:00.000000000",
          "2016-04-01T00:00:00.000000000",
          "2016-05-01T00:00:00.000000000",
          "2016-06-01T00:00:00.000000000",
          "2016-07-01T00:00:00.000000000",
          "2016-08-01T00:00:00.000000000",
          "2016-09-01T00:00:00.000000000",
          "2016-10-01T00:00:00.000000000",
          "2016-11-01T00:00:00.000000000",
          "2016-12-01T00:00:00.000000000",
          "2017-01-01T00:00:00.000000000",
          "2017-02-01T00:00:00.000000000",
          "2017-03-01T00:00:00.000000000",
          "2017-04-01T00:00:00.000000000",
          "2017-05-01T00:00:00.000000000",
          "2017-06-01T00:00:00.000000000",
          "2017-07-01T00:00:00.000000000",
          "2017-08-01T00:00:00.000000000",
          "2017-09-01T00:00:00.000000000",
          "2017-10-01T00:00:00.000000000",
          "2017-11-01T00:00:00.000000000",
          "2017-12-01T00:00:00.000000000",
          "2018-01-01T00:00:00.000000000",
          "2018-02-01T00:00:00.000000000",
          "2018-03-01T00:00:00.000000000",
          "2018-04-01T00:00:00.000000000",
          "2018-05-01T00:00:00.000000000",
          "2018-06-01T00:00:00.000000000",
          "2018-07-01T00:00:00.000000000",
          "2018-08-01T00:00:00.000000000",
          "2018-09-01T00:00:00.000000000",
          "2018-10-01T00:00:00.000000000",
          "2018-11-01T00:00:00.000000000",
          "2018-12-01T00:00:00.000000000",
          "2019-01-01T00:00:00.000000000",
          "2019-02-01T00:00:00.000000000",
          "2019-03-01T00:00:00.000000000",
          "2019-04-01T00:00:00.000000000",
          "2019-05-01T00:00:00.000000000",
          "2019-06-01T00:00:00.000000000",
          "2019-07-01T00:00:00.000000000",
          "2019-08-01T00:00:00.000000000",
          "2019-09-01T00:00:00.000000000",
          "2019-10-01T00:00:00.000000000",
          "2019-11-01T00:00:00.000000000",
          "2019-12-01T00:00:00.000000000",
          "2020-01-01T00:00:00.000000000",
          "2020-02-01T00:00:00.000000000",
          "2020-03-01T00:00:00.000000000",
          "2020-04-01T00:00:00.000000000",
          "2020-05-01T00:00:00.000000000",
          "2020-06-01T00:00:00.000000000",
          "2020-07-01T00:00:00.000000000",
          "2020-08-01T00:00:00.000000000",
          "2020-09-01T00:00:00.000000000",
          "2020-10-01T00:00:00.000000000",
          "2020-11-01T00:00:00.000000000",
          "2020-12-01T00:00:00.000000000",
          "2021-01-01T00:00:00.000000000",
          "2021-02-01T00:00:00.000000000",
          "2021-03-01T00:00:00.000000000",
          "2021-04-01T00:00:00.000000000",
          "2021-05-01T00:00:00.000000000",
          "2021-06-01T00:00:00.000000000",
          "2021-07-01T00:00:00.000000000",
          "2021-08-01T00:00:00.000000000",
          "2021-09-01T00:00:00.000000000",
          "2021-10-01T00:00:00.000000000",
          "2021-11-01T00:00:00.000000000",
          "2021-12-01T00:00:00.000000000",
          "2022-01-01T00:00:00.000000000",
          "2022-02-01T00:00:00.000000000",
          "2022-03-01T00:00:00.000000000",
          "2022-04-01T00:00:00.000000000"
         ],
         "xaxis": "x",
         "y": {
          "bdata": "BAAAAAUAAAAIAAAAEAAAABYAAAALAAAAFgAAACYAAAAsAAAAMwAAADAAAAA0AAAAUQAAAGUAAABfAAAAbQAAAIEAAACHAAAAmAAAAMYAAAD3AAAAFQEAAEcBAACtAQAA9gEAAGQCAABQAwAAfgMAAAkEAAAgBQAAaQcAAEIIAABlCAAACgoAADULAACDDAAADw4AAOkSAAAUFwAASRkAAFweAADXGwAAyRoAAKgaAACXGQAAZR4AAK8cAACZIgAAsyoAAF42AADnLwAAUjQAAME9AAAbQAAAcDgAAHo1AADLLAAAGjQAAHYwAAB1NQAAxjgAAJo3AADCNgAANDUAAEc8AAD7NwAA3jUAAEM2AABXNwAA7DkAAAs6AADmPQAA+0MAALZDAAAOSAAAP0cAAChCAABFPAAAxj8AABw9AAADPQAAikcAAF0+AACtXwAAKFUAADBQAACeUQAAlU8AAE9TAADwVwAAXVIAALtNAABsRgAAS1IAAJ1JAABfTAAAklAAACVmAACAWAAAelcAACRbAABqVwAAM1UAAPlYAAAVVAAACWcAAIZbAACWZwAA2WQAAGxjAAC3YAAArl8AALNxAABWYQAAXWUAANNiAABVXQAAH18AAPleAACSZgAAPXgAAE16AAAWbAAAF2kAAHNrAABGaQAA42oAAMtuAACiXAAAS2EAAMRiAABpaAAAwpgAANSOAAA5pgAAQqcAAOWzAACtsgAAqbQAALOrAACArwAAENEAAAy0AABZvgAALMAAAF28AABoqQAAPqwAAA2/AAAFvgAAiLgAAM+sAACjvAAAyMIAAACrAAAvugAADLoAABzFAAC+rwAAqrEAAGfKAADItgAAFcQAAIW0AADznAAAdKQAADGZAADetwAAlLwAACayAAAqpAAAsK8AAMmyAACutAAAGskAAP28AACwngAAFK4AAJelAACBnwAA+bUAAAzHAAC0ugAAcMkAAMDIAADhxgAA9MgAALHGAAB3sQAAN8UAAES6AACO1AAAV+IAAD3KAABLyAAAbMcAAAu9AABqwwAA8LwAAHSvAABznAAA9KMAADCdAAC/qwAAn4kAAA==",
          "dtype": "i4"
         },
         "yaxis": "y"
        }
       ],
       "layout": {
        "legend": {
         "tracegroupgap": 0
        },
        "template": {
         "data": {
          "bar": [
           {
            "error_x": {
             "color": "#2a3f5f"
            },
            "error_y": {
             "color": "#2a3f5f"
            },
            "marker": {
             "line": {
              "color": "#E5ECF6",
              "width": 0.5
             },
             "pattern": {
              "fillmode": "overlay",
              "size": 10,
              "solidity": 0.2
             }
            },
            "type": "bar"
           }
          ],
          "barpolar": [
           {
            "marker": {
             "line": {
              "color": "#E5ECF6",
              "width": 0.5
             },
             "pattern": {
              "fillmode": "overlay",
              "size": 10,
              "solidity": 0.2
             }
            },
            "type": "barpolar"
           }
          ],
          "carpet": [
           {
            "aaxis": {
             "endlinecolor": "#2a3f5f",
             "gridcolor": "white",
             "linecolor": "white",
             "minorgridcolor": "white",
             "startlinecolor": "#2a3f5f"
            },
            "baxis": {
             "endlinecolor": "#2a3f5f",
             "gridcolor": "white",
             "linecolor": "white",
             "minorgridcolor": "white",
             "startlinecolor": "#2a3f5f"
            },
            "type": "carpet"
           }
          ],
          "choropleth": [
           {
            "colorbar": {
             "outlinewidth": 0,
             "ticks": ""
            },
            "type": "choropleth"
           }
          ],
          "contour": [
           {
            "colorbar": {
             "outlinewidth": 0,
             "ticks": ""
            },
            "colorscale": [
             [
              0,
              "#0d0887"
             ],
             [
              0.1111111111111111,
              "#46039f"
             ],
             [
              0.2222222222222222,
              "#7201a8"
             ],
             [
              0.3333333333333333,
              "#9c179e"
             ],
             [
              0.4444444444444444,
              "#bd3786"
             ],
             [
              0.5555555555555556,
              "#d8576b"
             ],
             [
              0.6666666666666666,
              "#ed7953"
             ],
             [
              0.7777777777777778,
              "#fb9f3a"
             ],
             [
              0.8888888888888888,
              "#fdca26"
             ],
             [
              1,
              "#f0f921"
             ]
            ],
            "type": "contour"
           }
          ],
          "contourcarpet": [
           {
            "colorbar": {
             "outlinewidth": 0,
             "ticks": ""
            },
            "type": "contourcarpet"
           }
          ],
          "heatmap": [
           {
            "colorbar": {
             "outlinewidth": 0,
             "ticks": ""
            },
            "colorscale": [
             [
              0,
              "#0d0887"
             ],
             [
              0.1111111111111111,
              "#46039f"
             ],
             [
              0.2222222222222222,
              "#7201a8"
             ],
             [
              0.3333333333333333,
              "#9c179e"
             ],
             [
              0.4444444444444444,
              "#bd3786"
             ],
             [
              0.5555555555555556,
              "#d8576b"
             ],
             [
              0.6666666666666666,
              "#ed7953"
             ],
             [
              0.7777777777777778,
              "#fb9f3a"
             ],
             [
              0.8888888888888888,
              "#fdca26"
             ],
             [
              1,
              "#f0f921"
             ]
            ],
            "type": "heatmap"
           }
          ],
          "histogram": [
           {
            "marker": {
             "pattern": {
              "fillmode": "overlay",
              "size": 10,
              "solidity": 0.2
             }
            },
            "type": "histogram"
           }
          ],
          "histogram2d": [
           {
            "colorbar": {
             "outlinewidth": 0,
             "ticks": ""
            },
            "colorscale": [
             [
              0,
              "#0d0887"
             ],
             [
              0.1111111111111111,
              "#46039f"
             ],
             [
              0.2222222222222222,
              "#7201a8"
             ],
             [
              0.3333333333333333,
              "#9c179e"
             ],
             [
              0.4444444444444444,
              "#bd3786"
             ],
             [
              0.5555555555555556,
              "#d8576b"
             ],
             [
              0.6666666666666666,
              "#ed7953"
             ],
             [
              0.7777777777777778,
              "#fb9f3a"
             ],
             [
              0.8888888888888888,
              "#fdca26"
             ],
             [
              1,
              "#f0f921"
             ]
            ],
            "type": "histogram2d"
           }
          ],
          "histogram2dcontour": [
           {
            "colorbar": {
             "outlinewidth": 0,
             "ticks": ""
            },
            "colorscale": [
             [
              0,
              "#0d0887"
             ],
             [
              0.1111111111111111,
              "#46039f"
             ],
             [
              0.2222222222222222,
              "#7201a8"
             ],
             [
              0.3333333333333333,
              "#9c179e"
             ],
             [
              0.4444444444444444,
              "#bd3786"
             ],
             [
              0.5555555555555556,
              "#d8576b"
             ],
             [
              0.6666666666666666,
              "#ed7953"
             ],
             [
              0.7777777777777778,
              "#fb9f3a"
             ],
             [
              0.8888888888888888,
              "#fdca26"
             ],
             [
              1,
              "#f0f921"
             ]
            ],
            "type": "histogram2dcontour"
           }
          ],
          "mesh3d": [
           {
            "colorbar": {
             "outlinewidth": 0,
             "ticks": ""
            },
            "type": "mesh3d"
           }
          ],
          "parcoords": [
           {
            "line": {
             "colorbar": {
              "outlinewidth": 0,
              "ticks": ""
             }
            },
            "type": "parcoords"
           }
          ],
          "pie": [
           {
            "automargin": true,
            "type": "pie"
           }
          ],
          "scatter": [
           {
            "fillpattern": {
             "fillmode": "overlay",
             "size": 10,
             "solidity": 0.2
            },
            "type": "scatter"
           }
          ],
          "scatter3d": [
           {
            "line": {
             "colorbar": {
              "outlinewidth": 0,
              "ticks": ""
             }
            },
            "marker": {
             "colorbar": {
              "outlinewidth": 0,
              "ticks": ""
             }
            },
            "type": "scatter3d"
           }
          ],
          "scattercarpet": [
           {
            "marker": {
             "colorbar": {
              "outlinewidth": 0,
              "ticks": ""
             }
            },
            "type": "scattercarpet"
           }
          ],
          "scattergeo": [
           {
            "marker": {
             "colorbar": {
              "outlinewidth": 0,
              "ticks": ""
             }
            },
            "type": "scattergeo"
           }
          ],
          "scattergl": [
           {
            "marker": {
             "colorbar": {
              "outlinewidth": 0,
              "ticks": ""
             }
            },
            "type": "scattergl"
           }
          ],
          "scattermap": [
           {
            "marker": {
             "colorbar": {
              "outlinewidth": 0,
              "ticks": ""
             }
            },
            "type": "scattermap"
           }
          ],
          "scattermapbox": [
           {
            "marker": {
             "colorbar": {
              "outlinewidth": 0,
              "ticks": ""
             }
            },
            "type": "scattermapbox"
           }
          ],
          "scatterpolar": [
           {
            "marker": {
             "colorbar": {
              "outlinewidth": 0,
              "ticks": ""
             }
            },
            "type": "scatterpolar"
           }
          ],
          "scatterpolargl": [
           {
            "marker": {
             "colorbar": {
              "outlinewidth": 0,
              "ticks": ""
             }
            },
            "type": "scatterpolargl"
           }
          ],
          "scatterternary": [
           {
            "marker": {
             "colorbar": {
              "outlinewidth": 0,
              "ticks": ""
             }
            },
            "type": "scatterternary"
           }
          ],
          "surface": [
           {
            "colorbar": {
             "outlinewidth": 0,
             "ticks": ""
            },
            "colorscale": [
             [
              0,
              "#0d0887"
             ],
             [
              0.1111111111111111,
              "#46039f"
             ],
             [
              0.2222222222222222,
              "#7201a8"
             ],
             [
              0.3333333333333333,
              "#9c179e"
             ],
             [
              0.4444444444444444,
              "#bd3786"
             ],
             [
              0.5555555555555556,
              "#d8576b"
             ],
             [
              0.6666666666666666,
              "#ed7953"
             ],
             [
              0.7777777777777778,
              "#fb9f3a"
             ],
             [
              0.8888888888888888,
              "#fdca26"
             ],
             [
              1,
              "#f0f921"
             ]
            ],
            "type": "surface"
           }
          ],
          "table": [
           {
            "cells": {
             "fill": {
              "color": "#EBF0F8"
             },
             "line": {
              "color": "white"
             }
            },
            "header": {
             "fill": {
              "color": "#C8D4E3"
             },
             "line": {
              "color": "white"
             }
            },
            "type": "table"
           }
          ]
         },
         "layout": {
          "annotationdefaults": {
           "arrowcolor": "#2a3f5f",
           "arrowhead": 0,
           "arrowwidth": 1
          },
          "autotypenumbers": "strict",
          "coloraxis": {
           "colorbar": {
            "outlinewidth": 0,
            "ticks": ""
           }
          },
          "colorscale": {
           "diverging": [
            [
             0,
             "#8e0152"
            ],
            [
             0.1,
             "#c51b7d"
            ],
            [
             0.2,
             "#de77ae"
            ],
            [
             0.3,
             "#f1b6da"
            ],
            [
             0.4,
             "#fde0ef"
            ],
            [
             0.5,
             "#f7f7f7"
            ],
            [
             0.6,
             "#e6f5d0"
            ],
            [
             0.7,
             "#b8e186"
            ],
            [
             0.8,
             "#7fbc41"
            ],
            [
             0.9,
             "#4d9221"
            ],
            [
             1,
             "#276419"
            ]
           ],
           "sequential": [
            [
             0,
             "#0d0887"
            ],
            [
             0.1111111111111111,
             "#46039f"
            ],
            [
             0.2222222222222222,
             "#7201a8"
            ],
            [
             0.3333333333333333,
             "#9c179e"
            ],
            [
             0.4444444444444444,
             "#bd3786"
            ],
            [
             0.5555555555555556,
             "#d8576b"
            ],
            [
             0.6666666666666666,
             "#ed7953"
            ],
            [
             0.7777777777777778,
             "#fb9f3a"
            ],
            [
             0.8888888888888888,
             "#fdca26"
            ],
            [
             1,
             "#f0f921"
            ]
           ],
           "sequentialminus": [
            [
             0,
             "#0d0887"
            ],
            [
             0.1111111111111111,
             "#46039f"
            ],
            [
             0.2222222222222222,
             "#7201a8"
            ],
            [
             0.3333333333333333,
             "#9c179e"
            ],
            [
             0.4444444444444444,
             "#bd3786"
            ],
            [
             0.5555555555555556,
             "#d8576b"
            ],
            [
             0.6666666666666666,
             "#ed7953"
            ],
            [
             0.7777777777777778,
             "#fb9f3a"
            ],
            [
             0.8888888888888888,
             "#fdca26"
            ],
            [
             1,
             "#f0f921"
            ]
           ]
          },
          "colorway": [
           "#636efa",
           "#EF553B",
           "#00cc96",
           "#ab63fa",
           "#FFA15A",
           "#19d3f3",
           "#FF6692",
           "#B6E880",
           "#FF97FF",
           "#FECB52"
          ],
          "font": {
           "color": "#2a3f5f"
          },
          "geo": {
           "bgcolor": "white",
           "lakecolor": "white",
           "landcolor": "#E5ECF6",
           "showlakes": true,
           "showland": true,
           "subunitcolor": "white"
          },
          "hoverlabel": {
           "align": "left"
          },
          "hovermode": "closest",
          "mapbox": {
           "style": "light"
          },
          "paper_bgcolor": "white",
          "plot_bgcolor": "#E5ECF6",
          "polar": {
           "angularaxis": {
            "gridcolor": "white",
            "linecolor": "white",
            "ticks": ""
           },
           "bgcolor": "#E5ECF6",
           "radialaxis": {
            "gridcolor": "white",
            "linecolor": "white",
            "ticks": ""
           }
          },
          "scene": {
           "xaxis": {
            "backgroundcolor": "#E5ECF6",
            "gridcolor": "white",
            "gridwidth": 2,
            "linecolor": "white",
            "showbackground": true,
            "ticks": "",
            "zerolinecolor": "white"
           },
           "yaxis": {
            "backgroundcolor": "#E5ECF6",
            "gridcolor": "white",
            "gridwidth": 2,
            "linecolor": "white",
            "showbackground": true,
            "ticks": "",
            "zerolinecolor": "white"
           },
           "zaxis": {
            "backgroundcolor": "#E5ECF6",
            "gridcolor": "white",
            "gridwidth": 2,
            "linecolor": "white",
            "showbackground": true,
            "ticks": "",
            "zerolinecolor": "white"
           }
          },
          "shapedefaults": {
           "line": {
            "color": "#2a3f5f"
           }
          },
          "ternary": {
           "aaxis": {
            "gridcolor": "white",
            "linecolor": "white",
            "ticks": ""
           },
           "baxis": {
            "gridcolor": "white",
            "linecolor": "white",
            "ticks": ""
           },
           "bgcolor": "#E5ECF6",
           "caxis": {
            "gridcolor": "white",
            "linecolor": "white",
            "ticks": ""
           }
          },
          "title": {
           "x": 0.05
          },
          "xaxis": {
           "automargin": true,
           "gridcolor": "white",
           "linecolor": "white",
           "ticks": "",
           "title": {
            "standoff": 15
           },
           "zerolinecolor": "white",
           "zerolinewidth": 2
          },
          "yaxis": {
           "automargin": true,
           "gridcolor": "white",
           "linecolor": "white",
           "ticks": "",
           "title": {
            "standoff": 15
           },
           "zerolinecolor": "white",
           "zerolinewidth": 2
          }
         }
        },
        "title": {
         "text": "Unique Users Over Time"
        },
        "xaxis": {
         "anchor": "y",
         "domain": [
          0,
          1
         ],
         "title": {
          "text": "Date"
         }
        },
        "yaxis": {
         "anchor": "x",
         "domain": [
          0,
          1
         ],
         "title": {
          "text": "Number of Unique Users"
         }
        }
       }
      }
     },
     "metadata": {},
     "output_type": "display_data"
    },
    {
     "data": {
      "application/vnd.plotly.v1+json": {
       "config": {
        "plotlyServerURL": "https://plot.ly"
       },
       "data": [
        {
         "name": "Unique Users",
         "type": "scatter",
         "x": [
          "2005-04-01T00:00:00.000000000",
          "2005-05-01T00:00:00.000000000",
          "2005-06-01T00:00:00.000000000",
          "2005-07-01T00:00:00.000000000",
          "2005-08-01T00:00:00.000000000",
          "2005-09-01T00:00:00.000000000",
          "2005-10-01T00:00:00.000000000",
          "2005-11-01T00:00:00.000000000",
          "2005-12-01T00:00:00.000000000",
          "2006-01-01T00:00:00.000000000",
          "2006-02-01T00:00:00.000000000",
          "2006-03-01T00:00:00.000000000",
          "2006-04-01T00:00:00.000000000",
          "2006-05-01T00:00:00.000000000",
          "2006-06-01T00:00:00.000000000",
          "2006-07-01T00:00:00.000000000",
          "2006-08-01T00:00:00.000000000",
          "2006-09-01T00:00:00.000000000",
          "2006-10-01T00:00:00.000000000",
          "2006-11-01T00:00:00.000000000",
          "2006-12-01T00:00:00.000000000",
          "2007-01-01T00:00:00.000000000",
          "2007-02-01T00:00:00.000000000",
          "2007-03-01T00:00:00.000000000",
          "2007-04-01T00:00:00.000000000",
          "2007-05-01T00:00:00.000000000",
          "2007-06-01T00:00:00.000000000",
          "2007-07-01T00:00:00.000000000",
          "2007-08-01T00:00:00.000000000",
          "2007-09-01T00:00:00.000000000",
          "2007-10-01T00:00:00.000000000",
          "2007-11-01T00:00:00.000000000",
          "2007-12-01T00:00:00.000000000",
          "2008-01-01T00:00:00.000000000",
          "2008-02-01T00:00:00.000000000",
          "2008-03-01T00:00:00.000000000",
          "2008-04-01T00:00:00.000000000",
          "2008-05-01T00:00:00.000000000",
          "2008-06-01T00:00:00.000000000",
          "2008-07-01T00:00:00.000000000",
          "2008-08-01T00:00:00.000000000",
          "2008-09-01T00:00:00.000000000",
          "2008-10-01T00:00:00.000000000",
          "2008-11-01T00:00:00.000000000",
          "2008-12-01T00:00:00.000000000",
          "2009-01-01T00:00:00.000000000",
          "2009-02-01T00:00:00.000000000",
          "2009-03-01T00:00:00.000000000",
          "2009-04-01T00:00:00.000000000",
          "2009-05-01T00:00:00.000000000",
          "2009-06-01T00:00:00.000000000",
          "2009-07-01T00:00:00.000000000",
          "2009-08-01T00:00:00.000000000",
          "2009-09-01T00:00:00.000000000",
          "2009-10-01T00:00:00.000000000",
          "2009-11-01T00:00:00.000000000",
          "2009-12-01T00:00:00.000000000",
          "2010-01-01T00:00:00.000000000",
          "2010-02-01T00:00:00.000000000",
          "2010-03-01T00:00:00.000000000",
          "2010-04-01T00:00:00.000000000",
          "2010-05-01T00:00:00.000000000",
          "2010-06-01T00:00:00.000000000",
          "2010-07-01T00:00:00.000000000",
          "2010-08-01T00:00:00.000000000",
          "2010-09-01T00:00:00.000000000",
          "2010-10-01T00:00:00.000000000",
          "2010-11-01T00:00:00.000000000",
          "2010-12-01T00:00:00.000000000",
          "2011-01-01T00:00:00.000000000",
          "2011-02-01T00:00:00.000000000",
          "2011-03-01T00:00:00.000000000",
          "2011-04-01T00:00:00.000000000",
          "2011-05-01T00:00:00.000000000",
          "2011-06-01T00:00:00.000000000",
          "2011-07-01T00:00:00.000000000",
          "2011-08-01T00:00:00.000000000",
          "2011-09-01T00:00:00.000000000",
          "2011-10-01T00:00:00.000000000",
          "2011-11-01T00:00:00.000000000",
          "2011-12-01T00:00:00.000000000",
          "2012-01-01T00:00:00.000000000",
          "2012-02-01T00:00:00.000000000",
          "2012-03-01T00:00:00.000000000",
          "2012-04-01T00:00:00.000000000",
          "2012-05-01T00:00:00.000000000",
          "2012-06-01T00:00:00.000000000",
          "2012-07-01T00:00:00.000000000",
          "2012-08-01T00:00:00.000000000",
          "2012-09-01T00:00:00.000000000",
          "2012-10-01T00:00:00.000000000",
          "2012-11-01T00:00:00.000000000",
          "2012-12-01T00:00:00.000000000",
          "2013-01-01T00:00:00.000000000",
          "2013-02-01T00:00:00.000000000",
          "2013-03-01T00:00:00.000000000",
          "2013-04-01T00:00:00.000000000",
          "2013-05-01T00:00:00.000000000",
          "2013-06-01T00:00:00.000000000",
          "2013-07-01T00:00:00.000000000",
          "2013-08-01T00:00:00.000000000",
          "2013-09-01T00:00:00.000000000",
          "2013-10-01T00:00:00.000000000",
          "2013-11-01T00:00:00.000000000",
          "2013-12-01T00:00:00.000000000",
          "2014-01-01T00:00:00.000000000",
          "2014-02-01T00:00:00.000000000",
          "2014-03-01T00:00:00.000000000",
          "2014-04-01T00:00:00.000000000",
          "2014-05-01T00:00:00.000000000",
          "2014-06-01T00:00:00.000000000",
          "2014-07-01T00:00:00.000000000",
          "2014-08-01T00:00:00.000000000",
          "2014-09-01T00:00:00.000000000",
          "2014-10-01T00:00:00.000000000",
          "2014-11-01T00:00:00.000000000",
          "2014-12-01T00:00:00.000000000",
          "2015-01-01T00:00:00.000000000",
          "2015-02-01T00:00:00.000000000",
          "2015-03-01T00:00:00.000000000",
          "2015-04-01T00:00:00.000000000",
          "2015-05-01T00:00:00.000000000",
          "2015-06-01T00:00:00.000000000",
          "2015-07-01T00:00:00.000000000",
          "2015-08-01T00:00:00.000000000",
          "2015-09-01T00:00:00.000000000",
          "2015-10-01T00:00:00.000000000",
          "2015-11-01T00:00:00.000000000",
          "2015-12-01T00:00:00.000000000",
          "2016-01-01T00:00:00.000000000",
          "2016-02-01T00:00:00.000000000",
          "2016-03-01T00:00:00.000000000",
          "2016-04-01T00:00:00.000000000",
          "2016-05-01T00:00:00.000000000",
          "2016-06-01T00:00:00.000000000",
          "2016-07-01T00:00:00.000000000",
          "2016-08-01T00:00:00.000000000",
          "2016-09-01T00:00:00.000000000",
          "2016-10-01T00:00:00.000000000",
          "2016-11-01T00:00:00.000000000",
          "2016-12-01T00:00:00.000000000",
          "2017-01-01T00:00:00.000000000",
          "2017-02-01T00:00:00.000000000",
          "2017-03-01T00:00:00.000000000",
          "2017-04-01T00:00:00.000000000",
          "2017-05-01T00:00:00.000000000",
          "2017-06-01T00:00:00.000000000",
          "2017-07-01T00:00:00.000000000",
          "2017-08-01T00:00:00.000000000",
          "2017-09-01T00:00:00.000000000",
          "2017-10-01T00:00:00.000000000",
          "2017-11-01T00:00:00.000000000",
          "2017-12-01T00:00:00.000000000",
          "2018-01-01T00:00:00.000000000",
          "2018-02-01T00:00:00.000000000",
          "2018-03-01T00:00:00.000000000",
          "2018-04-01T00:00:00.000000000",
          "2018-05-01T00:00:00.000000000",
          "2018-06-01T00:00:00.000000000",
          "2018-07-01T00:00:00.000000000",
          "2018-08-01T00:00:00.000000000",
          "2018-09-01T00:00:00.000000000",
          "2018-10-01T00:00:00.000000000",
          "2018-11-01T00:00:00.000000000",
          "2018-12-01T00:00:00.000000000",
          "2019-01-01T00:00:00.000000000",
          "2019-02-01T00:00:00.000000000",
          "2019-03-01T00:00:00.000000000",
          "2019-04-01T00:00:00.000000000",
          "2019-05-01T00:00:00.000000000",
          "2019-06-01T00:00:00.000000000",
          "2019-07-01T00:00:00.000000000",
          "2019-08-01T00:00:00.000000000",
          "2019-09-01T00:00:00.000000000",
          "2019-10-01T00:00:00.000000000",
          "2019-11-01T00:00:00.000000000",
          "2019-12-01T00:00:00.000000000",
          "2020-01-01T00:00:00.000000000",
          "2020-02-01T00:00:00.000000000",
          "2020-03-01T00:00:00.000000000",
          "2020-04-01T00:00:00.000000000",
          "2020-05-01T00:00:00.000000000",
          "2020-06-01T00:00:00.000000000",
          "2020-07-01T00:00:00.000000000",
          "2020-08-01T00:00:00.000000000",
          "2020-09-01T00:00:00.000000000",
          "2020-10-01T00:00:00.000000000",
          "2020-11-01T00:00:00.000000000",
          "2020-12-01T00:00:00.000000000",
          "2021-01-01T00:00:00.000000000",
          "2021-02-01T00:00:00.000000000",
          "2021-03-01T00:00:00.000000000",
          "2021-04-01T00:00:00.000000000",
          "2021-05-01T00:00:00.000000000",
          "2021-06-01T00:00:00.000000000",
          "2021-07-01T00:00:00.000000000",
          "2021-08-01T00:00:00.000000000",
          "2021-09-01T00:00:00.000000000",
          "2021-10-01T00:00:00.000000000",
          "2021-11-01T00:00:00.000000000",
          "2021-12-01T00:00:00.000000000",
          "2022-01-01T00:00:00.000000000",
          "2022-02-01T00:00:00.000000000",
          "2022-03-01T00:00:00.000000000",
          "2022-04-01T00:00:00.000000000"
         ],
         "xaxis": "x",
         "y": {
          "bdata": "BAAAAAUAAAAIAAAAEAAAABYAAAALAAAAFgAAACYAAAAsAAAAMwAAADAAAAA0AAAAUQAAAGUAAABfAAAAbQAAAIEAAACHAAAAmAAAAMYAAAD3AAAAFQEAAEcBAACtAQAA9gEAAGQCAABQAwAAfgMAAAkEAAAgBQAAaQcAAEIIAABlCAAACgoAADULAACDDAAADw4AAOkSAAAUFwAASRkAAFweAADXGwAAyRoAAKgaAACXGQAAZR4AAK8cAACZIgAAsyoAAF42AADnLwAAUjQAAME9AAAbQAAAcDgAAHo1AADLLAAAGjQAAHYwAAB1NQAAxjgAAJo3AADCNgAANDUAAEc8AAD7NwAA3jUAAEM2AABXNwAA7DkAAAs6AADmPQAA+0MAALZDAAAOSAAAP0cAAChCAABFPAAAxj8AABw9AAADPQAAikcAAF0+AACtXwAAKFUAADBQAACeUQAAlU8AAE9TAADwVwAAXVIAALtNAABsRgAAS1IAAJ1JAABfTAAAklAAACVmAACAWAAAelcAACRbAABqVwAAM1UAAPlYAAAVVAAACWcAAIZbAACWZwAA2WQAAGxjAAC3YAAArl8AALNxAABWYQAAXWUAANNiAABVXQAAH18AAPleAACSZgAAPXgAAE16AAAWbAAAF2kAAHNrAABGaQAA42oAAMtuAACiXAAAS2EAAMRiAABpaAAAwpgAANSOAAA5pgAAQqcAAOWzAACtsgAAqbQAALOrAACArwAAENEAAAy0AABZvgAALMAAAF28AABoqQAAPqwAAA2/AAAFvgAAiLgAAM+sAACjvAAAyMIAAACrAAAvugAADLoAABzFAAC+rwAAqrEAAGfKAADItgAAFcQAAIW0AADznAAAdKQAADGZAADetwAAlLwAACayAAAqpAAAsK8AAMmyAACutAAAGskAAP28AACwngAAFK4AAJelAACBnwAA+bUAAAzHAAC0ugAAcMkAAMDIAADhxgAA9MgAALHGAAB3sQAAN8UAAES6AACO1AAAV+IAAD3KAABLyAAAbMcAAAu9AABqwwAA8LwAAHSvAABznAAA9KMAADCdAAC/qwAAn4kAAA==",
          "dtype": "i4"
         },
         "yaxis": "y"
        },
        {
         "name": "Total Records",
         "type": "scatter",
         "x": [
          "2005-04-01T00:00:00.000000000",
          "2005-05-01T00:00:00.000000000",
          "2005-06-01T00:00:00.000000000",
          "2005-07-01T00:00:00.000000000",
          "2005-08-01T00:00:00.000000000",
          "2005-09-01T00:00:00.000000000",
          "2005-10-01T00:00:00.000000000",
          "2005-11-01T00:00:00.000000000",
          "2005-12-01T00:00:00.000000000",
          "2006-01-01T00:00:00.000000000",
          "2006-02-01T00:00:00.000000000",
          "2006-03-01T00:00:00.000000000",
          "2006-04-01T00:00:00.000000000",
          "2006-05-01T00:00:00.000000000",
          "2006-06-01T00:00:00.000000000",
          "2006-07-01T00:00:00.000000000",
          "2006-08-01T00:00:00.000000000",
          "2006-09-01T00:00:00.000000000",
          "2006-10-01T00:00:00.000000000",
          "2006-11-01T00:00:00.000000000",
          "2006-12-01T00:00:00.000000000",
          "2007-01-01T00:00:00.000000000",
          "2007-02-01T00:00:00.000000000",
          "2007-03-01T00:00:00.000000000",
          "2007-04-01T00:00:00.000000000",
          "2007-05-01T00:00:00.000000000",
          "2007-06-01T00:00:00.000000000",
          "2007-07-01T00:00:00.000000000",
          "2007-08-01T00:00:00.000000000",
          "2007-09-01T00:00:00.000000000",
          "2007-10-01T00:00:00.000000000",
          "2007-11-01T00:00:00.000000000",
          "2007-12-01T00:00:00.000000000",
          "2008-01-01T00:00:00.000000000",
          "2008-02-01T00:00:00.000000000",
          "2008-03-01T00:00:00.000000000",
          "2008-04-01T00:00:00.000000000",
          "2008-05-01T00:00:00.000000000",
          "2008-06-01T00:00:00.000000000",
          "2008-07-01T00:00:00.000000000",
          "2008-08-01T00:00:00.000000000",
          "2008-09-01T00:00:00.000000000",
          "2008-10-01T00:00:00.000000000",
          "2008-11-01T00:00:00.000000000",
          "2008-12-01T00:00:00.000000000",
          "2009-01-01T00:00:00.000000000",
          "2009-02-01T00:00:00.000000000",
          "2009-03-01T00:00:00.000000000",
          "2009-04-01T00:00:00.000000000",
          "2009-05-01T00:00:00.000000000",
          "2009-06-01T00:00:00.000000000",
          "2009-07-01T00:00:00.000000000",
          "2009-08-01T00:00:00.000000000",
          "2009-09-01T00:00:00.000000000",
          "2009-10-01T00:00:00.000000000",
          "2009-11-01T00:00:00.000000000",
          "2009-12-01T00:00:00.000000000",
          "2010-01-01T00:00:00.000000000",
          "2010-02-01T00:00:00.000000000",
          "2010-03-01T00:00:00.000000000",
          "2010-04-01T00:00:00.000000000",
          "2010-05-01T00:00:00.000000000",
          "2010-06-01T00:00:00.000000000",
          "2010-07-01T00:00:00.000000000",
          "2010-08-01T00:00:00.000000000",
          "2010-09-01T00:00:00.000000000",
          "2010-10-01T00:00:00.000000000",
          "2010-11-01T00:00:00.000000000",
          "2010-12-01T00:00:00.000000000",
          "2011-01-01T00:00:00.000000000",
          "2011-02-01T00:00:00.000000000",
          "2011-03-01T00:00:00.000000000",
          "2011-04-01T00:00:00.000000000",
          "2011-05-01T00:00:00.000000000",
          "2011-06-01T00:00:00.000000000",
          "2011-07-01T00:00:00.000000000",
          "2011-08-01T00:00:00.000000000",
          "2011-09-01T00:00:00.000000000",
          "2011-10-01T00:00:00.000000000",
          "2011-11-01T00:00:00.000000000",
          "2011-12-01T00:00:00.000000000",
          "2012-01-01T00:00:00.000000000",
          "2012-02-01T00:00:00.000000000",
          "2012-03-01T00:00:00.000000000",
          "2012-04-01T00:00:00.000000000",
          "2012-05-01T00:00:00.000000000",
          "2012-06-01T00:00:00.000000000",
          "2012-07-01T00:00:00.000000000",
          "2012-08-01T00:00:00.000000000",
          "2012-09-01T00:00:00.000000000",
          "2012-10-01T00:00:00.000000000",
          "2012-11-01T00:00:00.000000000",
          "2012-12-01T00:00:00.000000000",
          "2013-01-01T00:00:00.000000000",
          "2013-02-01T00:00:00.000000000",
          "2013-03-01T00:00:00.000000000",
          "2013-04-01T00:00:00.000000000",
          "2013-05-01T00:00:00.000000000",
          "2013-06-01T00:00:00.000000000",
          "2013-07-01T00:00:00.000000000",
          "2013-08-01T00:00:00.000000000",
          "2013-09-01T00:00:00.000000000",
          "2013-10-01T00:00:00.000000000",
          "2013-11-01T00:00:00.000000000",
          "2013-12-01T00:00:00.000000000",
          "2014-01-01T00:00:00.000000000",
          "2014-02-01T00:00:00.000000000",
          "2014-03-01T00:00:00.000000000",
          "2014-04-01T00:00:00.000000000",
          "2014-05-01T00:00:00.000000000",
          "2014-06-01T00:00:00.000000000",
          "2014-07-01T00:00:00.000000000",
          "2014-08-01T00:00:00.000000000",
          "2014-09-01T00:00:00.000000000",
          "2014-10-01T00:00:00.000000000",
          "2014-11-01T00:00:00.000000000",
          "2014-12-01T00:00:00.000000000",
          "2015-01-01T00:00:00.000000000",
          "2015-02-01T00:00:00.000000000",
          "2015-03-01T00:00:00.000000000",
          "2015-04-01T00:00:00.000000000",
          "2015-05-01T00:00:00.000000000",
          "2015-06-01T00:00:00.000000000",
          "2015-07-01T00:00:00.000000000",
          "2015-08-01T00:00:00.000000000",
          "2015-09-01T00:00:00.000000000",
          "2015-10-01T00:00:00.000000000",
          "2015-11-01T00:00:00.000000000",
          "2015-12-01T00:00:00.000000000",
          "2016-01-01T00:00:00.000000000",
          "2016-02-01T00:00:00.000000000",
          "2016-03-01T00:00:00.000000000",
          "2016-04-01T00:00:00.000000000",
          "2016-05-01T00:00:00.000000000",
          "2016-06-01T00:00:00.000000000",
          "2016-07-01T00:00:00.000000000",
          "2016-08-01T00:00:00.000000000",
          "2016-09-01T00:00:00.000000000",
          "2016-10-01T00:00:00.000000000",
          "2016-11-01T00:00:00.000000000",
          "2016-12-01T00:00:00.000000000",
          "2017-01-01T00:00:00.000000000",
          "2017-02-01T00:00:00.000000000",
          "2017-03-01T00:00:00.000000000",
          "2017-04-01T00:00:00.000000000",
          "2017-05-01T00:00:00.000000000",
          "2017-06-01T00:00:00.000000000",
          "2017-07-01T00:00:00.000000000",
          "2017-08-01T00:00:00.000000000",
          "2017-09-01T00:00:00.000000000",
          "2017-10-01T00:00:00.000000000",
          "2017-11-01T00:00:00.000000000",
          "2017-12-01T00:00:00.000000000",
          "2018-01-01T00:00:00.000000000",
          "2018-02-01T00:00:00.000000000",
          "2018-03-01T00:00:00.000000000",
          "2018-04-01T00:00:00.000000000",
          "2018-05-01T00:00:00.000000000",
          "2018-06-01T00:00:00.000000000",
          "2018-07-01T00:00:00.000000000",
          "2018-08-01T00:00:00.000000000",
          "2018-09-01T00:00:00.000000000",
          "2018-10-01T00:00:00.000000000",
          "2018-11-01T00:00:00.000000000",
          "2018-12-01T00:00:00.000000000",
          "2019-01-01T00:00:00.000000000",
          "2019-02-01T00:00:00.000000000",
          "2019-03-01T00:00:00.000000000",
          "2019-04-01T00:00:00.000000000",
          "2019-05-01T00:00:00.000000000",
          "2019-06-01T00:00:00.000000000",
          "2019-07-01T00:00:00.000000000",
          "2019-08-01T00:00:00.000000000",
          "2019-09-01T00:00:00.000000000",
          "2019-10-01T00:00:00.000000000",
          "2019-11-01T00:00:00.000000000",
          "2019-12-01T00:00:00.000000000",
          "2020-01-01T00:00:00.000000000",
          "2020-02-01T00:00:00.000000000",
          "2020-03-01T00:00:00.000000000",
          "2020-04-01T00:00:00.000000000",
          "2020-05-01T00:00:00.000000000",
          "2020-06-01T00:00:00.000000000",
          "2020-07-01T00:00:00.000000000",
          "2020-08-01T00:00:00.000000000",
          "2020-09-01T00:00:00.000000000",
          "2020-10-01T00:00:00.000000000",
          "2020-11-01T00:00:00.000000000",
          "2020-12-01T00:00:00.000000000",
          "2021-01-01T00:00:00.000000000",
          "2021-02-01T00:00:00.000000000",
          "2021-03-01T00:00:00.000000000",
          "2021-04-01T00:00:00.000000000",
          "2021-05-01T00:00:00.000000000",
          "2021-06-01T00:00:00.000000000",
          "2021-07-01T00:00:00.000000000",
          "2021-08-01T00:00:00.000000000",
          "2021-09-01T00:00:00.000000000",
          "2021-10-01T00:00:00.000000000",
          "2021-11-01T00:00:00.000000000",
          "2021-12-01T00:00:00.000000000",
          "2022-01-01T00:00:00.000000000",
          "2022-02-01T00:00:00.000000000",
          "2022-03-01T00:00:00.000000000",
          "2022-04-01T00:00:00.000000000"
         ],
         "xaxis": "x",
         "y": {
          "bdata": "CAAAAC0AAAAxAAAAYQAAAGsAAABbAAAAvQAAADMBAAAIAgAAzAIAAOoBAADsAQAAAgMAAGUEAADVAwAAxwUAAOoFAAAtBwAACQgAAA4JAAB0CwAAHg8AAKsQAAAXFgAAyxoAADUgAACVJwAAfycAAOkuAABZOwAA7U8AAGlQAAAZUQAAa14AAHtaAAA/bAAACXsAAOiMAACKswAAc8cAABfiAABw3AAA+MsAADjCAADRwAAAnuAAAILMAADx+QAA2/4CABA7BQB76gQA0J0EAPwUBQAwhwUAobMEAHzwAwCCtwMAL/cDADOrAwANWwQAFkgEAAuPBABIxwMAEc4DANRTBADdLQQAqPYEAOzOAwAS9QQA+/oEAMcyBAA3qAQAW1wEADhrBAD0ZgQAI3EEAIB+BAAQ8gMAXhwEAKGBBADP4AMA2oUEAE1ABACxKgUAfHkEAK2KBAD/sgQAaZcHAMigBQB6yAUASvAFAKEaBgDovwUAItgFACUnBQDvcwUAQZYFAALIBgB0FwYASCAGAKGvBgBiwAcAIwIIABWDCAAILwgAg7AIAHUMCADwCwkAKoUJAE5PCQBZPgsAIysQADNUCgCVmwkAzZMKAHk6CgDAgQoAc7gKAGikCQAQCgsA6PILAAFqDgAxqgoAQLIKAJ2ZCgDayQkAMNYJAAlICgBVXwkAULkJAFY7CQBTaAoAnBcMAGSMCgDPxAoAUHILAENpCgAT7AoAeqALAMOHCwDuUwsA1IYNAEDjCwDpJw0Aj4UOAH0NDQCSSwwA+uQLAHenDQDfog0AzHoNAMdVDAAz8AwA0XgNAAiFDABYMg4AMkYNAJlZDQAJNg0ApjsOALZhDgD0lg0AvgYPAJM6DwAvKg0Ag6UNAMr4DABUUhAAqYIPAEdXEACzXw4A+ukQAIaLEABhvhEAR5EUAI3SEwBN2RMAkzoUAP3cEgB3PRMAj6cXAGIdGABThhQA59wVADCKFQAVERgA/t0XAJs1GgALpRkAhzIaAN3JGQDKVB0AfFEcAFsSGgAhLRgAqVwaAL4LGAAZahUAvWwTADN4EgBhVxIA/pwSAJoPEQA/lhIAafAMAA==",
          "dtype": "i4"
         },
         "yaxis": "y2"
        }
       ],
       "layout": {
        "template": {
         "data": {
          "bar": [
           {
            "error_x": {
             "color": "#2a3f5f"
            },
            "error_y": {
             "color": "#2a3f5f"
            },
            "marker": {
             "line": {
              "color": "#E5ECF6",
              "width": 0.5
             },
             "pattern": {
              "fillmode": "overlay",
              "size": 10,
              "solidity": 0.2
             }
            },
            "type": "bar"
           }
          ],
          "barpolar": [
           {
            "marker": {
             "line": {
              "color": "#E5ECF6",
              "width": 0.5
             },
             "pattern": {
              "fillmode": "overlay",
              "size": 10,
              "solidity": 0.2
             }
            },
            "type": "barpolar"
           }
          ],
          "carpet": [
           {
            "aaxis": {
             "endlinecolor": "#2a3f5f",
             "gridcolor": "white",
             "linecolor": "white",
             "minorgridcolor": "white",
             "startlinecolor": "#2a3f5f"
            },
            "baxis": {
             "endlinecolor": "#2a3f5f",
             "gridcolor": "white",
             "linecolor": "white",
             "minorgridcolor": "white",
             "startlinecolor": "#2a3f5f"
            },
            "type": "carpet"
           }
          ],
          "choropleth": [
           {
            "colorbar": {
             "outlinewidth": 0,
             "ticks": ""
            },
            "type": "choropleth"
           }
          ],
          "contour": [
           {
            "colorbar": {
             "outlinewidth": 0,
             "ticks": ""
            },
            "colorscale": [
             [
              0,
              "#0d0887"
             ],
             [
              0.1111111111111111,
              "#46039f"
             ],
             [
              0.2222222222222222,
              "#7201a8"
             ],
             [
              0.3333333333333333,
              "#9c179e"
             ],
             [
              0.4444444444444444,
              "#bd3786"
             ],
             [
              0.5555555555555556,
              "#d8576b"
             ],
             [
              0.6666666666666666,
              "#ed7953"
             ],
             [
              0.7777777777777778,
              "#fb9f3a"
             ],
             [
              0.8888888888888888,
              "#fdca26"
             ],
             [
              1,
              "#f0f921"
             ]
            ],
            "type": "contour"
           }
          ],
          "contourcarpet": [
           {
            "colorbar": {
             "outlinewidth": 0,
             "ticks": ""
            },
            "type": "contourcarpet"
           }
          ],
          "heatmap": [
           {
            "colorbar": {
             "outlinewidth": 0,
             "ticks": ""
            },
            "colorscale": [
             [
              0,
              "#0d0887"
             ],
             [
              0.1111111111111111,
              "#46039f"
             ],
             [
              0.2222222222222222,
              "#7201a8"
             ],
             [
              0.3333333333333333,
              "#9c179e"
             ],
             [
              0.4444444444444444,
              "#bd3786"
             ],
             [
              0.5555555555555556,
              "#d8576b"
             ],
             [
              0.6666666666666666,
              "#ed7953"
             ],
             [
              0.7777777777777778,
              "#fb9f3a"
             ],
             [
              0.8888888888888888,
              "#fdca26"
             ],
             [
              1,
              "#f0f921"
             ]
            ],
            "type": "heatmap"
           }
          ],
          "histogram": [
           {
            "marker": {
             "pattern": {
              "fillmode": "overlay",
              "size": 10,
              "solidity": 0.2
             }
            },
            "type": "histogram"
           }
          ],
          "histogram2d": [
           {
            "colorbar": {
             "outlinewidth": 0,
             "ticks": ""
            },
            "colorscale": [
             [
              0,
              "#0d0887"
             ],
             [
              0.1111111111111111,
              "#46039f"
             ],
             [
              0.2222222222222222,
              "#7201a8"
             ],
             [
              0.3333333333333333,
              "#9c179e"
             ],
             [
              0.4444444444444444,
              "#bd3786"
             ],
             [
              0.5555555555555556,
              "#d8576b"
             ],
             [
              0.6666666666666666,
              "#ed7953"
             ],
             [
              0.7777777777777778,
              "#fb9f3a"
             ],
             [
              0.8888888888888888,
              "#fdca26"
             ],
             [
              1,
              "#f0f921"
             ]
            ],
            "type": "histogram2d"
           }
          ],
          "histogram2dcontour": [
           {
            "colorbar": {
             "outlinewidth": 0,
             "ticks": ""
            },
            "colorscale": [
             [
              0,
              "#0d0887"
             ],
             [
              0.1111111111111111,
              "#46039f"
             ],
             [
              0.2222222222222222,
              "#7201a8"
             ],
             [
              0.3333333333333333,
              "#9c179e"
             ],
             [
              0.4444444444444444,
              "#bd3786"
             ],
             [
              0.5555555555555556,
              "#d8576b"
             ],
             [
              0.6666666666666666,
              "#ed7953"
             ],
             [
              0.7777777777777778,
              "#fb9f3a"
             ],
             [
              0.8888888888888888,
              "#fdca26"
             ],
             [
              1,
              "#f0f921"
             ]
            ],
            "type": "histogram2dcontour"
           }
          ],
          "mesh3d": [
           {
            "colorbar": {
             "outlinewidth": 0,
             "ticks": ""
            },
            "type": "mesh3d"
           }
          ],
          "parcoords": [
           {
            "line": {
             "colorbar": {
              "outlinewidth": 0,
              "ticks": ""
             }
            },
            "type": "parcoords"
           }
          ],
          "pie": [
           {
            "automargin": true,
            "type": "pie"
           }
          ],
          "scatter": [
           {
            "fillpattern": {
             "fillmode": "overlay",
             "size": 10,
             "solidity": 0.2
            },
            "type": "scatter"
           }
          ],
          "scatter3d": [
           {
            "line": {
             "colorbar": {
              "outlinewidth": 0,
              "ticks": ""
             }
            },
            "marker": {
             "colorbar": {
              "outlinewidth": 0,
              "ticks": ""
             }
            },
            "type": "scatter3d"
           }
          ],
          "scattercarpet": [
           {
            "marker": {
             "colorbar": {
              "outlinewidth": 0,
              "ticks": ""
             }
            },
            "type": "scattercarpet"
           }
          ],
          "scattergeo": [
           {
            "marker": {
             "colorbar": {
              "outlinewidth": 0,
              "ticks": ""
             }
            },
            "type": "scattergeo"
           }
          ],
          "scattergl": [
           {
            "marker": {
             "colorbar": {
              "outlinewidth": 0,
              "ticks": ""
             }
            },
            "type": "scattergl"
           }
          ],
          "scattermap": [
           {
            "marker": {
             "colorbar": {
              "outlinewidth": 0,
              "ticks": ""
             }
            },
            "type": "scattermap"
           }
          ],
          "scattermapbox": [
           {
            "marker": {
             "colorbar": {
              "outlinewidth": 0,
              "ticks": ""
             }
            },
            "type": "scattermapbox"
           }
          ],
          "scatterpolar": [
           {
            "marker": {
             "colorbar": {
              "outlinewidth": 0,
              "ticks": ""
             }
            },
            "type": "scatterpolar"
           }
          ],
          "scatterpolargl": [
           {
            "marker": {
             "colorbar": {
              "outlinewidth": 0,
              "ticks": ""
             }
            },
            "type": "scatterpolargl"
           }
          ],
          "scatterternary": [
           {
            "marker": {
             "colorbar": {
              "outlinewidth": 0,
              "ticks": ""
             }
            },
            "type": "scatterternary"
           }
          ],
          "surface": [
           {
            "colorbar": {
             "outlinewidth": 0,
             "ticks": ""
            },
            "colorscale": [
             [
              0,
              "#0d0887"
             ],
             [
              0.1111111111111111,
              "#46039f"
             ],
             [
              0.2222222222222222,
              "#7201a8"
             ],
             [
              0.3333333333333333,
              "#9c179e"
             ],
             [
              0.4444444444444444,
              "#bd3786"
             ],
             [
              0.5555555555555556,
              "#d8576b"
             ],
             [
              0.6666666666666666,
              "#ed7953"
             ],
             [
              0.7777777777777778,
              "#fb9f3a"
             ],
             [
              0.8888888888888888,
              "#fdca26"
             ],
             [
              1,
              "#f0f921"
             ]
            ],
            "type": "surface"
           }
          ],
          "table": [
           {
            "cells": {
             "fill": {
              "color": "#EBF0F8"
             },
             "line": {
              "color": "white"
             }
            },
            "header": {
             "fill": {
              "color": "#C8D4E3"
             },
             "line": {
              "color": "white"
             }
            },
            "type": "table"
           }
          ]
         },
         "layout": {
          "annotationdefaults": {
           "arrowcolor": "#2a3f5f",
           "arrowhead": 0,
           "arrowwidth": 1
          },
          "autotypenumbers": "strict",
          "coloraxis": {
           "colorbar": {
            "outlinewidth": 0,
            "ticks": ""
           }
          },
          "colorscale": {
           "diverging": [
            [
             0,
             "#8e0152"
            ],
            [
             0.1,
             "#c51b7d"
            ],
            [
             0.2,
             "#de77ae"
            ],
            [
             0.3,
             "#f1b6da"
            ],
            [
             0.4,
             "#fde0ef"
            ],
            [
             0.5,
             "#f7f7f7"
            ],
            [
             0.6,
             "#e6f5d0"
            ],
            [
             0.7,
             "#b8e186"
            ],
            [
             0.8,
             "#7fbc41"
            ],
            [
             0.9,
             "#4d9221"
            ],
            [
             1,
             "#276419"
            ]
           ],
           "sequential": [
            [
             0,
             "#0d0887"
            ],
            [
             0.1111111111111111,
             "#46039f"
            ],
            [
             0.2222222222222222,
             "#7201a8"
            ],
            [
             0.3333333333333333,
             "#9c179e"
            ],
            [
             0.4444444444444444,
             "#bd3786"
            ],
            [
             0.5555555555555556,
             "#d8576b"
            ],
            [
             0.6666666666666666,
             "#ed7953"
            ],
            [
             0.7777777777777778,
             "#fb9f3a"
            ],
            [
             0.8888888888888888,
             "#fdca26"
            ],
            [
             1,
             "#f0f921"
            ]
           ],
           "sequentialminus": [
            [
             0,
             "#0d0887"
            ],
            [
             0.1111111111111111,
             "#46039f"
            ],
            [
             0.2222222222222222,
             "#7201a8"
            ],
            [
             0.3333333333333333,
             "#9c179e"
            ],
            [
             0.4444444444444444,
             "#bd3786"
            ],
            [
             0.5555555555555556,
             "#d8576b"
            ],
            [
             0.6666666666666666,
             "#ed7953"
            ],
            [
             0.7777777777777778,
             "#fb9f3a"
            ],
            [
             0.8888888888888888,
             "#fdca26"
            ],
            [
             1,
             "#f0f921"
            ]
           ]
          },
          "colorway": [
           "#636efa",
           "#EF553B",
           "#00cc96",
           "#ab63fa",
           "#FFA15A",
           "#19d3f3",
           "#FF6692",
           "#B6E880",
           "#FF97FF",
           "#FECB52"
          ],
          "font": {
           "color": "#2a3f5f"
          },
          "geo": {
           "bgcolor": "white",
           "lakecolor": "white",
           "landcolor": "#E5ECF6",
           "showlakes": true,
           "showland": true,
           "subunitcolor": "white"
          },
          "hoverlabel": {
           "align": "left"
          },
          "hovermode": "closest",
          "mapbox": {
           "style": "light"
          },
          "paper_bgcolor": "white",
          "plot_bgcolor": "#E5ECF6",
          "polar": {
           "angularaxis": {
            "gridcolor": "white",
            "linecolor": "white",
            "ticks": ""
           },
           "bgcolor": "#E5ECF6",
           "radialaxis": {
            "gridcolor": "white",
            "linecolor": "white",
            "ticks": ""
           }
          },
          "scene": {
           "xaxis": {
            "backgroundcolor": "#E5ECF6",
            "gridcolor": "white",
            "gridwidth": 2,
            "linecolor": "white",
            "showbackground": true,
            "ticks": "",
            "zerolinecolor": "white"
           },
           "yaxis": {
            "backgroundcolor": "#E5ECF6",
            "gridcolor": "white",
            "gridwidth": 2,
            "linecolor": "white",
            "showbackground": true,
            "ticks": "",
            "zerolinecolor": "white"
           },
           "zaxis": {
            "backgroundcolor": "#E5ECF6",
            "gridcolor": "white",
            "gridwidth": 2,
            "linecolor": "white",
            "showbackground": true,
            "ticks": "",
            "zerolinecolor": "white"
           }
          },
          "shapedefaults": {
           "line": {
            "color": "#2a3f5f"
           }
          },
          "ternary": {
           "aaxis": {
            "gridcolor": "white",
            "linecolor": "white",
            "ticks": ""
           },
           "baxis": {
            "gridcolor": "white",
            "linecolor": "white",
            "ticks": ""
           },
           "bgcolor": "#E5ECF6",
           "caxis": {
            "gridcolor": "white",
            "linecolor": "white",
            "ticks": ""
           }
          },
          "title": {
           "x": 0.05
          },
          "xaxis": {
           "automargin": true,
           "gridcolor": "white",
           "linecolor": "white",
           "ticks": "",
           "title": {
            "standoff": 15
           },
           "zerolinecolor": "white",
           "zerolinewidth": 2
          },
          "yaxis": {
           "automargin": true,
           "gridcolor": "white",
           "linecolor": "white",
           "ticks": "",
           "title": {
            "standoff": 15
           },
           "zerolinecolor": "white",
           "zerolinewidth": 2
          }
         }
        },
        "title": {
         "text": "User Activity Over Time"
        },
        "xaxis": {
         "anchor": "y",
         "domain": [
          0,
          0.94
         ],
         "title": {
          "text": "Date"
         }
        },
        "yaxis": {
         "anchor": "x",
         "domain": [
          0,
          1
         ],
         "title": {
          "text": "Unique Users"
         }
        },
        "yaxis2": {
         "anchor": "x",
         "overlaying": "y",
         "side": "right",
         "title": {
          "text": "Total Records"
         }
        }
       }
      }
     },
     "metadata": {},
     "output_type": "display_data"
    },
    {
     "data": {
      "application/vnd.plotly.v1+json": {
       "config": {
        "plotlyServerURL": "https://plot.ly"
       },
       "data": [
        {
         "hovertemplate": "date=%{x}<br>Number of Unique Users=%{y}<extra></extra>",
         "legendgroup": "",
         "marker": {
          "color": "#636efa",
          "pattern": {
           "shape": ""
          }
         },
         "name": "",
         "orientation": "v",
         "showlegend": false,
         "textposition": "auto",
         "type": "bar",
         "x": [
          "2005-04-01T00:00:00.000000000",
          "2005-05-01T00:00:00.000000000",
          "2005-06-01T00:00:00.000000000",
          "2005-07-01T00:00:00.000000000",
          "2005-08-01T00:00:00.000000000",
          "2005-09-01T00:00:00.000000000",
          "2005-10-01T00:00:00.000000000",
          "2005-11-01T00:00:00.000000000",
          "2005-12-01T00:00:00.000000000",
          "2006-01-01T00:00:00.000000000",
          "2006-02-01T00:00:00.000000000",
          "2006-03-01T00:00:00.000000000",
          "2006-04-01T00:00:00.000000000",
          "2006-05-01T00:00:00.000000000",
          "2006-06-01T00:00:00.000000000",
          "2006-07-01T00:00:00.000000000",
          "2006-08-01T00:00:00.000000000",
          "2006-09-01T00:00:00.000000000",
          "2006-10-01T00:00:00.000000000",
          "2006-11-01T00:00:00.000000000",
          "2006-12-01T00:00:00.000000000",
          "2007-01-01T00:00:00.000000000",
          "2007-02-01T00:00:00.000000000",
          "2007-03-01T00:00:00.000000000",
          "2007-04-01T00:00:00.000000000",
          "2007-05-01T00:00:00.000000000",
          "2007-06-01T00:00:00.000000000",
          "2007-07-01T00:00:00.000000000",
          "2007-08-01T00:00:00.000000000",
          "2007-09-01T00:00:00.000000000",
          "2007-10-01T00:00:00.000000000",
          "2007-11-01T00:00:00.000000000",
          "2007-12-01T00:00:00.000000000",
          "2008-01-01T00:00:00.000000000",
          "2008-02-01T00:00:00.000000000",
          "2008-03-01T00:00:00.000000000",
          "2008-04-01T00:00:00.000000000",
          "2008-05-01T00:00:00.000000000",
          "2008-06-01T00:00:00.000000000",
          "2008-07-01T00:00:00.000000000",
          "2008-08-01T00:00:00.000000000",
          "2008-09-01T00:00:00.000000000",
          "2008-10-01T00:00:00.000000000",
          "2008-11-01T00:00:00.000000000",
          "2008-12-01T00:00:00.000000000",
          "2009-01-01T00:00:00.000000000",
          "2009-02-01T00:00:00.000000000",
          "2009-03-01T00:00:00.000000000",
          "2009-04-01T00:00:00.000000000",
          "2009-05-01T00:00:00.000000000",
          "2009-06-01T00:00:00.000000000",
          "2009-07-01T00:00:00.000000000",
          "2009-08-01T00:00:00.000000000",
          "2009-09-01T00:00:00.000000000",
          "2009-10-01T00:00:00.000000000",
          "2009-11-01T00:00:00.000000000",
          "2009-12-01T00:00:00.000000000",
          "2010-01-01T00:00:00.000000000",
          "2010-02-01T00:00:00.000000000",
          "2010-03-01T00:00:00.000000000",
          "2010-04-01T00:00:00.000000000",
          "2010-05-01T00:00:00.000000000",
          "2010-06-01T00:00:00.000000000",
          "2010-07-01T00:00:00.000000000",
          "2010-08-01T00:00:00.000000000",
          "2010-09-01T00:00:00.000000000",
          "2010-10-01T00:00:00.000000000",
          "2010-11-01T00:00:00.000000000",
          "2010-12-01T00:00:00.000000000",
          "2011-01-01T00:00:00.000000000",
          "2011-02-01T00:00:00.000000000",
          "2011-03-01T00:00:00.000000000",
          "2011-04-01T00:00:00.000000000",
          "2011-05-01T00:00:00.000000000",
          "2011-06-01T00:00:00.000000000",
          "2011-07-01T00:00:00.000000000",
          "2011-08-01T00:00:00.000000000",
          "2011-09-01T00:00:00.000000000",
          "2011-10-01T00:00:00.000000000",
          "2011-11-01T00:00:00.000000000",
          "2011-12-01T00:00:00.000000000",
          "2012-01-01T00:00:00.000000000",
          "2012-02-01T00:00:00.000000000",
          "2012-03-01T00:00:00.000000000",
          "2012-04-01T00:00:00.000000000",
          "2012-05-01T00:00:00.000000000",
          "2012-06-01T00:00:00.000000000",
          "2012-07-01T00:00:00.000000000",
          "2012-08-01T00:00:00.000000000",
          "2012-09-01T00:00:00.000000000",
          "2012-10-01T00:00:00.000000000",
          "2012-11-01T00:00:00.000000000",
          "2012-12-01T00:00:00.000000000",
          "2013-01-01T00:00:00.000000000",
          "2013-02-01T00:00:00.000000000",
          "2013-03-01T00:00:00.000000000",
          "2013-04-01T00:00:00.000000000",
          "2013-05-01T00:00:00.000000000",
          "2013-06-01T00:00:00.000000000",
          "2013-07-01T00:00:00.000000000",
          "2013-08-01T00:00:00.000000000",
          "2013-09-01T00:00:00.000000000",
          "2013-10-01T00:00:00.000000000",
          "2013-11-01T00:00:00.000000000",
          "2013-12-01T00:00:00.000000000",
          "2014-01-01T00:00:00.000000000",
          "2014-02-01T00:00:00.000000000",
          "2014-03-01T00:00:00.000000000",
          "2014-04-01T00:00:00.000000000",
          "2014-05-01T00:00:00.000000000",
          "2014-06-01T00:00:00.000000000",
          "2014-07-01T00:00:00.000000000",
          "2014-08-01T00:00:00.000000000",
          "2014-09-01T00:00:00.000000000",
          "2014-10-01T00:00:00.000000000",
          "2014-11-01T00:00:00.000000000",
          "2014-12-01T00:00:00.000000000",
          "2015-01-01T00:00:00.000000000",
          "2015-02-01T00:00:00.000000000",
          "2015-03-01T00:00:00.000000000",
          "2015-04-01T00:00:00.000000000",
          "2015-05-01T00:00:00.000000000",
          "2015-06-01T00:00:00.000000000",
          "2015-07-01T00:00:00.000000000",
          "2015-08-01T00:00:00.000000000",
          "2015-09-01T00:00:00.000000000",
          "2015-10-01T00:00:00.000000000",
          "2015-11-01T00:00:00.000000000",
          "2015-12-01T00:00:00.000000000",
          "2016-01-01T00:00:00.000000000",
          "2016-02-01T00:00:00.000000000",
          "2016-03-01T00:00:00.000000000",
          "2016-04-01T00:00:00.000000000",
          "2016-05-01T00:00:00.000000000",
          "2016-06-01T00:00:00.000000000",
          "2016-07-01T00:00:00.000000000",
          "2016-08-01T00:00:00.000000000",
          "2016-09-01T00:00:00.000000000",
          "2016-10-01T00:00:00.000000000",
          "2016-11-01T00:00:00.000000000",
          "2016-12-01T00:00:00.000000000",
          "2017-01-01T00:00:00.000000000",
          "2017-02-01T00:00:00.000000000",
          "2017-03-01T00:00:00.000000000",
          "2017-04-01T00:00:00.000000000",
          "2017-05-01T00:00:00.000000000",
          "2017-06-01T00:00:00.000000000",
          "2017-07-01T00:00:00.000000000",
          "2017-08-01T00:00:00.000000000",
          "2017-09-01T00:00:00.000000000",
          "2017-10-01T00:00:00.000000000",
          "2017-11-01T00:00:00.000000000",
          "2017-12-01T00:00:00.000000000",
          "2018-01-01T00:00:00.000000000",
          "2018-02-01T00:00:00.000000000",
          "2018-03-01T00:00:00.000000000",
          "2018-04-01T00:00:00.000000000",
          "2018-05-01T00:00:00.000000000",
          "2018-06-01T00:00:00.000000000",
          "2018-07-01T00:00:00.000000000",
          "2018-08-01T00:00:00.000000000",
          "2018-09-01T00:00:00.000000000",
          "2018-10-01T00:00:00.000000000",
          "2018-11-01T00:00:00.000000000",
          "2018-12-01T00:00:00.000000000",
          "2019-01-01T00:00:00.000000000",
          "2019-02-01T00:00:00.000000000",
          "2019-03-01T00:00:00.000000000",
          "2019-04-01T00:00:00.000000000",
          "2019-05-01T00:00:00.000000000",
          "2019-06-01T00:00:00.000000000",
          "2019-07-01T00:00:00.000000000",
          "2019-08-01T00:00:00.000000000",
          "2019-09-01T00:00:00.000000000",
          "2019-10-01T00:00:00.000000000",
          "2019-11-01T00:00:00.000000000",
          "2019-12-01T00:00:00.000000000",
          "2020-01-01T00:00:00.000000000",
          "2020-02-01T00:00:00.000000000",
          "2020-03-01T00:00:00.000000000",
          "2020-04-01T00:00:00.000000000",
          "2020-05-01T00:00:00.000000000",
          "2020-06-01T00:00:00.000000000",
          "2020-07-01T00:00:00.000000000",
          "2020-08-01T00:00:00.000000000",
          "2020-09-01T00:00:00.000000000",
          "2020-10-01T00:00:00.000000000",
          "2020-11-01T00:00:00.000000000",
          "2020-12-01T00:00:00.000000000",
          "2021-01-01T00:00:00.000000000",
          "2021-02-01T00:00:00.000000000",
          "2021-03-01T00:00:00.000000000",
          "2021-04-01T00:00:00.000000000",
          "2021-05-01T00:00:00.000000000",
          "2021-06-01T00:00:00.000000000",
          "2021-07-01T00:00:00.000000000",
          "2021-08-01T00:00:00.000000000",
          "2021-09-01T00:00:00.000000000",
          "2021-10-01T00:00:00.000000000",
          "2021-11-01T00:00:00.000000000",
          "2021-12-01T00:00:00.000000000",
          "2022-01-01T00:00:00.000000000",
          "2022-02-01T00:00:00.000000000",
          "2022-03-01T00:00:00.000000000",
          "2022-04-01T00:00:00.000000000"
         ],
         "xaxis": "x",
         "y": {
          "bdata": "BAAAAAUAAAAIAAAAEAAAABYAAAALAAAAFgAAACYAAAAsAAAAMwAAADAAAAA0AAAAUQAAAGUAAABfAAAAbQAAAIEAAACHAAAAmAAAAMYAAAD3AAAAFQEAAEcBAACtAQAA9gEAAGQCAABQAwAAfgMAAAkEAAAgBQAAaQcAAEIIAABlCAAACgoAADULAACDDAAADw4AAOkSAAAUFwAASRkAAFweAADXGwAAyRoAAKgaAACXGQAAZR4AAK8cAACZIgAAsyoAAF42AADnLwAAUjQAAME9AAAbQAAAcDgAAHo1AADLLAAAGjQAAHYwAAB1NQAAxjgAAJo3AADCNgAANDUAAEc8AAD7NwAA3jUAAEM2AABXNwAA7DkAAAs6AADmPQAA+0MAALZDAAAOSAAAP0cAAChCAABFPAAAxj8AABw9AAADPQAAikcAAF0+AACtXwAAKFUAADBQAACeUQAAlU8AAE9TAADwVwAAXVIAALtNAABsRgAAS1IAAJ1JAABfTAAAklAAACVmAACAWAAAelcAACRbAABqVwAAM1UAAPlYAAAVVAAACWcAAIZbAACWZwAA2WQAAGxjAAC3YAAArl8AALNxAABWYQAAXWUAANNiAABVXQAAH18AAPleAACSZgAAPXgAAE16AAAWbAAAF2kAAHNrAABGaQAA42oAAMtuAACiXAAAS2EAAMRiAABpaAAAwpgAANSOAAA5pgAAQqcAAOWzAACtsgAAqbQAALOrAACArwAAENEAAAy0AABZvgAALMAAAF28AABoqQAAPqwAAA2/AAAFvgAAiLgAAM+sAACjvAAAyMIAAACrAAAvugAADLoAABzFAAC+rwAAqrEAAGfKAADItgAAFcQAAIW0AADznAAAdKQAADGZAADetwAAlLwAACayAAAqpAAAsK8AAMmyAACutAAAGskAAP28AACwngAAFK4AAJelAACBnwAA+bUAAAzHAAC0ugAAcMkAAMDIAADhxgAA9MgAALHGAAB3sQAAN8UAAES6AACO1AAAV+IAAD3KAABLyAAAbMcAAAu9AABqwwAA8LwAAHSvAABznAAA9KMAADCdAAC/qwAAn4kAAA==",
          "dtype": "i4"
         },
         "yaxis": "y"
        }
       ],
       "layout": {
        "barmode": "relative",
        "legend": {
         "tracegroupgap": 0
        },
        "template": {
         "data": {
          "bar": [
           {
            "error_x": {
             "color": "#2a3f5f"
            },
            "error_y": {
             "color": "#2a3f5f"
            },
            "marker": {
             "line": {
              "color": "#E5ECF6",
              "width": 0.5
             },
             "pattern": {
              "fillmode": "overlay",
              "size": 10,
              "solidity": 0.2
             }
            },
            "type": "bar"
           }
          ],
          "barpolar": [
           {
            "marker": {
             "line": {
              "color": "#E5ECF6",
              "width": 0.5
             },
             "pattern": {
              "fillmode": "overlay",
              "size": 10,
              "solidity": 0.2
             }
            },
            "type": "barpolar"
           }
          ],
          "carpet": [
           {
            "aaxis": {
             "endlinecolor": "#2a3f5f",
             "gridcolor": "white",
             "linecolor": "white",
             "minorgridcolor": "white",
             "startlinecolor": "#2a3f5f"
            },
            "baxis": {
             "endlinecolor": "#2a3f5f",
             "gridcolor": "white",
             "linecolor": "white",
             "minorgridcolor": "white",
             "startlinecolor": "#2a3f5f"
            },
            "type": "carpet"
           }
          ],
          "choropleth": [
           {
            "colorbar": {
             "outlinewidth": 0,
             "ticks": ""
            },
            "type": "choropleth"
           }
          ],
          "contour": [
           {
            "colorbar": {
             "outlinewidth": 0,
             "ticks": ""
            },
            "colorscale": [
             [
              0,
              "#0d0887"
             ],
             [
              0.1111111111111111,
              "#46039f"
             ],
             [
              0.2222222222222222,
              "#7201a8"
             ],
             [
              0.3333333333333333,
              "#9c179e"
             ],
             [
              0.4444444444444444,
              "#bd3786"
             ],
             [
              0.5555555555555556,
              "#d8576b"
             ],
             [
              0.6666666666666666,
              "#ed7953"
             ],
             [
              0.7777777777777778,
              "#fb9f3a"
             ],
             [
              0.8888888888888888,
              "#fdca26"
             ],
             [
              1,
              "#f0f921"
             ]
            ],
            "type": "contour"
           }
          ],
          "contourcarpet": [
           {
            "colorbar": {
             "outlinewidth": 0,
             "ticks": ""
            },
            "type": "contourcarpet"
           }
          ],
          "heatmap": [
           {
            "colorbar": {
             "outlinewidth": 0,
             "ticks": ""
            },
            "colorscale": [
             [
              0,
              "#0d0887"
             ],
             [
              0.1111111111111111,
              "#46039f"
             ],
             [
              0.2222222222222222,
              "#7201a8"
             ],
             [
              0.3333333333333333,
              "#9c179e"
             ],
             [
              0.4444444444444444,
              "#bd3786"
             ],
             [
              0.5555555555555556,
              "#d8576b"
             ],
             [
              0.6666666666666666,
              "#ed7953"
             ],
             [
              0.7777777777777778,
              "#fb9f3a"
             ],
             [
              0.8888888888888888,
              "#fdca26"
             ],
             [
              1,
              "#f0f921"
             ]
            ],
            "type": "heatmap"
           }
          ],
          "histogram": [
           {
            "marker": {
             "pattern": {
              "fillmode": "overlay",
              "size": 10,
              "solidity": 0.2
             }
            },
            "type": "histogram"
           }
          ],
          "histogram2d": [
           {
            "colorbar": {
             "outlinewidth": 0,
             "ticks": ""
            },
            "colorscale": [
             [
              0,
              "#0d0887"
             ],
             [
              0.1111111111111111,
              "#46039f"
             ],
             [
              0.2222222222222222,
              "#7201a8"
             ],
             [
              0.3333333333333333,
              "#9c179e"
             ],
             [
              0.4444444444444444,
              "#bd3786"
             ],
             [
              0.5555555555555556,
              "#d8576b"
             ],
             [
              0.6666666666666666,
              "#ed7953"
             ],
             [
              0.7777777777777778,
              "#fb9f3a"
             ],
             [
              0.8888888888888888,
              "#fdca26"
             ],
             [
              1,
              "#f0f921"
             ]
            ],
            "type": "histogram2d"
           }
          ],
          "histogram2dcontour": [
           {
            "colorbar": {
             "outlinewidth": 0,
             "ticks": ""
            },
            "colorscale": [
             [
              0,
              "#0d0887"
             ],
             [
              0.1111111111111111,
              "#46039f"
             ],
             [
              0.2222222222222222,
              "#7201a8"
             ],
             [
              0.3333333333333333,
              "#9c179e"
             ],
             [
              0.4444444444444444,
              "#bd3786"
             ],
             [
              0.5555555555555556,
              "#d8576b"
             ],
             [
              0.6666666666666666,
              "#ed7953"
             ],
             [
              0.7777777777777778,
              "#fb9f3a"
             ],
             [
              0.8888888888888888,
              "#fdca26"
             ],
             [
              1,
              "#f0f921"
             ]
            ],
            "type": "histogram2dcontour"
           }
          ],
          "mesh3d": [
           {
            "colorbar": {
             "outlinewidth": 0,
             "ticks": ""
            },
            "type": "mesh3d"
           }
          ],
          "parcoords": [
           {
            "line": {
             "colorbar": {
              "outlinewidth": 0,
              "ticks": ""
             }
            },
            "type": "parcoords"
           }
          ],
          "pie": [
           {
            "automargin": true,
            "type": "pie"
           }
          ],
          "scatter": [
           {
            "fillpattern": {
             "fillmode": "overlay",
             "size": 10,
             "solidity": 0.2
            },
            "type": "scatter"
           }
          ],
          "scatter3d": [
           {
            "line": {
             "colorbar": {
              "outlinewidth": 0,
              "ticks": ""
             }
            },
            "marker": {
             "colorbar": {
              "outlinewidth": 0,
              "ticks": ""
             }
            },
            "type": "scatter3d"
           }
          ],
          "scattercarpet": [
           {
            "marker": {
             "colorbar": {
              "outlinewidth": 0,
              "ticks": ""
             }
            },
            "type": "scattercarpet"
           }
          ],
          "scattergeo": [
           {
            "marker": {
             "colorbar": {
              "outlinewidth": 0,
              "ticks": ""
             }
            },
            "type": "scattergeo"
           }
          ],
          "scattergl": [
           {
            "marker": {
             "colorbar": {
              "outlinewidth": 0,
              "ticks": ""
             }
            },
            "type": "scattergl"
           }
          ],
          "scattermap": [
           {
            "marker": {
             "colorbar": {
              "outlinewidth": 0,
              "ticks": ""
             }
            },
            "type": "scattermap"
           }
          ],
          "scattermapbox": [
           {
            "marker": {
             "colorbar": {
              "outlinewidth": 0,
              "ticks": ""
             }
            },
            "type": "scattermapbox"
           }
          ],
          "scatterpolar": [
           {
            "marker": {
             "colorbar": {
              "outlinewidth": 0,
              "ticks": ""
             }
            },
            "type": "scatterpolar"
           }
          ],
          "scatterpolargl": [
           {
            "marker": {
             "colorbar": {
              "outlinewidth": 0,
              "ticks": ""
             }
            },
            "type": "scatterpolargl"
           }
          ],
          "scatterternary": [
           {
            "marker": {
             "colorbar": {
              "outlinewidth": 0,
              "ticks": ""
             }
            },
            "type": "scatterternary"
           }
          ],
          "surface": [
           {
            "colorbar": {
             "outlinewidth": 0,
             "ticks": ""
            },
            "colorscale": [
             [
              0,
              "#0d0887"
             ],
             [
              0.1111111111111111,
              "#46039f"
             ],
             [
              0.2222222222222222,
              "#7201a8"
             ],
             [
              0.3333333333333333,
              "#9c179e"
             ],
             [
              0.4444444444444444,
              "#bd3786"
             ],
             [
              0.5555555555555556,
              "#d8576b"
             ],
             [
              0.6666666666666666,
              "#ed7953"
             ],
             [
              0.7777777777777778,
              "#fb9f3a"
             ],
             [
              0.8888888888888888,
              "#fdca26"
             ],
             [
              1,
              "#f0f921"
             ]
            ],
            "type": "surface"
           }
          ],
          "table": [
           {
            "cells": {
             "fill": {
              "color": "#EBF0F8"
             },
             "line": {
              "color": "white"
             }
            },
            "header": {
             "fill": {
              "color": "#C8D4E3"
             },
             "line": {
              "color": "white"
             }
            },
            "type": "table"
           }
          ]
         },
         "layout": {
          "annotationdefaults": {
           "arrowcolor": "#2a3f5f",
           "arrowhead": 0,
           "arrowwidth": 1
          },
          "autotypenumbers": "strict",
          "coloraxis": {
           "colorbar": {
            "outlinewidth": 0,
            "ticks": ""
           }
          },
          "colorscale": {
           "diverging": [
            [
             0,
             "#8e0152"
            ],
            [
             0.1,
             "#c51b7d"
            ],
            [
             0.2,
             "#de77ae"
            ],
            [
             0.3,
             "#f1b6da"
            ],
            [
             0.4,
             "#fde0ef"
            ],
            [
             0.5,
             "#f7f7f7"
            ],
            [
             0.6,
             "#e6f5d0"
            ],
            [
             0.7,
             "#b8e186"
            ],
            [
             0.8,
             "#7fbc41"
            ],
            [
             0.9,
             "#4d9221"
            ],
            [
             1,
             "#276419"
            ]
           ],
           "sequential": [
            [
             0,
             "#0d0887"
            ],
            [
             0.1111111111111111,
             "#46039f"
            ],
            [
             0.2222222222222222,
             "#7201a8"
            ],
            [
             0.3333333333333333,
             "#9c179e"
            ],
            [
             0.4444444444444444,
             "#bd3786"
            ],
            [
             0.5555555555555556,
             "#d8576b"
            ],
            [
             0.6666666666666666,
             "#ed7953"
            ],
            [
             0.7777777777777778,
             "#fb9f3a"
            ],
            [
             0.8888888888888888,
             "#fdca26"
            ],
            [
             1,
             "#f0f921"
            ]
           ],
           "sequentialminus": [
            [
             0,
             "#0d0887"
            ],
            [
             0.1111111111111111,
             "#46039f"
            ],
            [
             0.2222222222222222,
             "#7201a8"
            ],
            [
             0.3333333333333333,
             "#9c179e"
            ],
            [
             0.4444444444444444,
             "#bd3786"
            ],
            [
             0.5555555555555556,
             "#d8576b"
            ],
            [
             0.6666666666666666,
             "#ed7953"
            ],
            [
             0.7777777777777778,
             "#fb9f3a"
            ],
            [
             0.8888888888888888,
             "#fdca26"
            ],
            [
             1,
             "#f0f921"
            ]
           ]
          },
          "colorway": [
           "#636efa",
           "#EF553B",
           "#00cc96",
           "#ab63fa",
           "#FFA15A",
           "#19d3f3",
           "#FF6692",
           "#B6E880",
           "#FF97FF",
           "#FECB52"
          ],
          "font": {
           "color": "#2a3f5f"
          },
          "geo": {
           "bgcolor": "white",
           "lakecolor": "white",
           "landcolor": "#E5ECF6",
           "showlakes": true,
           "showland": true,
           "subunitcolor": "white"
          },
          "hoverlabel": {
           "align": "left"
          },
          "hovermode": "closest",
          "mapbox": {
           "style": "light"
          },
          "paper_bgcolor": "white",
          "plot_bgcolor": "#E5ECF6",
          "polar": {
           "angularaxis": {
            "gridcolor": "white",
            "linecolor": "white",
            "ticks": ""
           },
           "bgcolor": "#E5ECF6",
           "radialaxis": {
            "gridcolor": "white",
            "linecolor": "white",
            "ticks": ""
           }
          },
          "scene": {
           "xaxis": {
            "backgroundcolor": "#E5ECF6",
            "gridcolor": "white",
            "gridwidth": 2,
            "linecolor": "white",
            "showbackground": true,
            "ticks": "",
            "zerolinecolor": "white"
           },
           "yaxis": {
            "backgroundcolor": "#E5ECF6",
            "gridcolor": "white",
            "gridwidth": 2,
            "linecolor": "white",
            "showbackground": true,
            "ticks": "",
            "zerolinecolor": "white"
           },
           "zaxis": {
            "backgroundcolor": "#E5ECF6",
            "gridcolor": "white",
            "gridwidth": 2,
            "linecolor": "white",
            "showbackground": true,
            "ticks": "",
            "zerolinecolor": "white"
           }
          },
          "shapedefaults": {
           "line": {
            "color": "#2a3f5f"
           }
          },
          "ternary": {
           "aaxis": {
            "gridcolor": "white",
            "linecolor": "white",
            "ticks": ""
           },
           "baxis": {
            "gridcolor": "white",
            "linecolor": "white",
            "ticks": ""
           },
           "bgcolor": "#E5ECF6",
           "caxis": {
            "gridcolor": "white",
            "linecolor": "white",
            "ticks": ""
           }
          },
          "title": {
           "x": 0.05
          },
          "xaxis": {
           "automargin": true,
           "gridcolor": "white",
           "linecolor": "white",
           "ticks": "",
           "title": {
            "standoff": 15
           },
           "zerolinecolor": "white",
           "zerolinewidth": 2
          },
          "yaxis": {
           "automargin": true,
           "gridcolor": "white",
           "linecolor": "white",
           "ticks": "",
           "title": {
            "standoff": 15
           },
           "zerolinecolor": "white",
           "zerolinewidth": 2
          }
         }
        },
        "title": {
         "text": "Monthly Unique Users"
        },
        "xaxis": {
         "anchor": "y",
         "domain": [
          0,
          1
         ],
         "title": {
          "text": "date"
         }
        },
        "yaxis": {
         "anchor": "x",
         "domain": [
          0,
          1
         ],
         "title": {
          "text": "Number of Unique Users"
         }
        }
       }
      }
     },
     "metadata": {},
     "output_type": "display_data"
    },
    {
     "data": {
      "application/vnd.plotly.v1+json": {
       "config": {
        "plotlyServerURL": "https://plot.ly"
       },
       "data": [
        {
         "hovertemplate": "date=%{x}<br>Average Edits per User=%{y}<extra></extra>",
         "legendgroup": "",
         "line": {
          "color": "#636efa",
          "dash": "solid"
         },
         "marker": {
          "symbol": "circle"
         },
         "mode": "lines",
         "name": "",
         "orientation": "v",
         "showlegend": false,
         "type": "scatter",
         "x": [
          "2005-04-01T00:00:00.000000000",
          "2005-05-01T00:00:00.000000000",
          "2005-06-01T00:00:00.000000000",
          "2005-07-01T00:00:00.000000000",
          "2005-08-01T00:00:00.000000000",
          "2005-09-01T00:00:00.000000000",
          "2005-10-01T00:00:00.000000000",
          "2005-11-01T00:00:00.000000000",
          "2005-12-01T00:00:00.000000000",
          "2006-01-01T00:00:00.000000000",
          "2006-02-01T00:00:00.000000000",
          "2006-03-01T00:00:00.000000000",
          "2006-04-01T00:00:00.000000000",
          "2006-05-01T00:00:00.000000000",
          "2006-06-01T00:00:00.000000000",
          "2006-07-01T00:00:00.000000000",
          "2006-08-01T00:00:00.000000000",
          "2006-09-01T00:00:00.000000000",
          "2006-10-01T00:00:00.000000000",
          "2006-11-01T00:00:00.000000000",
          "2006-12-01T00:00:00.000000000",
          "2007-01-01T00:00:00.000000000",
          "2007-02-01T00:00:00.000000000",
          "2007-03-01T00:00:00.000000000",
          "2007-04-01T00:00:00.000000000",
          "2007-05-01T00:00:00.000000000",
          "2007-06-01T00:00:00.000000000",
          "2007-07-01T00:00:00.000000000",
          "2007-08-01T00:00:00.000000000",
          "2007-09-01T00:00:00.000000000",
          "2007-10-01T00:00:00.000000000",
          "2007-11-01T00:00:00.000000000",
          "2007-12-01T00:00:00.000000000",
          "2008-01-01T00:00:00.000000000",
          "2008-02-01T00:00:00.000000000",
          "2008-03-01T00:00:00.000000000",
          "2008-04-01T00:00:00.000000000",
          "2008-05-01T00:00:00.000000000",
          "2008-06-01T00:00:00.000000000",
          "2008-07-01T00:00:00.000000000",
          "2008-08-01T00:00:00.000000000",
          "2008-09-01T00:00:00.000000000",
          "2008-10-01T00:00:00.000000000",
          "2008-11-01T00:00:00.000000000",
          "2008-12-01T00:00:00.000000000",
          "2009-01-01T00:00:00.000000000",
          "2009-02-01T00:00:00.000000000",
          "2009-03-01T00:00:00.000000000",
          "2009-04-01T00:00:00.000000000",
          "2009-05-01T00:00:00.000000000",
          "2009-06-01T00:00:00.000000000",
          "2009-07-01T00:00:00.000000000",
          "2009-08-01T00:00:00.000000000",
          "2009-09-01T00:00:00.000000000",
          "2009-10-01T00:00:00.000000000",
          "2009-11-01T00:00:00.000000000",
          "2009-12-01T00:00:00.000000000",
          "2010-01-01T00:00:00.000000000",
          "2010-02-01T00:00:00.000000000",
          "2010-03-01T00:00:00.000000000",
          "2010-04-01T00:00:00.000000000",
          "2010-05-01T00:00:00.000000000",
          "2010-06-01T00:00:00.000000000",
          "2010-07-01T00:00:00.000000000",
          "2010-08-01T00:00:00.000000000",
          "2010-09-01T00:00:00.000000000",
          "2010-10-01T00:00:00.000000000",
          "2010-11-01T00:00:00.000000000",
          "2010-12-01T00:00:00.000000000",
          "2011-01-01T00:00:00.000000000",
          "2011-02-01T00:00:00.000000000",
          "2011-03-01T00:00:00.000000000",
          "2011-04-01T00:00:00.000000000",
          "2011-05-01T00:00:00.000000000",
          "2011-06-01T00:00:00.000000000",
          "2011-07-01T00:00:00.000000000",
          "2011-08-01T00:00:00.000000000",
          "2011-09-01T00:00:00.000000000",
          "2011-10-01T00:00:00.000000000",
          "2011-11-01T00:00:00.000000000",
          "2011-12-01T00:00:00.000000000",
          "2012-01-01T00:00:00.000000000",
          "2012-02-01T00:00:00.000000000",
          "2012-03-01T00:00:00.000000000",
          "2012-04-01T00:00:00.000000000",
          "2012-05-01T00:00:00.000000000",
          "2012-06-01T00:00:00.000000000",
          "2012-07-01T00:00:00.000000000",
          "2012-08-01T00:00:00.000000000",
          "2012-09-01T00:00:00.000000000",
          "2012-10-01T00:00:00.000000000",
          "2012-11-01T00:00:00.000000000",
          "2012-12-01T00:00:00.000000000",
          "2013-01-01T00:00:00.000000000",
          "2013-02-01T00:00:00.000000000",
          "2013-03-01T00:00:00.000000000",
          "2013-04-01T00:00:00.000000000",
          "2013-05-01T00:00:00.000000000",
          "2013-06-01T00:00:00.000000000",
          "2013-07-01T00:00:00.000000000",
          "2013-08-01T00:00:00.000000000",
          "2013-09-01T00:00:00.000000000",
          "2013-10-01T00:00:00.000000000",
          "2013-11-01T00:00:00.000000000",
          "2013-12-01T00:00:00.000000000",
          "2014-01-01T00:00:00.000000000",
          "2014-02-01T00:00:00.000000000",
          "2014-03-01T00:00:00.000000000",
          "2014-04-01T00:00:00.000000000",
          "2014-05-01T00:00:00.000000000",
          "2014-06-01T00:00:00.000000000",
          "2014-07-01T00:00:00.000000000",
          "2014-08-01T00:00:00.000000000",
          "2014-09-01T00:00:00.000000000",
          "2014-10-01T00:00:00.000000000",
          "2014-11-01T00:00:00.000000000",
          "2014-12-01T00:00:00.000000000",
          "2015-01-01T00:00:00.000000000",
          "2015-02-01T00:00:00.000000000",
          "2015-03-01T00:00:00.000000000",
          "2015-04-01T00:00:00.000000000",
          "2015-05-01T00:00:00.000000000",
          "2015-06-01T00:00:00.000000000",
          "2015-07-01T00:00:00.000000000",
          "2015-08-01T00:00:00.000000000",
          "2015-09-01T00:00:00.000000000",
          "2015-10-01T00:00:00.000000000",
          "2015-11-01T00:00:00.000000000",
          "2015-12-01T00:00:00.000000000",
          "2016-01-01T00:00:00.000000000",
          "2016-02-01T00:00:00.000000000",
          "2016-03-01T00:00:00.000000000",
          "2016-04-01T00:00:00.000000000",
          "2016-05-01T00:00:00.000000000",
          "2016-06-01T00:00:00.000000000",
          "2016-07-01T00:00:00.000000000",
          "2016-08-01T00:00:00.000000000",
          "2016-09-01T00:00:00.000000000",
          "2016-10-01T00:00:00.000000000",
          "2016-11-01T00:00:00.000000000",
          "2016-12-01T00:00:00.000000000",
          "2017-01-01T00:00:00.000000000",
          "2017-02-01T00:00:00.000000000",
          "2017-03-01T00:00:00.000000000",
          "2017-04-01T00:00:00.000000000",
          "2017-05-01T00:00:00.000000000",
          "2017-06-01T00:00:00.000000000",
          "2017-07-01T00:00:00.000000000",
          "2017-08-01T00:00:00.000000000",
          "2017-09-01T00:00:00.000000000",
          "2017-10-01T00:00:00.000000000",
          "2017-11-01T00:00:00.000000000",
          "2017-12-01T00:00:00.000000000",
          "2018-01-01T00:00:00.000000000",
          "2018-02-01T00:00:00.000000000",
          "2018-03-01T00:00:00.000000000",
          "2018-04-01T00:00:00.000000000",
          "2018-05-01T00:00:00.000000000",
          "2018-06-01T00:00:00.000000000",
          "2018-07-01T00:00:00.000000000",
          "2018-08-01T00:00:00.000000000",
          "2018-09-01T00:00:00.000000000",
          "2018-10-01T00:00:00.000000000",
          "2018-11-01T00:00:00.000000000",
          "2018-12-01T00:00:00.000000000",
          "2019-01-01T00:00:00.000000000",
          "2019-02-01T00:00:00.000000000",
          "2019-03-01T00:00:00.000000000",
          "2019-04-01T00:00:00.000000000",
          "2019-05-01T00:00:00.000000000",
          "2019-06-01T00:00:00.000000000",
          "2019-07-01T00:00:00.000000000",
          "2019-08-01T00:00:00.000000000",
          "2019-09-01T00:00:00.000000000",
          "2019-10-01T00:00:00.000000000",
          "2019-11-01T00:00:00.000000000",
          "2019-12-01T00:00:00.000000000",
          "2020-01-01T00:00:00.000000000",
          "2020-02-01T00:00:00.000000000",
          "2020-03-01T00:00:00.000000000",
          "2020-04-01T00:00:00.000000000",
          "2020-05-01T00:00:00.000000000",
          "2020-06-01T00:00:00.000000000",
          "2020-07-01T00:00:00.000000000",
          "2020-08-01T00:00:00.000000000",
          "2020-09-01T00:00:00.000000000",
          "2020-10-01T00:00:00.000000000",
          "2020-11-01T00:00:00.000000000",
          "2020-12-01T00:00:00.000000000",
          "2021-01-01T00:00:00.000000000",
          "2021-02-01T00:00:00.000000000",
          "2021-03-01T00:00:00.000000000",
          "2021-04-01T00:00:00.000000000",
          "2021-05-01T00:00:00.000000000",
          "2021-06-01T00:00:00.000000000",
          "2021-07-01T00:00:00.000000000",
          "2021-08-01T00:00:00.000000000",
          "2021-09-01T00:00:00.000000000",
          "2021-10-01T00:00:00.000000000",
          "2021-11-01T00:00:00.000000000",
          "2021-12-01T00:00:00.000000000",
          "2022-01-01T00:00:00.000000000",
          "2022-02-01T00:00:00.000000000",
          "2022-03-01T00:00:00.000000000",
          "2022-04-01T00:00:00.000000000"
         ],
         "xaxis": "x",
         "y": {
          "bdata": "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",
          "dtype": "f8"
         },
         "yaxis": "y"
        }
       ],
       "layout": {
        "legend": {
         "tracegroupgap": 0
        },
        "template": {
         "data": {
          "bar": [
           {
            "error_x": {
             "color": "#2a3f5f"
            },
            "error_y": {
             "color": "#2a3f5f"
            },
            "marker": {
             "line": {
              "color": "#E5ECF6",
              "width": 0.5
             },
             "pattern": {
              "fillmode": "overlay",
              "size": 10,
              "solidity": 0.2
             }
            },
            "type": "bar"
           }
          ],
          "barpolar": [
           {
            "marker": {
             "line": {
              "color": "#E5ECF6",
              "width": 0.5
             },
             "pattern": {
              "fillmode": "overlay",
              "size": 10,
              "solidity": 0.2
             }
            },
            "type": "barpolar"
           }
          ],
          "carpet": [
           {
            "aaxis": {
             "endlinecolor": "#2a3f5f",
             "gridcolor": "white",
             "linecolor": "white",
             "minorgridcolor": "white",
             "startlinecolor": "#2a3f5f"
            },
            "baxis": {
             "endlinecolor": "#2a3f5f",
             "gridcolor": "white",
             "linecolor": "white",
             "minorgridcolor": "white",
             "startlinecolor": "#2a3f5f"
            },
            "type": "carpet"
           }
          ],
          "choropleth": [
           {
            "colorbar": {
             "outlinewidth": 0,
             "ticks": ""
            },
            "type": "choropleth"
           }
          ],
          "contour": [
           {
            "colorbar": {
             "outlinewidth": 0,
             "ticks": ""
            },
            "colorscale": [
             [
              0,
              "#0d0887"
             ],
             [
              0.1111111111111111,
              "#46039f"
             ],
             [
              0.2222222222222222,
              "#7201a8"
             ],
             [
              0.3333333333333333,
              "#9c179e"
             ],
             [
              0.4444444444444444,
              "#bd3786"
             ],
             [
              0.5555555555555556,
              "#d8576b"
             ],
             [
              0.6666666666666666,
              "#ed7953"
             ],
             [
              0.7777777777777778,
              "#fb9f3a"
             ],
             [
              0.8888888888888888,
              "#fdca26"
             ],
             [
              1,
              "#f0f921"
             ]
            ],
            "type": "contour"
           }
          ],
          "contourcarpet": [
           {
            "colorbar": {
             "outlinewidth": 0,
             "ticks": ""
            },
            "type": "contourcarpet"
           }
          ],
          "heatmap": [
           {
            "colorbar": {
             "outlinewidth": 0,
             "ticks": ""
            },
            "colorscale": [
             [
              0,
              "#0d0887"
             ],
             [
              0.1111111111111111,
              "#46039f"
             ],
             [
              0.2222222222222222,
              "#7201a8"
             ],
             [
              0.3333333333333333,
              "#9c179e"
             ],
             [
              0.4444444444444444,
              "#bd3786"
             ],
             [
              0.5555555555555556,
              "#d8576b"
             ],
             [
              0.6666666666666666,
              "#ed7953"
             ],
             [
              0.7777777777777778,
              "#fb9f3a"
             ],
             [
              0.8888888888888888,
              "#fdca26"
             ],
             [
              1,
              "#f0f921"
             ]
            ],
            "type": "heatmap"
           }
          ],
          "histogram": [
           {
            "marker": {
             "pattern": {
              "fillmode": "overlay",
              "size": 10,
              "solidity": 0.2
             }
            },
            "type": "histogram"
           }
          ],
          "histogram2d": [
           {
            "colorbar": {
             "outlinewidth": 0,
             "ticks": ""
            },
            "colorscale": [
             [
              0,
              "#0d0887"
             ],
             [
              0.1111111111111111,
              "#46039f"
             ],
             [
              0.2222222222222222,
              "#7201a8"
             ],
             [
              0.3333333333333333,
              "#9c179e"
             ],
             [
              0.4444444444444444,
              "#bd3786"
             ],
             [
              0.5555555555555556,
              "#d8576b"
             ],
             [
              0.6666666666666666,
              "#ed7953"
             ],
             [
              0.7777777777777778,
              "#fb9f3a"
             ],
             [
              0.8888888888888888,
              "#fdca26"
             ],
             [
              1,
              "#f0f921"
             ]
            ],
            "type": "histogram2d"
           }
          ],
          "histogram2dcontour": [
           {
            "colorbar": {
             "outlinewidth": 0,
             "ticks": ""
            },
            "colorscale": [
             [
              0,
              "#0d0887"
             ],
             [
              0.1111111111111111,
              "#46039f"
             ],
             [
              0.2222222222222222,
              "#7201a8"
             ],
             [
              0.3333333333333333,
              "#9c179e"
             ],
             [
              0.4444444444444444,
              "#bd3786"
             ],
             [
              0.5555555555555556,
              "#d8576b"
             ],
             [
              0.6666666666666666,
              "#ed7953"
             ],
             [
              0.7777777777777778,
              "#fb9f3a"
             ],
             [
              0.8888888888888888,
              "#fdca26"
             ],
             [
              1,
              "#f0f921"
             ]
            ],
            "type": "histogram2dcontour"
           }
          ],
          "mesh3d": [
           {
            "colorbar": {
             "outlinewidth": 0,
             "ticks": ""
            },
            "type": "mesh3d"
           }
          ],
          "parcoords": [
           {
            "line": {
             "colorbar": {
              "outlinewidth": 0,
              "ticks": ""
             }
            },
            "type": "parcoords"
           }
          ],
          "pie": [
           {
            "automargin": true,
            "type": "pie"
           }
          ],
          "scatter": [
           {
            "fillpattern": {
             "fillmode": "overlay",
             "size": 10,
             "solidity": 0.2
            },
            "type": "scatter"
           }
          ],
          "scatter3d": [
           {
            "line": {
             "colorbar": {
              "outlinewidth": 0,
              "ticks": ""
             }
            },
            "marker": {
             "colorbar": {
              "outlinewidth": 0,
              "ticks": ""
             }
            },
            "type": "scatter3d"
           }
          ],
          "scattercarpet": [
           {
            "marker": {
             "colorbar": {
              "outlinewidth": 0,
              "ticks": ""
             }
            },
            "type": "scattercarpet"
           }
          ],
          "scattergeo": [
           {
            "marker": {
             "colorbar": {
              "outlinewidth": 0,
              "ticks": ""
             }
            },
            "type": "scattergeo"
           }
          ],
          "scattergl": [
           {
            "marker": {
             "colorbar": {
              "outlinewidth": 0,
              "ticks": ""
             }
            },
            "type": "scattergl"
           }
          ],
          "scattermap": [
           {
            "marker": {
             "colorbar": {
              "outlinewidth": 0,
              "ticks": ""
             }
            },
            "type": "scattermap"
           }
          ],
          "scattermapbox": [
           {
            "marker": {
             "colorbar": {
              "outlinewidth": 0,
              "ticks": ""
             }
            },
            "type": "scattermapbox"
           }
          ],
          "scatterpolar": [
           {
            "marker": {
             "colorbar": {
              "outlinewidth": 0,
              "ticks": ""
             }
            },
            "type": "scatterpolar"
           }
          ],
          "scatterpolargl": [
           {
            "marker": {
             "colorbar": {
              "outlinewidth": 0,
              "ticks": ""
             }
            },
            "type": "scatterpolargl"
           }
          ],
          "scatterternary": [
           {
            "marker": {
             "colorbar": {
              "outlinewidth": 0,
              "ticks": ""
             }
            },
            "type": "scatterternary"
           }
          ],
          "surface": [
           {
            "colorbar": {
             "outlinewidth": 0,
             "ticks": ""
            },
            "colorscale": [
             [
              0,
              "#0d0887"
             ],
             [
              0.1111111111111111,
              "#46039f"
             ],
             [
              0.2222222222222222,
              "#7201a8"
             ],
             [
              0.3333333333333333,
              "#9c179e"
             ],
             [
              0.4444444444444444,
              "#bd3786"
             ],
             [
              0.5555555555555556,
              "#d8576b"
             ],
             [
              0.6666666666666666,
              "#ed7953"
             ],
             [
              0.7777777777777778,
              "#fb9f3a"
             ],
             [
              0.8888888888888888,
              "#fdca26"
             ],
             [
              1,
              "#f0f921"
             ]
            ],
            "type": "surface"
           }
          ],
          "table": [
           {
            "cells": {
             "fill": {
              "color": "#EBF0F8"
             },
             "line": {
              "color": "white"
             }
            },
            "header": {
             "fill": {
              "color": "#C8D4E3"
             },
             "line": {
              "color": "white"
             }
            },
            "type": "table"
           }
          ]
         },
         "layout": {
          "annotationdefaults": {
           "arrowcolor": "#2a3f5f",
           "arrowhead": 0,
           "arrowwidth": 1
          },
          "autotypenumbers": "strict",
          "coloraxis": {
           "colorbar": {
            "outlinewidth": 0,
            "ticks": ""
           }
          },
          "colorscale": {
           "diverging": [
            [
             0,
             "#8e0152"
            ],
            [
             0.1,
             "#c51b7d"
            ],
            [
             0.2,
             "#de77ae"
            ],
            [
             0.3,
             "#f1b6da"
            ],
            [
             0.4,
             "#fde0ef"
            ],
            [
             0.5,
             "#f7f7f7"
            ],
            [
             0.6,
             "#e6f5d0"
            ],
            [
             0.7,
             "#b8e186"
            ],
            [
             0.8,
             "#7fbc41"
            ],
            [
             0.9,
             "#4d9221"
            ],
            [
             1,
             "#276419"
            ]
           ],
           "sequential": [
            [
             0,
             "#0d0887"
            ],
            [
             0.1111111111111111,
             "#46039f"
            ],
            [
             0.2222222222222222,
             "#7201a8"
            ],
            [
             0.3333333333333333,
             "#9c179e"
            ],
            [
             0.4444444444444444,
             "#bd3786"
            ],
            [
             0.5555555555555556,
             "#d8576b"
            ],
            [
             0.6666666666666666,
             "#ed7953"
            ],
            [
             0.7777777777777778,
             "#fb9f3a"
            ],
            [
             0.8888888888888888,
             "#fdca26"
            ],
            [
             1,
             "#f0f921"
            ]
           ],
           "sequentialminus": [
            [
             0,
             "#0d0887"
            ],
            [
             0.1111111111111111,
             "#46039f"
            ],
            [
             0.2222222222222222,
             "#7201a8"
            ],
            [
             0.3333333333333333,
             "#9c179e"
            ],
            [
             0.4444444444444444,
             "#bd3786"
            ],
            [
             0.5555555555555556,
             "#d8576b"
            ],
            [
             0.6666666666666666,
             "#ed7953"
            ],
            [
             0.7777777777777778,
             "#fb9f3a"
            ],
            [
             0.8888888888888888,
             "#fdca26"
            ],
            [
             1,
             "#f0f921"
            ]
           ]
          },
          "colorway": [
           "#636efa",
           "#EF553B",
           "#00cc96",
           "#ab63fa",
           "#FFA15A",
           "#19d3f3",
           "#FF6692",
           "#B6E880",
           "#FF97FF",
           "#FECB52"
          ],
          "font": {
           "color": "#2a3f5f"
          },
          "geo": {
           "bgcolor": "white",
           "lakecolor": "white",
           "landcolor": "#E5ECF6",
           "showlakes": true,
           "showland": true,
           "subunitcolor": "white"
          },
          "hoverlabel": {
           "align": "left"
          },
          "hovermode": "closest",
          "mapbox": {
           "style": "light"
          },
          "paper_bgcolor": "white",
          "plot_bgcolor": "#E5ECF6",
          "polar": {
           "angularaxis": {
            "gridcolor": "white",
            "linecolor": "white",
            "ticks": ""
           },
           "bgcolor": "#E5ECF6",
           "radialaxis": {
            "gridcolor": "white",
            "linecolor": "white",
            "ticks": ""
           }
          },
          "scene": {
           "xaxis": {
            "backgroundcolor": "#E5ECF6",
            "gridcolor": "white",
            "gridwidth": 2,
            "linecolor": "white",
            "showbackground": true,
            "ticks": "",
            "zerolinecolor": "white"
           },
           "yaxis": {
            "backgroundcolor": "#E5ECF6",
            "gridcolor": "white",
            "gridwidth": 2,
            "linecolor": "white",
            "showbackground": true,
            "ticks": "",
            "zerolinecolor": "white"
           },
           "zaxis": {
            "backgroundcolor": "#E5ECF6",
            "gridcolor": "white",
            "gridwidth": 2,
            "linecolor": "white",
            "showbackground": true,
            "ticks": "",
            "zerolinecolor": "white"
           }
          },
          "shapedefaults": {
           "line": {
            "color": "#2a3f5f"
           }
          },
          "ternary": {
           "aaxis": {
            "gridcolor": "white",
            "linecolor": "white",
            "ticks": ""
           },
           "baxis": {
            "gridcolor": "white",
            "linecolor": "white",
            "ticks": ""
           },
           "bgcolor": "#E5ECF6",
           "caxis": {
            "gridcolor": "white",
            "linecolor": "white",
            "ticks": ""
           }
          },
          "title": {
           "x": 0.05
          },
          "xaxis": {
           "automargin": true,
           "gridcolor": "white",
           "linecolor": "white",
           "ticks": "",
           "title": {
            "standoff": 15
           },
           "zerolinecolor": "white",
           "zerolinewidth": 2
          },
          "yaxis": {
           "automargin": true,
           "gridcolor": "white",
           "linecolor": "white",
           "ticks": "",
           "title": {
            "standoff": 15
           },
           "zerolinecolor": "white",
           "zerolinewidth": 2
          }
         }
        },
        "title": {
         "text": "Average Edits per User Over Time"
        },
        "xaxis": {
         "anchor": "y",
         "domain": [
          0,
          1
         ],
         "title": {
          "text": "date"
         }
        },
        "yaxis": {
         "anchor": "x",
         "domain": [
          0,
          1
         ],
         "title": {
          "text": "Average Edits per User"
         }
        }
       }
      }
     },
     "metadata": {},
     "output_type": "display_data"
    }
   ],
   "source": [
    "import pandas as pd\n",
    "import plotly.express as px\n",
    "import plotly.graph_objects as go\n",
    "from plotly.subplots import make_subplots\n",
    "\n",
    "# Convert date column to datetime for better plotting\n",
    "result['date'] = pd.to_datetime(result['date'])\n",
    "\n",
    "# Method 1: Simple line plot of unique users over time\n",
    "fig1 = px.line(result, x='date', y='unique_users', \n",
    "               title='Unique Users Over Time',\n",
    "               labels={'unique_users': 'Number of Unique Users', 'date': 'Date'})\n",
    "fig1.show()\n",
    "\n",
    "# Method 2: Dual y-axis plot (unique users + total records)\n",
    "fig2 = make_subplots(specs=[[{\"secondary_y\": True}]])\n",
    "\n",
    "fig2.add_trace(\n",
    "    go.Scatter(x=result['date'], y=result['unique_users'], name=\"Unique Users\"),\n",
    "    secondary_y=False,\n",
    ")\n",
    "\n",
    "fig2.add_trace(\n",
    "    go.Scatter(x=result['date'], y=result['total_records'], name=\"Total Records\"),\n",
    "    secondary_y=True,\n",
    ")\n",
    "\n",
    "fig2.update_xaxes(title_text=\"Date\")\n",
    "fig2.update_yaxes(title_text=\"Unique Users\", secondary_y=False)\n",
    "fig2.update_yaxes(title_text=\"Total Records\", secondary_y=True)\n",
    "fig2.update_layout(title_text=\"User Activity Over Time\")\n",
    "fig2.show()\n",
    "\n",
    "# Method 3: Bar chart\n",
    "fig3 = px.bar(result, x='date', y='unique_users',\n",
    "              title='Monthly Unique Users',\n",
    "              labels={'unique_users': 'Number of Unique Users'})\n",
    "fig3.show()\n",
    "\n",
    "# Method 4: Add average edits per user\n",
    "result['avg_edits_per_user'] = result['total_records'] / result['unique_users']\n",
    "\n",
    "fig4 = px.line(result, x='date', y='avg_edits_per_user',\n",
    "               title='Average Edits per User Over Time',\n",
    "               labels={'avg_edits_per_user': 'Average Edits per User'})\n",
    "fig4.show()"
   ]
  },
  {
   "cell_type": "code",
   "execution_count": null,
   "metadata": {},
   "outputs": [],
   "source": []
  },
  {
   "cell_type": "code",
   "execution_count": null,
   "metadata": {},
   "outputs": [],
   "source": []
  },
  {
   "cell_type": "code",
   "execution_count": null,
   "metadata": {},
   "outputs": [],
   "source": []
  },
  {
   "cell_type": "code",
   "execution_count": null,
   "metadata": {},
   "outputs": [],
   "source": [
    "import pyarrow.parquet as pq\n",
    "import pyarrow.compute as pc\n",
    "\n",
    "# Read as PyArrow table (zero-copy, fastest)\n",
    "table = pq.read_table('changesets_debug.parquet')\n",
    "\n",
    "# Schema shows proper types\n",
    "#print(table.schema)\n",
    "# year: int16\n",
    "# imagery_used: list<element: string>\n",
    "# all_tags: list<element: string>\n",
    "\n",
    "# Fast filtering and aggregation\n",
    "large_changesets = table.filter(pc.greater(table['edit_count'], 1000))\n",
    "total_edits = pc.sum(table['edit_count']).as_py()\n",
    "\n",
    "# Access list data\n",
    "tags = table['all_tags'][0].as_py()  # Returns: ['comment', 'created_by']\n",
    "tags"
   ]
  },
  {
   "cell_type": "code",
   "execution_count": 3,
   "metadata": {},
   "outputs": [
    {
     "ename": "AttributeError",
     "evalue": "'DataFrame' object has no attribute 'schema'",
     "output_type": "error",
     "traceback": [
      "\u001b[31m---------------------------------------------------------------------------\u001b[39m",
      "\u001b[31mAttributeError\u001b[39m                            Traceback (most recent call last)",
      "\u001b[32m/tmp/ipykernel_27656/2078497352.py\u001b[39m in \u001b[36m?\u001b[39m\u001b[34m()\u001b[39m\n\u001b[32m      1\u001b[39m \u001b[38;5;66;03m# use pandas to read the parquet file\u001b[39;00m\n\u001b[32m      2\u001b[39m \u001b[38;5;28;01mimport\u001b[39;00m pandas \u001b[38;5;28;01mas\u001b[39;00m pd\n\u001b[32m      3\u001b[39m df = pd.read_parquet(\u001b[33m\"changesets_debug.parquet\"\u001b[39m)\n\u001b[32m----> \u001b[39m\u001b[32m4\u001b[39m print(df.schema())\n\u001b[32m      5\u001b[39m \u001b[38;5;66;03m# print the first 5 rows\u001b[39;00m\n\u001b[32m      6\u001b[39m \u001b[38;5;66;03m#print(df.head())\u001b[39;00m\n\u001b[32m      7\u001b[39m \n",
      "\u001b[32m~/code/openstreetmap-statistics/.venv/lib/python3.11/site-packages/pandas/core/generic.py\u001b[39m in \u001b[36m?\u001b[39m\u001b[34m(self, name)\u001b[39m\n\u001b[32m   6314\u001b[39m             \u001b[38;5;28;01mand\u001b[39;00m name \u001b[38;5;28;01mnot\u001b[39;00m \u001b[38;5;28;01min\u001b[39;00m self._accessors\n\u001b[32m   6315\u001b[39m             \u001b[38;5;28;01mand\u001b[39;00m self._info_axis._can_hold_identifiers_and_holds_name(name)\n\u001b[32m   6316\u001b[39m         ):\n\u001b[32m   6317\u001b[39m             \u001b[38;5;28;01mreturn\u001b[39;00m self[name]\n\u001b[32m-> \u001b[39m\u001b[32m6318\u001b[39m         \u001b[38;5;28;01mreturn\u001b[39;00m object.__getattribute__(self, name)\n",
      "\u001b[31mAttributeError\u001b[39m: 'DataFrame' object has no attribute 'schema'"
     ]
    }
   ],
   "source": [
    "# use pandas to read the parquet file\n",
    "import pandas as pd\n",
    "df = pd.read_parquet(\"changesets_debug.parquet\")\n",
    "print(df.schema())\n",
    "# print the first 5 rows\n",
    "#print(df.head())\n",
    "\n",
    "# print the column names\n"
   ]
  },
  {
   "cell_type": "code",
   "execution_count": null,
   "metadata": {},
   "outputs": [],
   "source": []
  }
 ],
 "metadata": {
  "kernelspec": {
   "display_name": ".venv",
   "language": "python",
   "name": "python3"
  },
  "language_info": {
   "codemirror_mode": {
    "name": "ipython",
    "version": 3
   },
   "file_extension": ".py",
   "mimetype": "text/x-python",
   "name": "python",
   "nbconvert_exporter": "python",
   "pygments_lexer": "ipython3",
   "version": "3.11.11"
  }
 },
 "nbformat": 4,
 "nbformat_minor": 2
}

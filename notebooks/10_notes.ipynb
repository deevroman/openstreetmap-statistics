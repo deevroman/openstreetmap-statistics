{
 "cells": [
  {
   "cell_type": "markdown",
   "metadata": {},
   "source": [
    "# Notes Analysis\n",
    "\n",
    "This notebook analyzes OpenStreetMap notes - map feedback reports that help improve data quality. Notes allow anyone to report issues or suggest improvements to the map."
   ]
  },
  {
   "cell_type": "code",
   "execution_count": null,
   "metadata": {},
   "outputs": [
    {
     "data": {
      "text/html": [
       "\n",
       "    <link rel=\"stylesheet\" type=\"text/css\" href=\"../notebooks/notebook.css\">\n",
       "    <script src=\"../notebooks/notebook.js\"></script>\n",
       "    <script src=\"https://cdn.plot.ly/plotly-3.0.1.min.js\" charset=\"utf-8\"></script>\n",
       "    "
      ],
      "text/plain": [
       "<IPython.core.display.HTML object>"
      ]
     },
     "metadata": {},
     "output_type": "display_data"
    }
   ],
   "source": [
    "import duckdb\n",
    "import util\n",
    "\n",
    "util.init()"
   ]
  },
  {
   "cell_type": "markdown",
   "metadata": {},
   "source": [
    "## Monthly Notes Activity"
   ]
  },
  {
   "cell_type": "code",
   "execution_count": 19,
   "metadata": {},
   "outputs": [
    {
     "data": {
      "application/vnd.plotly.v1+json": {
       "config": {
        "plotlyServerURL": "https://plot.ly"
       },
       "data": [
        {
         "hovertemplate": "Created<br>%{x}<br>%{y:,} Count<extra></extra>",
         "name": "Created",
         "type": "scatter",
         "visible": true,
         "x": [
          "2013-04",
          "2013-05",
          "2013-06",
          "2013-07",
          "2013-08",
          "2013-09",
          "2013-10",
          "2013-11",
          "2013-12",
          "2014-01",
          "2014-02",
          "2014-03",
          "2014-04",
          "2014-05",
          "2014-06",
          "2014-07",
          "2014-08",
          "2014-09",
          "2014-10",
          "2014-11",
          "2014-12",
          "2015-01",
          "2015-02",
          "2015-03",
          "2015-04",
          "2015-05",
          "2015-06",
          "2015-07",
          "2015-08",
          "2015-09",
          "2015-10",
          "2015-11",
          "2015-12",
          "2016-01",
          "2016-02",
          "2016-03",
          "2016-04",
          "2016-05",
          "2016-06",
          "2016-07",
          "2016-08",
          "2016-09",
          "2016-10",
          "2016-11",
          "2016-12",
          "2017-01",
          "2017-02",
          "2017-03",
          "2017-04",
          "2017-05",
          "2017-06",
          "2017-07",
          "2017-08",
          "2017-09",
          "2017-10",
          "2017-11",
          "2017-12",
          "2018-01",
          "2018-02",
          "2018-03",
          "2018-04",
          "2018-05",
          "2018-06",
          "2018-07",
          "2018-08",
          "2018-09",
          "2018-10",
          "2018-11",
          "2018-12",
          "2019-01",
          "2019-02",
          "2019-03",
          "2019-04",
          "2019-05",
          "2019-06",
          "2019-07",
          "2019-08",
          "2019-09",
          "2019-10",
          "2019-11",
          "2019-12",
          "2020-01",
          "2020-02",
          "2020-03",
          "2020-04",
          "2020-05",
          "2020-06",
          "2020-07",
          "2020-08",
          "2020-09",
          "2020-10",
          "2020-11",
          "2020-12",
          "2021-01",
          "2021-02",
          "2021-03",
          "2021-04",
          "2021-05",
          "2021-06",
          "2021-07",
          "2021-08",
          "2021-09",
          "2021-10",
          "2021-11",
          "2021-12",
          "2022-01",
          "2022-02",
          "2022-03",
          "2022-04",
          "2022-05",
          "2022-06",
          "2022-07",
          "2022-08",
          "2022-09",
          "2022-10",
          "2022-11",
          "2022-12",
          "2023-01",
          "2023-02",
          "2023-03",
          "2023-04",
          "2023-05",
          "2023-06",
          "2023-07",
          "2023-08",
          "2023-09",
          "2023-10",
          "2023-11",
          "2023-12",
          "2024-01",
          "2024-02",
          "2024-03",
          "2024-04",
          "2024-05",
          "2024-06",
          "2024-07",
          "2024-08",
          "2024-09",
          "2024-10",
          "2024-11",
          "2024-12",
          "2025-01",
          "2025-02",
          "2025-03",
          "2025-04",
          "2025-05",
          "2025-06",
          "2025-07",
          "2025-08",
          "2025-09"
         ],
         "y": {
          "bdata": "AAAAAAAIi0AAAAAAAOGwQAAAAAAALrVAAAAAAIA7wUAAAAAAAErNQAAAAACAj85AAAAAAIAzz0AAAAAAgE/MQAAAAAAA1shAAAAAAMA90EAAAAAAACXOQAAAAAAAhdBAAAAAAACI0EAAAAAAQH/QQAAAAAAA+sxAAAAAAEAl0UAAAAAAwJXXQAAAAACAIs5AAAAAAACWzEAAAAAAgBPMQAAAAACALc5AAAAAAADAzkAAAAAAgEbNQAAAAAAAVc5AAAAAAIDozUAAAAAAAK7QQAAAAAAAwc9AAAAAAAAS0UAAAAAAgLDSQAAAAABAe9FAAAAAAIC10EAAAAAAgBbOQAAAAACAgcxAAAAAAIDYzUAAAAAAAGjMQAAAAAAAWc5AAAAAAIBc1EAAAAAAgNTUQAAAAADAPd9AAAAAAEAA5EAAAAAA4HLlQAAAAADA8eFAAAAAACAV4UAAAAAAwGnfQAAAAAAg9uBAAAAAAMDv4kAAAAAAQJPfQAAAAABgHOJAAAAAAABC30AAAAAAgPveQAAAAADAtt9AAAAAAKBl4kAAAAAAgMnhQAAAAABANOFAAAAAAADh30AAAAAAgGDeQAAAAADAEd9AAAAAAIBv3kAAAAAAQP3aQAAAAABAqdxAAAAAAEAg4EAAAAAAQGDfQAAAAAAAkdxAAAAAAMBs30AAAAAAYHPhQAAAAABAseFAAAAAAAAQ3kAAAAAAQMzaQAAAAAAArNxAAAAAAMCJ3kAAAAAAADTbQAAAAADAgOBAAAAAAIBw3kAAAAAA4JfgQAAAAAAAXN9AAAAAACDJ4EAAAAAAgLLkQAAAAACAa+BAAAAAAEDs30AAAAAAgH3dQAAAAABAIttAAAAAAAAA30AAAAAAQNncQAAAAABAe+FAAAAAAMDm3kAAAAAAQCThQAAAAAAgvOBAAAAAAECi4kAAAAAAAEDkQAAAAABgmeJAAAAAAMBi4UAAAAAAoJnjQAAAAAAAjt5AAAAAAAA64kAAAAAAIOLiQAAAAACgVORAAAAAAOAS5UAAAAAAoB7mQAAAAADgAeRAAAAAAGAh5UAAAAAAwPbnQAAAAABA2OVAAAAAAGBB5EAAAAAAYMLhQAAAAABgEuFAAAAAAEDh40AAAAAAADPhQAAAAABAJuRAAAAAAICI5UAAAAAAADXlQAAAAABAP+RAAAAAAAAe5kAAAAAAQELmQAAAAADAFuNAAAAAAAAe5EAAAAAAQO3iQAAAAACg4eFAAAAAAOCb40AAAAAAIAnjQAAAAABA7ORAAAAAAIDM5UAAAAAAIPTlQAAAAABg++RAAAAAAAAz6EAAAAAAwLXqQAAAAACgZ+lAAAAAAMDS5kAAAAAAYE3jQAAAAACgLeFAAAAAAKCV5UAAAAAA4N7hQAAAAAAAJ+RAAAAAAACs5UAAAAAAIJfnQAAAAADgLONAAAAAAOC/5UAAAAAAYKLoQAAAAACA8eVAAAAAAEDL40AAAAAAABXhQAAAAAAA791AAAAAAODt4UAAAAAAoOjgQAAAAAAgXeRAAAAAAEDP5EAAAAAAgBjnQAAAAADA5eVAAAAAAMDe6EAAAAAAII/pQAAAAADgQuVA",
          "dtype": "f8"
         }
        },
        {
         "hovertemplate": "Closed<br>%{x}<br>%{y:,} Count<extra></extra>",
         "name": "Closed",
         "type": "scatter",
         "visible": true,
         "x": [
          "2013-04",
          "2013-05",
          "2013-06",
          "2013-07",
          "2013-08",
          "2013-09",
          "2013-10",
          "2013-11",
          "2013-12",
          "2014-01",
          "2014-02",
          "2014-03",
          "2014-04",
          "2014-05",
          "2014-06",
          "2014-07",
          "2014-08",
          "2014-09",
          "2014-10",
          "2014-11",
          "2014-12",
          "2015-01",
          "2015-02",
          "2015-03",
          "2015-04",
          "2015-05",
          "2015-06",
          "2015-07",
          "2015-08",
          "2015-09",
          "2015-10",
          "2015-11",
          "2015-12",
          "2016-01",
          "2016-02",
          "2016-03",
          "2016-04",
          "2016-05",
          "2016-06",
          "2016-07",
          "2016-08",
          "2016-09",
          "2016-10",
          "2016-11",
          "2016-12",
          "2017-01",
          "2017-02",
          "2017-03",
          "2017-04",
          "2017-05",
          "2017-06",
          "2017-07",
          "2017-08",
          "2017-09",
          "2017-10",
          "2017-11",
          "2017-12",
          "2018-01",
          "2018-02",
          "2018-03",
          "2018-04",
          "2018-05",
          "2018-06",
          "2018-07",
          "2018-08",
          "2018-09",
          "2018-10",
          "2018-11",
          "2018-12",
          "2019-01",
          "2019-02",
          "2019-03",
          "2019-04",
          "2019-05",
          "2019-06",
          "2019-07",
          "2019-08",
          "2019-09",
          "2019-10",
          "2019-11",
          "2019-12",
          "2020-01",
          "2020-02",
          "2020-03",
          "2020-04",
          "2020-05",
          "2020-06",
          "2020-07",
          "2020-08",
          "2020-09",
          "2020-10",
          "2020-11",
          "2020-12",
          "2021-01",
          "2021-02",
          "2021-03",
          "2021-04",
          "2021-05",
          "2021-06",
          "2021-07",
          "2021-08",
          "2021-09",
          "2021-10",
          "2021-11",
          "2021-12",
          "2022-01",
          "2022-02",
          "2022-03",
          "2022-04",
          "2022-05",
          "2022-06",
          "2022-07",
          "2022-08",
          "2022-09",
          "2022-10",
          "2022-11",
          "2022-12",
          "2023-01",
          "2023-02",
          "2023-03",
          "2023-04",
          "2023-05",
          "2023-06",
          "2023-07",
          "2023-08",
          "2023-09",
          "2023-10",
          "2023-11",
          "2023-12",
          "2024-01",
          "2024-02",
          "2024-03",
          "2024-04",
          "2024-05",
          "2024-06",
          "2024-07",
          "2024-08",
          "2024-09",
          "2024-10",
          "2024-11",
          "2024-12",
          "2025-01",
          "2025-02",
          "2025-03",
          "2025-04",
          "2025-05",
          "2025-06",
          "2025-07",
          "2025-08",
          "2025-09"
         ],
         "y": {
          "bdata": "AAAAAACQdEAAAAAAAMqiQAAAAAAAbKdAAAAAAAApskAAAAAAAIrCQAAAAAAA5MRAAAAAAAAUx0AAAAAAAH7CQAAAAACAW8JAAAAAAABFx0AAAAAAgPDHQAAAAACAX8dAAAAAAAB+yEAAAAAAgIvJQAAAAAAAmMZAAAAAAIBpyEAAAAAAwKHQQAAAAACAv8pAAAAAAIC6yUAAAAAAAK7IQAAAAAAAislAAAAAAABZykAAAAAAgMPJQAAAAAAAdclAAAAAAACRyUAAAAAAgInJQAAAAACAm8lAAAAAAACSyUAAAAAAgG3OQAAAAACAOstAAAAAAICwykAAAAAAgErJQAAAAACAfMpAAAAAAID9yUAAAAAAgPvHQAAAAAAAcshAAAAAAICTzkAAAAAAAGPQQAAAAAAAWtNAAAAAAMBl1kAAAAAAQCvaQAAAAAAAutVAAAAAAMCY1EAAAAAAwJrUQAAAAADA1tVAAAAAAACs1UAAAAAAAHHTQAAAAAAAy9VAAAAAAABh2EAAAAAAgM/YQAAAAAAArNdAAAAAAABA2kAAAAAAwGraQAAAAAAATtlAAAAAAAAB2UAAAAAAAHbZQAAAAAAAldhAAAAAAECf2UAAAAAAgKvXQAAAAACAStdAAAAAAICH2UAAAAAAAF3bQAAAAAAAVdlAAAAAAICU2EAAAAAAwG3fQAAAAAAAJN5AAAAAAICz2UAAAAAAwCPYQAAAAACAsNhAAAAAAABs3EAAAAAAAMPWQAAAAABAGNhAAAAAAEDE20AAAAAAABzhQAAAAADAa9tAAAAAAIAM20AAAAAAwMDhQAAAAABAPN1AAAAAAIC33EAAAAAAgLDZQAAAAABAGttAAAAAAIAx3EAAAAAAwFvbQAAAAAAAF+FAAAAAAMCR4UAAAAAAANvdQAAAAABArt1AAAAAAAB63UAAAAAAwLXgQAAAAAAAzOBAAAAAAGDI4EAAAAAA4E3hQAAAAACAQeBAAAAAAIDW5EAAAAAAgOLcQAAAAACgqOFAAAAAAACB4UAAAAAAoO3iQAAAAACA6+BAAAAAAKB74UAAAAAA4F/lQAAAAADg1uFAAAAAAGC04kAAAAAAQL7iQAAAAACgV+FAAAAAAAAs4kAAAAAA4OvgQAAAAABgOuNAAAAAAMDE4kAAAAAAAKnjQAAAAADgG+RAAAAAAKAR5EAAAAAAwFvmQAAAAADAOeFAAAAAAEAm50AAAAAAAEXjQAAAAABg7eBAAAAAACCA5EAAAAAAwJzhQAAAAAAg++VAAAAAAKBP40AAAAAAIMXiQAAAAACgqOFAAAAAAGDp40AAAAAAAMH6QAAAAADAJ+dAAAAAAOD+6EAAAAAAAHjmQAAAAAAA8ORAAAAAACB550AAAAAA4E7iQAAAAABgReJAAAAAAAC/5UAAAAAA4HroQAAAAAAA5OFAAAAAAGBc40AAAAAAYPXmQAAAAAAgGuZAAAAAAMDV4kAAAAAA4IPiQAAAAADgROBAAAAAAGCB5EAAAAAAYALiQAAAAAAgeeZAAAAAAOBR5UAAAAAAAHLnQAAAAACADOZAAAAAAGDN50AAAAAAkJrxQAAAAADgDOdA",
          "dtype": "f8"
         }
        },
        {
         "hovertemplate": "Created<br>%{x}<br>%{y:,} Count<extra></extra>",
         "name": "Created",
         "type": "scatter",
         "visible": false,
         "x": [
          "2013-04",
          "2013-05",
          "2013-06",
          "2013-07",
          "2013-08",
          "2013-09",
          "2013-10",
          "2013-11",
          "2013-12",
          "2014-01",
          "2014-02",
          "2014-03",
          "2014-04",
          "2014-05",
          "2014-06",
          "2014-07",
          "2014-08",
          "2014-09",
          "2014-10",
          "2014-11",
          "2014-12",
          "2015-01",
          "2015-02",
          "2015-03",
          "2015-04",
          "2015-05",
          "2015-06",
          "2015-07",
          "2015-08",
          "2015-09",
          "2015-10",
          "2015-11",
          "2015-12",
          "2016-01",
          "2016-02",
          "2016-03",
          "2016-04",
          "2016-05",
          "2016-06",
          "2016-07",
          "2016-08",
          "2016-09",
          "2016-10",
          "2016-11",
          "2016-12",
          "2017-01",
          "2017-02",
          "2017-03",
          "2017-04",
          "2017-05",
          "2017-06",
          "2017-07",
          "2017-08",
          "2017-09",
          "2017-10",
          "2017-11",
          "2017-12",
          "2018-01",
          "2018-02",
          "2018-03",
          "2018-04",
          "2018-05",
          "2018-06",
          "2018-07",
          "2018-08",
          "2018-09",
          "2018-10",
          "2018-11",
          "2018-12",
          "2019-01",
          "2019-02",
          "2019-03",
          "2019-04",
          "2019-05",
          "2019-06",
          "2019-07",
          "2019-08",
          "2019-09",
          "2019-10",
          "2019-11",
          "2019-12",
          "2020-01",
          "2020-02",
          "2020-03",
          "2020-04",
          "2020-05",
          "2020-06",
          "2020-07",
          "2020-08",
          "2020-09",
          "2020-10",
          "2020-11",
          "2020-12",
          "2021-01",
          "2021-02",
          "2021-03",
          "2021-04",
          "2021-05",
          "2021-06",
          "2021-07",
          "2021-08",
          "2021-09",
          "2021-10",
          "2021-11",
          "2021-12",
          "2022-01",
          "2022-02",
          "2022-03",
          "2022-04",
          "2022-05",
          "2022-06",
          "2022-07",
          "2022-08",
          "2022-09",
          "2022-10",
          "2022-11",
          "2022-12",
          "2023-01",
          "2023-02",
          "2023-03",
          "2023-04",
          "2023-05",
          "2023-06",
          "2023-07",
          "2023-08",
          "2023-09",
          "2023-10",
          "2023-11",
          "2023-12",
          "2024-01",
          "2024-02",
          "2024-03",
          "2024-04",
          "2024-05",
          "2024-06",
          "2024-07",
          "2024-08",
          "2024-09",
          "2024-10",
          "2024-11",
          "2024-12",
          "2025-01",
          "2025-02",
          "2025-03",
          "2025-04",
          "2025-05",
          "2025-06",
          "2025-07",
          "2025-08",
          "2025-09"
         ],
         "y": {
          "bdata": "AAAAAAAIi0AAAAAAAEK0QAAAAAAAuMRAAAAAAMD50kAAAAAAYM/gQAAAAABAc+hAAAAAABAg8EAAAAAAAKrzQAAAAADAxPZAAAAAADDU+kAAAAAA0Jj+QAAAAAAIXQFBAAAAAAhuA0EAAAAA8H0FQQAAAACQTQdBAAAAADhyCUEAAAAA8GQMQQAAAAAYRw5BAAAAADwIEEEAAAAA2OgQQQAAAABE2hFBAAAAAETQEkEAAAAAeLoTQQAAAAAgrRRBAAAAAGScFUEAAAAARKcWQQAAAABMpRdBAAAAAGy2GEEAAAAAdOEZQQAAAAAo+RpBAAAAAIAEHEEAAAAANPUcQQAAAABA2R1BAAAAAATIHkEAAAAARKsfQQAAAAAGTyBBAAAAAOrxIEEAAAAAjpghQQAAAAB8kiJBAAAAAIDSI0EAAAAAriklQQAAAADKSCZBAAAAABxaJ0EAAAAAalUoQQAAAADMZClBAAAAAMiTKkEAAAAAYpArQQAAAAAosixBAAAAADisLUEAAAAAFKQuQQAAAADKoS9BAAAAABJkMEEAAAAAXvIwQQAAAAAAfDFBAAAAAIT7MUEAAAAABnUyQQAAAABN8TJBAAAAAAtrM0EAAAAAANczQQAAAAClSTRBAAAAAKfKNEEAAAAAKEg1QQAAAABsujVBAAAAAB84NkEAAAAAusM2QQAAAABEUTdBAAAAAITJN0EAAAAAtTQ4QQAAAABlpzhBAAAAAIwhOUEAAAAAXI45QQAAAABiEjpBAAAAACSMOkEAAAAA4xA7QQAAAABTjjtBAAAAAJwUPEEAAAAAMLo8QQAAAACMPT1BAAAAAD29PUEAAAAAMzM+QQAAAAC8nz5BAAAAALwbP0EAAAAAIY8/QQAAAIB9DUBBAAAAAEtLQEEAAAAA3I9AQQAAAIDM0kBBAAAAgFUdQUEAAACAVW5BQQAAAAC7uEFBAAAAAEb+QUEAAACArExCQQAAAIDIiUJBAAAAgLDSQkEAAAAAOR5DQQAAAICLb0NBAAAAANfDQ0EAAACAURxEQQAAAABZbERBAAAAgN7AREEAAACAuSBFQQAAAIAaeEVBAAAAACDJRUEAAACAKRBGQQAAAABzVEZBAAAAAPijRkEAAAAAxOhGQQAAAABdOUdBAAAAAH+PR0EAAAAAU+RHQQAAAABQNUhBAAAAAMiNSEEAAAAA0eZIQQAAAAAsM0lBAAAAAKSDSUEAAAAAWc9JQQAAAIDfFkpBAAAAAE9lSkEAAACAc7FKQQAAAIAkBUtBAAAAgFZcS0EAAAAAJ7RLQQAAAIAUCExBAAAAgOBoTEEAAACAt9NMQQAAAABWOU1BAAAAAKGUTUEAAACA1uFNQQAAAACNJk5BAAAAgON8TkEAAAAAX8ROQQAAAAD7FE9BAAAAAKtrT0EAAACAB8pPQQAAAIBdC1BBAAAAQN02UEEAAAAAImhQQQAAAAAFlFBBAAAAgJu7UEEAAACAxd1QQQAAAIC0+1BBAAAAQJAfUUEAAACAYUFRQQAAAMAbalFBAAAAQLqTUUEAAABA68FRQQAAAMC27VFBAAAAQHQfUkEAAACAklJSQQAAAEAYfVJB",
          "dtype": "f8"
         }
        },
        {
         "hovertemplate": "Closed<br>%{x}<br>%{y:,} Count<extra></extra>",
         "name": "Closed",
         "type": "scatter",
         "visible": false,
         "x": [
          "2013-04",
          "2013-05",
          "2013-06",
          "2013-07",
          "2013-08",
          "2013-09",
          "2013-10",
          "2013-11",
          "2013-12",
          "2014-01",
          "2014-02",
          "2014-03",
          "2014-04",
          "2014-05",
          "2014-06",
          "2014-07",
          "2014-08",
          "2014-09",
          "2014-10",
          "2014-11",
          "2014-12",
          "2015-01",
          "2015-02",
          "2015-03",
          "2015-04",
          "2015-05",
          "2015-06",
          "2015-07",
          "2015-08",
          "2015-09",
          "2015-10",
          "2015-11",
          "2015-12",
          "2016-01",
          "2016-02",
          "2016-03",
          "2016-04",
          "2016-05",
          "2016-06",
          "2016-07",
          "2016-08",
          "2016-09",
          "2016-10",
          "2016-11",
          "2016-12",
          "2017-01",
          "2017-02",
          "2017-03",
          "2017-04",
          "2017-05",
          "2017-06",
          "2017-07",
          "2017-08",
          "2017-09",
          "2017-10",
          "2017-11",
          "2017-12",
          "2018-01",
          "2018-02",
          "2018-03",
          "2018-04",
          "2018-05",
          "2018-06",
          "2018-07",
          "2018-08",
          "2018-09",
          "2018-10",
          "2018-11",
          "2018-12",
          "2019-01",
          "2019-02",
          "2019-03",
          "2019-04",
          "2019-05",
          "2019-06",
          "2019-07",
          "2019-08",
          "2019-09",
          "2019-10",
          "2019-11",
          "2019-12",
          "2020-01",
          "2020-02",
          "2020-03",
          "2020-04",
          "2020-05",
          "2020-06",
          "2020-07",
          "2020-08",
          "2020-09",
          "2020-10",
          "2020-11",
          "2020-12",
          "2021-01",
          "2021-02",
          "2021-03",
          "2021-04",
          "2021-05",
          "2021-06",
          "2021-07",
          "2021-08",
          "2021-09",
          "2021-10",
          "2021-11",
          "2021-12",
          "2022-01",
          "2022-02",
          "2022-03",
          "2022-04",
          "2022-05",
          "2022-06",
          "2022-07",
          "2022-08",
          "2022-09",
          "2022-10",
          "2022-11",
          "2022-12",
          "2023-01",
          "2023-02",
          "2023-03",
          "2023-04",
          "2023-05",
          "2023-06",
          "2023-07",
          "2023-08",
          "2023-09",
          "2023-10",
          "2023-11",
          "2023-12",
          "2024-01",
          "2024-02",
          "2024-03",
          "2024-04",
          "2024-05",
          "2024-06",
          "2024-07",
          "2024-08",
          "2024-09",
          "2024-10",
          "2024-11",
          "2024-12",
          "2025-01",
          "2025-02",
          "2025-03",
          "2025-04",
          "2025-05",
          "2025-06",
          "2025-07",
          "2025-08",
          "2025-09"
         ],
         "y": {
          "bdata": "AAAAAACQdEAAAAAAAFylQAAAAAAAZLZAAAAAAIBGxEAAAAAAQGjTQAAAAABA2t1AAAAAACCy5EAAAAAAoFHpQAAAAACA6O1AAAAAAODc8UAAAAAA8Nr0QAAAAADgxvdAAAAAAKDW+kAAAAAAEAj+QAAAAACIbQBBAAAAACD0AUEAAAAAWAgEQQAAAABQtAVBAAAAAPhPB0EAAAAA2NoIQQAAAAB4cwpBAAAAAAgZDEEAAAAAQLUNQQAAAACQTA9BAAAAANByEEEAAAAAHD8RQQAAAAD4CxJBAAAAAIjYEkEAAAAA9MsTQQAAAADIpRRBAAAAAEx7FUEAAAAAoEUWQQAAAACEGRdBAAAAAHDpF0EAAAAATKkYQQAAAADcbBlBAAAAAHhhGkEAAAAAqGcbQQAAAABInRxBAAAAAKQDHkEAAAAAWKYfQQAAAAD8gCBBAAAAAMIlIUEAAAAAmMohQQAAAABOeSJBAAAAAK4mI0EAAAAANsIjQQAAAACOcCRBAAAAAJYzJUEAAAAAEvolQQAAAABytyZBAAAAAHKJJ0EAAAAAyFwoQQAAAAA4JylBAAAAAEDvKUEAAAAA8LoqQQAAAACYfytBAAAAAJJMLEEAAAAA7gktQQAAAABCxC1BAAAAAH6QLkEAAAAAZmsvQQAAAAAHGzBBAAAAAFl9MEEAAAAAEPswQQAAAACgczFBAAAAAG7aMUEAAAAA/ToyQQAAAAC/nTJBAAAAAG8PM0EAAAAAe2ozQQAAAADcyjNBAAAAAO05NEEAAAAAzcI0QQAAAAB8MDVBAAAAAK6cNUEAAAAAtCo2QQAAAAClnzZBAAAAAIMSN0EAAAAARXk3QQAAAACu5TdBAAAAAHRWOEEAAAAA48M4QQAAAACbTDlBAAAAACnZOUEAAAAAlVA6QQAAAABOxzpBAAAAADY9O0EAAAAA5MI7QQAAAABESTxBAAAAAIfPPEEAAAAA9lk9QQAAAAAC3D1BAAAAALaCPkEAAAAAQPY+QQAAAACFgz9BAAAAgMYHQEEAAAAAfVNAQQAAAAArl0BBAAAAgBndQEEAAAAAmTJBQQAAAID0eUFBAAAAAMbEQUEAAAAAvw9CQQAAAIAdVUJBAAAAgM2dQkEAAAAAfeFCQQAAAIBmLkNBAAAAgHl5Q0EAAACAHchDQQAAAACNGERBAAAAgNNoREEAAACAQsJEQQAAAIApB0VBAAAAgMJjRUEAAACA1rBFQQAAAACM9EVBAAAAgIxGRkEAAACA/4xGQQAAAADs5EZBAAAAgCoyR0EAAAAAP31HQQAAAIDhw0dBAAAAAIcTSEEAAAAAj+lIQQAAAAAuRklBAAAAgCmqSUEAAACACQRKQQAAAIDJV0pBAAAAAK61SkEAAACA6f5KQQAAAAD/R0tBAAAAAPueS0EAAACA5gBMQQAAAIB2SExBAAAAAOiVTEEAAACAvfFMQQAAAAAmSk1BAAAAAH2VTUEAAACAjN9NQQAAAACgIE5BAAAAgKVyTkEAAAAAr7pOQQAAAICTFE9BAAAAANtpT0EAAAAAo8dPQQAAAIDqD1BBAAAAQIU/UEEAAACA74VQQQAAAEAJtFBB",
          "dtype": "f8"
         }
        }
       ],
       "layout": {
        "barmode": "stack",
        "font": {
         "family": "Times",
         "size": 15
        },
        "margin": {
         "b": 55,
         "l": 55,
         "r": 55,
         "t": 55
        },
        "paper_bgcolor": "#f5f2f0",
        "plot_bgcolor": "#f5f2f0",
        "template": {
         "data": {
          "bar": [
           {
            "error_x": {
             "color": "#2a3f5f"
            },
            "error_y": {
             "color": "#2a3f5f"
            },
            "marker": {
             "line": {
              "color": "#E5ECF6",
              "width": 0.5
             },
             "pattern": {
              "fillmode": "overlay",
              "size": 10,
              "solidity": 0.2
             }
            },
            "type": "bar"
           }
          ],
          "barpolar": [
           {
            "marker": {
             "line": {
              "color": "#E5ECF6",
              "width": 0.5
             },
             "pattern": {
              "fillmode": "overlay",
              "size": 10,
              "solidity": 0.2
             }
            },
            "type": "barpolar"
           }
          ],
          "carpet": [
           {
            "aaxis": {
             "endlinecolor": "#2a3f5f",
             "gridcolor": "white",
             "linecolor": "white",
             "minorgridcolor": "white",
             "startlinecolor": "#2a3f5f"
            },
            "baxis": {
             "endlinecolor": "#2a3f5f",
             "gridcolor": "white",
             "linecolor": "white",
             "minorgridcolor": "white",
             "startlinecolor": "#2a3f5f"
            },
            "type": "carpet"
           }
          ],
          "choropleth": [
           {
            "colorbar": {
             "outlinewidth": 0,
             "ticks": ""
            },
            "type": "choropleth"
           }
          ],
          "contour": [
           {
            "colorbar": {
             "outlinewidth": 0,
             "ticks": ""
            },
            "colorscale": [
             [
              0,
              "#0d0887"
             ],
             [
              0.1111111111111111,
              "#46039f"
             ],
             [
              0.2222222222222222,
              "#7201a8"
             ],
             [
              0.3333333333333333,
              "#9c179e"
             ],
             [
              0.4444444444444444,
              "#bd3786"
             ],
             [
              0.5555555555555556,
              "#d8576b"
             ],
             [
              0.6666666666666666,
              "#ed7953"
             ],
             [
              0.7777777777777778,
              "#fb9f3a"
             ],
             [
              0.8888888888888888,
              "#fdca26"
             ],
             [
              1,
              "#f0f921"
             ]
            ],
            "type": "contour"
           }
          ],
          "contourcarpet": [
           {
            "colorbar": {
             "outlinewidth": 0,
             "ticks": ""
            },
            "type": "contourcarpet"
           }
          ],
          "heatmap": [
           {
            "colorbar": {
             "outlinewidth": 0,
             "ticks": ""
            },
            "colorscale": [
             [
              0,
              "#0d0887"
             ],
             [
              0.1111111111111111,
              "#46039f"
             ],
             [
              0.2222222222222222,
              "#7201a8"
             ],
             [
              0.3333333333333333,
              "#9c179e"
             ],
             [
              0.4444444444444444,
              "#bd3786"
             ],
             [
              0.5555555555555556,
              "#d8576b"
             ],
             [
              0.6666666666666666,
              "#ed7953"
             ],
             [
              0.7777777777777778,
              "#fb9f3a"
             ],
             [
              0.8888888888888888,
              "#fdca26"
             ],
             [
              1,
              "#f0f921"
             ]
            ],
            "type": "heatmap"
           }
          ],
          "histogram": [
           {
            "marker": {
             "pattern": {
              "fillmode": "overlay",
              "size": 10,
              "solidity": 0.2
             }
            },
            "type": "histogram"
           }
          ],
          "histogram2d": [
           {
            "colorbar": {
             "outlinewidth": 0,
             "ticks": ""
            },
            "colorscale": [
             [
              0,
              "#0d0887"
             ],
             [
              0.1111111111111111,
              "#46039f"
             ],
             [
              0.2222222222222222,
              "#7201a8"
             ],
             [
              0.3333333333333333,
              "#9c179e"
             ],
             [
              0.4444444444444444,
              "#bd3786"
             ],
             [
              0.5555555555555556,
              "#d8576b"
             ],
             [
              0.6666666666666666,
              "#ed7953"
             ],
             [
              0.7777777777777778,
              "#fb9f3a"
             ],
             [
              0.8888888888888888,
              "#fdca26"
             ],
             [
              1,
              "#f0f921"
             ]
            ],
            "type": "histogram2d"
           }
          ],
          "histogram2dcontour": [
           {
            "colorbar": {
             "outlinewidth": 0,
             "ticks": ""
            },
            "colorscale": [
             [
              0,
              "#0d0887"
             ],
             [
              0.1111111111111111,
              "#46039f"
             ],
             [
              0.2222222222222222,
              "#7201a8"
             ],
             [
              0.3333333333333333,
              "#9c179e"
             ],
             [
              0.4444444444444444,
              "#bd3786"
             ],
             [
              0.5555555555555556,
              "#d8576b"
             ],
             [
              0.6666666666666666,
              "#ed7953"
             ],
             [
              0.7777777777777778,
              "#fb9f3a"
             ],
             [
              0.8888888888888888,
              "#fdca26"
             ],
             [
              1,
              "#f0f921"
             ]
            ],
            "type": "histogram2dcontour"
           }
          ],
          "mesh3d": [
           {
            "colorbar": {
             "outlinewidth": 0,
             "ticks": ""
            },
            "type": "mesh3d"
           }
          ],
          "parcoords": [
           {
            "line": {
             "colorbar": {
              "outlinewidth": 0,
              "ticks": ""
             }
            },
            "type": "parcoords"
           }
          ],
          "pie": [
           {
            "automargin": true,
            "type": "pie"
           }
          ],
          "scatter": [
           {
            "fillpattern": {
             "fillmode": "overlay",
             "size": 10,
             "solidity": 0.2
            },
            "type": "scatter"
           }
          ],
          "scatter3d": [
           {
            "line": {
             "colorbar": {
              "outlinewidth": 0,
              "ticks": ""
             }
            },
            "marker": {
             "colorbar": {
              "outlinewidth": 0,
              "ticks": ""
             }
            },
            "type": "scatter3d"
           }
          ],
          "scattercarpet": [
           {
            "marker": {
             "colorbar": {
              "outlinewidth": 0,
              "ticks": ""
             }
            },
            "type": "scattercarpet"
           }
          ],
          "scattergeo": [
           {
            "marker": {
             "colorbar": {
              "outlinewidth": 0,
              "ticks": ""
             }
            },
            "type": "scattergeo"
           }
          ],
          "scattergl": [
           {
            "marker": {
             "colorbar": {
              "outlinewidth": 0,
              "ticks": ""
             }
            },
            "type": "scattergl"
           }
          ],
          "scattermap": [
           {
            "marker": {
             "colorbar": {
              "outlinewidth": 0,
              "ticks": ""
             }
            },
            "type": "scattermap"
           }
          ],
          "scattermapbox": [
           {
            "marker": {
             "colorbar": {
              "outlinewidth": 0,
              "ticks": ""
             }
            },
            "type": "scattermapbox"
           }
          ],
          "scatterpolar": [
           {
            "marker": {
             "colorbar": {
              "outlinewidth": 0,
              "ticks": ""
             }
            },
            "type": "scatterpolar"
           }
          ],
          "scatterpolargl": [
           {
            "marker": {
             "colorbar": {
              "outlinewidth": 0,
              "ticks": ""
             }
            },
            "type": "scatterpolargl"
           }
          ],
          "scatterternary": [
           {
            "marker": {
             "colorbar": {
              "outlinewidth": 0,
              "ticks": ""
             }
            },
            "type": "scatterternary"
           }
          ],
          "surface": [
           {
            "colorbar": {
             "outlinewidth": 0,
             "ticks": ""
            },
            "colorscale": [
             [
              0,
              "#0d0887"
             ],
             [
              0.1111111111111111,
              "#46039f"
             ],
             [
              0.2222222222222222,
              "#7201a8"
             ],
             [
              0.3333333333333333,
              "#9c179e"
             ],
             [
              0.4444444444444444,
              "#bd3786"
             ],
             [
              0.5555555555555556,
              "#d8576b"
             ],
             [
              0.6666666666666666,
              "#ed7953"
             ],
             [
              0.7777777777777778,
              "#fb9f3a"
             ],
             [
              0.8888888888888888,
              "#fdca26"
             ],
             [
              1,
              "#f0f921"
             ]
            ],
            "type": "surface"
           }
          ],
          "table": [
           {
            "cells": {
             "fill": {
              "color": "#EBF0F8"
             },
             "line": {
              "color": "white"
             }
            },
            "header": {
             "fill": {
              "color": "#C8D4E3"
             },
             "line": {
              "color": "white"
             }
            },
            "type": "table"
           }
          ]
         },
         "layout": {
          "annotationdefaults": {
           "arrowcolor": "#2a3f5f",
           "arrowhead": 0,
           "arrowwidth": 1
          },
          "autotypenumbers": "strict",
          "coloraxis": {
           "colorbar": {
            "outlinewidth": 0,
            "ticks": ""
           }
          },
          "colorscale": {
           "diverging": [
            [
             0,
             "#8e0152"
            ],
            [
             0.1,
             "#c51b7d"
            ],
            [
             0.2,
             "#de77ae"
            ],
            [
             0.3,
             "#f1b6da"
            ],
            [
             0.4,
             "#fde0ef"
            ],
            [
             0.5,
             "#f7f7f7"
            ],
            [
             0.6,
             "#e6f5d0"
            ],
            [
             0.7,
             "#b8e186"
            ],
            [
             0.8,
             "#7fbc41"
            ],
            [
             0.9,
             "#4d9221"
            ],
            [
             1,
             "#276419"
            ]
           ],
           "sequential": [
            [
             0,
             "#0d0887"
            ],
            [
             0.1111111111111111,
             "#46039f"
            ],
            [
             0.2222222222222222,
             "#7201a8"
            ],
            [
             0.3333333333333333,
             "#9c179e"
            ],
            [
             0.4444444444444444,
             "#bd3786"
            ],
            [
             0.5555555555555556,
             "#d8576b"
            ],
            [
             0.6666666666666666,
             "#ed7953"
            ],
            [
             0.7777777777777778,
             "#fb9f3a"
            ],
            [
             0.8888888888888888,
             "#fdca26"
            ],
            [
             1,
             "#f0f921"
            ]
           ],
           "sequentialminus": [
            [
             0,
             "#0d0887"
            ],
            [
             0.1111111111111111,
             "#46039f"
            ],
            [
             0.2222222222222222,
             "#7201a8"
            ],
            [
             0.3333333333333333,
             "#9c179e"
            ],
            [
             0.4444444444444444,
             "#bd3786"
            ],
            [
             0.5555555555555556,
             "#d8576b"
            ],
            [
             0.6666666666666666,
             "#ed7953"
            ],
            [
             0.7777777777777778,
             "#fb9f3a"
            ],
            [
             0.8888888888888888,
             "#fdca26"
            ],
            [
             1,
             "#f0f921"
            ]
           ]
          },
          "colorway": [
           "#636efa",
           "#EF553B",
           "#00cc96",
           "#ab63fa",
           "#FFA15A",
           "#19d3f3",
           "#FF6692",
           "#B6E880",
           "#FF97FF",
           "#FECB52"
          ],
          "font": {
           "color": "#2a3f5f"
          },
          "geo": {
           "bgcolor": "white",
           "lakecolor": "white",
           "landcolor": "#E5ECF6",
           "showlakes": true,
           "showland": true,
           "subunitcolor": "white"
          },
          "hoverlabel": {
           "align": "left"
          },
          "hovermode": "closest",
          "mapbox": {
           "style": "light"
          },
          "paper_bgcolor": "white",
          "plot_bgcolor": "#E5ECF6",
          "polar": {
           "angularaxis": {
            "gridcolor": "white",
            "linecolor": "white",
            "ticks": ""
           },
           "bgcolor": "#E5ECF6",
           "radialaxis": {
            "gridcolor": "white",
            "linecolor": "white",
            "ticks": ""
           }
          },
          "scene": {
           "xaxis": {
            "backgroundcolor": "#E5ECF6",
            "gridcolor": "white",
            "gridwidth": 2,
            "linecolor": "white",
            "showbackground": true,
            "ticks": "",
            "zerolinecolor": "white"
           },
           "yaxis": {
            "backgroundcolor": "#E5ECF6",
            "gridcolor": "white",
            "gridwidth": 2,
            "linecolor": "white",
            "showbackground": true,
            "ticks": "",
            "zerolinecolor": "white"
           },
           "zaxis": {
            "backgroundcolor": "#E5ECF6",
            "gridcolor": "white",
            "gridwidth": 2,
            "linecolor": "white",
            "showbackground": true,
            "ticks": "",
            "zerolinecolor": "white"
           }
          },
          "shapedefaults": {
           "line": {
            "color": "#2a3f5f"
           }
          },
          "ternary": {
           "aaxis": {
            "gridcolor": "white",
            "linecolor": "white",
            "ticks": ""
           },
           "baxis": {
            "gridcolor": "white",
            "linecolor": "white",
            "ticks": ""
           },
           "bgcolor": "#E5ECF6",
           "caxis": {
            "gridcolor": "white",
            "linecolor": "white",
            "ticks": ""
           }
          },
          "title": {
           "x": 0.05
          },
          "xaxis": {
           "automargin": true,
           "gridcolor": "white",
           "linecolor": "white",
           "ticks": "",
           "title": {
            "standoff": 15
           },
           "zerolinecolor": "white",
           "zerolinewidth": 2
          },
          "yaxis": {
           "automargin": true,
           "gridcolor": "white",
           "linecolor": "white",
           "ticks": "",
           "title": {
            "standoff": 15
           },
           "zerolinecolor": "white",
           "zerolinewidth": 2
          }
         }
        },
        "title": {
         "text": "Monthly Notes: Created vs. Closed",
         "x": 0.5
        },
        "updatemenus": [
         {
          "buttons": [
           {
            "args": [
             {
              "visible": [
               true,
               true,
               false,
               false
              ]
             },
             {
              "title.text": "Monthly Notes: Created vs. Closed",
              "xaxis.title.text": "months",
              "yaxis.title.text": "Count"
             }
            ],
            "label": "Monthly",
            "method": "update"
           },
           {
            "args": [
             {
              "visible": [
               false,
               false,
               true,
               true
              ]
             },
             {
              "title.text": "Accumulated Notes: Created vs. Closed",
              "xaxis.title.text": "months",
              "yaxis.title.text": "Count"
             }
            ],
            "label": "Accumulated",
            "method": "update"
           }
          ],
          "type": "buttons"
         }
        ],
        "xaxis": {
         "gridcolor": "darkgray",
         "linecolor": "black",
         "showgrid": true,
         "tickcolor": "black",
         "title": {
          "text": "months"
         },
         "zerolinecolor": "darkgray"
        },
        "yaxis": {
         "gridcolor": "darkgray",
         "linecolor": "black",
         "rangemode": "tozero",
         "showgrid": true,
         "tickcolor": "black",
         "title": {
          "text": "Count"
         },
         "zerolinecolor": "darkgray"
        }
       }
      }
     },
     "metadata": {},
     "output_type": "display_data"
    }
   ],
   "source": [
    "df_long = duckdb.sql(\"\"\"\n",
    "WITH notes_created AS (\n",
    "    SELECT\n",
    "        YEAR(created_at) as year,\n",
    "        MONTH(created_at) as month,\n",
    "        COUNT(*) as created_count\n",
    "    FROM '../notes_data/*.parquet'\n",
    "    GROUP BY year, month\n",
    "),\n",
    "notes_closed AS (\n",
    "    SELECT\n",
    "        YEAR(closed_at) as year,\n",
    "        MONTH(closed_at) as month,\n",
    "        COUNT(*) as closed_count\n",
    "    FROM '../notes_data/*.parquet'\n",
    "    WHERE closed_at IS NOT NULL\n",
    "    GROUP BY year, month\n",
    "),\n",
    "all_metrics AS (\n",
    "    -- This CTE calculates both monthly and accumulated values in one place\n",
    "    SELECT\n",
    "        CONCAT(nc.year, '-', LPAD(CAST(nc.month as VARCHAR), 2, '0')) as months,\n",
    "        nc.created_count,\n",
    "        COALESCE(ncl.closed_count, 0) as closed_count,\n",
    "        SUM(nc.created_count) OVER (ORDER BY nc.year, nc.month) as accumulated_created,\n",
    "        SUM(COALESCE(ncl.closed_count, 0)) OVER (ORDER BY nc.year, nc.month) as accumulated_closed\n",
    "    FROM notes_created nc\n",
    "    LEFT JOIN notes_closed ncl ON nc.year = ncl.year AND nc.month = ncl.month\n",
    ")\n",
    "-- Reshape all metrics into a single long-format table with a 'Chart' column for filtering\n",
    "SELECT months, created_count as \"Count\", 'Monthly' as \"Chart\", 'Created' as \"Type\" FROM all_metrics\n",
    "UNION ALL\n",
    "SELECT months, closed_count as \"Count\", 'Monthly' as \"Chart\", 'Closed' as \"Type\" FROM all_metrics\n",
    "UNION ALL\n",
    "SELECT months, accumulated_created as \"Count\", 'Accumulated' as \"Chart\", 'Created' as \"Type\" FROM all_metrics\n",
    "UNION ALL\n",
    "SELECT months, accumulated_closed as \"Count\", 'Accumulated' as \"Chart\", 'Closed' as \"Type\" FROM all_metrics\n",
    "ORDER BY months, \"Chart\", \"Type\"\n",
    "\"\"\").df()\n",
    "\n",
    "# Filter the single DataFrame for each chart\n",
    "df_monthly = df_long[df_long[\"Chart\"] == \"Monthly\"]\n",
    "df_accumulated = df_long[df_long[\"Chart\"] == \"Accumulated\"]\n",
    "\n",
    "util.show_figure(\n",
    "    [\n",
    "        util.FigureConfig(\n",
    "            title=\"Monthly Notes: Created vs. Closed\",\n",
    "            label=\"Monthly\",\n",
    "            x_col=\"months\",\n",
    "            y_col=\"Count\",\n",
    "            group_col=\"Type\",\n",
    "            query_or_df=df_monthly,\n",
    "            trace_names=[\"Created\", \"Closed\"],\n",
    "        ),\n",
    "        util.FigureConfig(\n",
    "            title=\"Accumulated Notes: Created vs. Closed\",\n",
    "            label=\"Accumulated\",\n",
    "            x_col=\"months\",\n",
    "            y_col=\"Count\",\n",
    "            group_col=\"Type\",\n",
    "            query_or_df=df_accumulated,\n",
    "            trace_names=[\"Created\", \"Closed\"],\n",
    "        ),\n",
    "    ]\n",
    ")"
   ]
  },
  {
   "cell_type": "markdown",
   "metadata": {},
   "source": [
    "## Geographic Distribution of Notes"
   ]
  },
  {
   "cell_type": "code",
   "execution_count": 4,
   "metadata": {},
   "outputs": [
    {
     "data": {
      "application/vnd.plotly.v1+json": {
       "config": {
        "plotlyServerURL": "https://plot.ly"
       },
       "data": [
        {
         "coloraxis": "coloraxis",
         "histfunc": "sum",
         "type": "histogram2d",
         "x": {
          "bdata": "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",
          "dtype": "i4"
         },
         "xbins": {
          "end": 360,
          "size": 1,
          "start": 0
         },
         "y": {
          "bdata": "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",
          "dtype": "i4"
         },
         "ybins": {
          "end": 180,
          "size": 1,
          "start": 0
         },
         "z": {
          "bdata": "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",
          "dtype": "i4"
         }
        }
       ],
       "layout": {
        "barmode": "stack",
        "coloraxis": {
         "colorscale": [
          [
           0,
           "rgba(255,255,255,0)"
          ],
          [
           1e-8,
           "rgb(12,51,131)"
          ],
          [
           0.001,
           "rgb(10,136,186)"
          ],
          [
           0.01,
           "rgb(242,211,56)"
          ],
          [
           0.1,
           "rgb(242,143,56)"
          ],
          [
           1,
           "rgb(217,30,30)"
          ]
         ]
        },
        "font": {
         "family": "Times",
         "size": 15
        },
        "images": [
         {
          "layer": "below",
          "sizex": 360,
          "sizey": 180,
          "source": "../stats/background_map.png",
          "x": 0,
          "xref": "x",
          "y": 180,
          "yref": "y"
         }
        ],
        "margin": {
         "b": 55,
         "l": 55,
         "r": 55,
         "t": 55
        },
        "paper_bgcolor": "#f5f2f0",
        "plot_bgcolor": "#f5f2f0",
        "template": {
         "data": {
          "bar": [
           {
            "error_x": {
             "color": "#2a3f5f"
            },
            "error_y": {
             "color": "#2a3f5f"
            },
            "marker": {
             "line": {
              "color": "#E5ECF6",
              "width": 0.5
             },
             "pattern": {
              "fillmode": "overlay",
              "size": 10,
              "solidity": 0.2
             }
            },
            "type": "bar"
           }
          ],
          "barpolar": [
           {
            "marker": {
             "line": {
              "color": "#E5ECF6",
              "width": 0.5
             },
             "pattern": {
              "fillmode": "overlay",
              "size": 10,
              "solidity": 0.2
             }
            },
            "type": "barpolar"
           }
          ],
          "carpet": [
           {
            "aaxis": {
             "endlinecolor": "#2a3f5f",
             "gridcolor": "white",
             "linecolor": "white",
             "minorgridcolor": "white",
             "startlinecolor": "#2a3f5f"
            },
            "baxis": {
             "endlinecolor": "#2a3f5f",
             "gridcolor": "white",
             "linecolor": "white",
             "minorgridcolor": "white",
             "startlinecolor": "#2a3f5f"
            },
            "type": "carpet"
           }
          ],
          "choropleth": [
           {
            "colorbar": {
             "outlinewidth": 0,
             "ticks": ""
            },
            "type": "choropleth"
           }
          ],
          "contour": [
           {
            "colorbar": {
             "outlinewidth": 0,
             "ticks": ""
            },
            "colorscale": [
             [
              0,
              "#0d0887"
             ],
             [
              0.1111111111111111,
              "#46039f"
             ],
             [
              0.2222222222222222,
              "#7201a8"
             ],
             [
              0.3333333333333333,
              "#9c179e"
             ],
             [
              0.4444444444444444,
              "#bd3786"
             ],
             [
              0.5555555555555556,
              "#d8576b"
             ],
             [
              0.6666666666666666,
              "#ed7953"
             ],
             [
              0.7777777777777778,
              "#fb9f3a"
             ],
             [
              0.8888888888888888,
              "#fdca26"
             ],
             [
              1,
              "#f0f921"
             ]
            ],
            "type": "contour"
           }
          ],
          "contourcarpet": [
           {
            "colorbar": {
             "outlinewidth": 0,
             "ticks": ""
            },
            "type": "contourcarpet"
           }
          ],
          "heatmap": [
           {
            "colorbar": {
             "outlinewidth": 0,
             "ticks": ""
            },
            "colorscale": [
             [
              0,
              "#0d0887"
             ],
             [
              0.1111111111111111,
              "#46039f"
             ],
             [
              0.2222222222222222,
              "#7201a8"
             ],
             [
              0.3333333333333333,
              "#9c179e"
             ],
             [
              0.4444444444444444,
              "#bd3786"
             ],
             [
              0.5555555555555556,
              "#d8576b"
             ],
             [
              0.6666666666666666,
              "#ed7953"
             ],
             [
              0.7777777777777778,
              "#fb9f3a"
             ],
             [
              0.8888888888888888,
              "#fdca26"
             ],
             [
              1,
              "#f0f921"
             ]
            ],
            "type": "heatmap"
           }
          ],
          "histogram": [
           {
            "marker": {
             "pattern": {
              "fillmode": "overlay",
              "size": 10,
              "solidity": 0.2
             }
            },
            "type": "histogram"
           }
          ],
          "histogram2d": [
           {
            "colorbar": {
             "outlinewidth": 0,
             "ticks": ""
            },
            "colorscale": [
             [
              0,
              "#0d0887"
             ],
             [
              0.1111111111111111,
              "#46039f"
             ],
             [
              0.2222222222222222,
              "#7201a8"
             ],
             [
              0.3333333333333333,
              "#9c179e"
             ],
             [
              0.4444444444444444,
              "#bd3786"
             ],
             [
              0.5555555555555556,
              "#d8576b"
             ],
             [
              0.6666666666666666,
              "#ed7953"
             ],
             [
              0.7777777777777778,
              "#fb9f3a"
             ],
             [
              0.8888888888888888,
              "#fdca26"
             ],
             [
              1,
              "#f0f921"
             ]
            ],
            "type": "histogram2d"
           }
          ],
          "histogram2dcontour": [
           {
            "colorbar": {
             "outlinewidth": 0,
             "ticks": ""
            },
            "colorscale": [
             [
              0,
              "#0d0887"
             ],
             [
              0.1111111111111111,
              "#46039f"
             ],
             [
              0.2222222222222222,
              "#7201a8"
             ],
             [
              0.3333333333333333,
              "#9c179e"
             ],
             [
              0.4444444444444444,
              "#bd3786"
             ],
             [
              0.5555555555555556,
              "#d8576b"
             ],
             [
              0.6666666666666666,
              "#ed7953"
             ],
             [
              0.7777777777777778,
              "#fb9f3a"
             ],
             [
              0.8888888888888888,
              "#fdca26"
             ],
             [
              1,
              "#f0f921"
             ]
            ],
            "type": "histogram2dcontour"
           }
          ],
          "mesh3d": [
           {
            "colorbar": {
             "outlinewidth": 0,
             "ticks": ""
            },
            "type": "mesh3d"
           }
          ],
          "parcoords": [
           {
            "line": {
             "colorbar": {
              "outlinewidth": 0,
              "ticks": ""
             }
            },
            "type": "parcoords"
           }
          ],
          "pie": [
           {
            "automargin": true,
            "type": "pie"
           }
          ],
          "scatter": [
           {
            "fillpattern": {
             "fillmode": "overlay",
             "size": 10,
             "solidity": 0.2
            },
            "type": "scatter"
           }
          ],
          "scatter3d": [
           {
            "line": {
             "colorbar": {
              "outlinewidth": 0,
              "ticks": ""
             }
            },
            "marker": {
             "colorbar": {
              "outlinewidth": 0,
              "ticks": ""
             }
            },
            "type": "scatter3d"
           }
          ],
          "scattercarpet": [
           {
            "marker": {
             "colorbar": {
              "outlinewidth": 0,
              "ticks": ""
             }
            },
            "type": "scattercarpet"
           }
          ],
          "scattergeo": [
           {
            "marker": {
             "colorbar": {
              "outlinewidth": 0,
              "ticks": ""
             }
            },
            "type": "scattergeo"
           }
          ],
          "scattergl": [
           {
            "marker": {
             "colorbar": {
              "outlinewidth": 0,
              "ticks": ""
             }
            },
            "type": "scattergl"
           }
          ],
          "scattermap": [
           {
            "marker": {
             "colorbar": {
              "outlinewidth": 0,
              "ticks": ""
             }
            },
            "type": "scattermap"
           }
          ],
          "scattermapbox": [
           {
            "marker": {
             "colorbar": {
              "outlinewidth": 0,
              "ticks": ""
             }
            },
            "type": "scattermapbox"
           }
          ],
          "scatterpolar": [
           {
            "marker": {
             "colorbar": {
              "outlinewidth": 0,
              "ticks": ""
             }
            },
            "type": "scatterpolar"
           }
          ],
          "scatterpolargl": [
           {
            "marker": {
             "colorbar": {
              "outlinewidth": 0,
              "ticks": ""
             }
            },
            "type": "scatterpolargl"
           }
          ],
          "scatterternary": [
           {
            "marker": {
             "colorbar": {
              "outlinewidth": 0,
              "ticks": ""
             }
            },
            "type": "scatterternary"
           }
          ],
          "surface": [
           {
            "colorbar": {
             "outlinewidth": 0,
             "ticks": ""
            },
            "colorscale": [
             [
              0,
              "#0d0887"
             ],
             [
              0.1111111111111111,
              "#46039f"
             ],
             [
              0.2222222222222222,
              "#7201a8"
             ],
             [
              0.3333333333333333,
              "#9c179e"
             ],
             [
              0.4444444444444444,
              "#bd3786"
             ],
             [
              0.5555555555555556,
              "#d8576b"
             ],
             [
              0.6666666666666666,
              "#ed7953"
             ],
             [
              0.7777777777777778,
              "#fb9f3a"
             ],
             [
              0.8888888888888888,
              "#fdca26"
             ],
             [
              1,
              "#f0f921"
             ]
            ],
            "type": "surface"
           }
          ],
          "table": [
           {
            "cells": {
             "fill": {
              "color": "#EBF0F8"
             },
             "line": {
              "color": "white"
             }
            },
            "header": {
             "fill": {
              "color": "#C8D4E3"
             },
             "line": {
              "color": "white"
             }
            },
            "type": "table"
           }
          ]
         },
         "layout": {
          "annotationdefaults": {
           "arrowcolor": "#2a3f5f",
           "arrowhead": 0,
           "arrowwidth": 1
          },
          "autotypenumbers": "strict",
          "coloraxis": {
           "colorbar": {
            "outlinewidth": 0,
            "ticks": ""
           }
          },
          "colorscale": {
           "diverging": [
            [
             0,
             "#8e0152"
            ],
            [
             0.1,
             "#c51b7d"
            ],
            [
             0.2,
             "#de77ae"
            ],
            [
             0.3,
             "#f1b6da"
            ],
            [
             0.4,
             "#fde0ef"
            ],
            [
             0.5,
             "#f7f7f7"
            ],
            [
             0.6,
             "#e6f5d0"
            ],
            [
             0.7,
             "#b8e186"
            ],
            [
             0.8,
             "#7fbc41"
            ],
            [
             0.9,
             "#4d9221"
            ],
            [
             1,
             "#276419"
            ]
           ],
           "sequential": [
            [
             0,
             "#0d0887"
            ],
            [
             0.1111111111111111,
             "#46039f"
            ],
            [
             0.2222222222222222,
             "#7201a8"
            ],
            [
             0.3333333333333333,
             "#9c179e"
            ],
            [
             0.4444444444444444,
             "#bd3786"
            ],
            [
             0.5555555555555556,
             "#d8576b"
            ],
            [
             0.6666666666666666,
             "#ed7953"
            ],
            [
             0.7777777777777778,
             "#fb9f3a"
            ],
            [
             0.8888888888888888,
             "#fdca26"
            ],
            [
             1,
             "#f0f921"
            ]
           ],
           "sequentialminus": [
            [
             0,
             "#0d0887"
            ],
            [
             0.1111111111111111,
             "#46039f"
            ],
            [
             0.2222222222222222,
             "#7201a8"
            ],
            [
             0.3333333333333333,
             "#9c179e"
            ],
            [
             0.4444444444444444,
             "#bd3786"
            ],
            [
             0.5555555555555556,
             "#d8576b"
            ],
            [
             0.6666666666666666,
             "#ed7953"
            ],
            [
             0.7777777777777778,
             "#fb9f3a"
            ],
            [
             0.8888888888888888,
             "#fdca26"
            ],
            [
             1,
             "#f0f921"
            ]
           ]
          },
          "colorway": [
           "#636efa",
           "#EF553B",
           "#00cc96",
           "#ab63fa",
           "#FFA15A",
           "#19d3f3",
           "#FF6692",
           "#B6E880",
           "#FF97FF",
           "#FECB52"
          ],
          "font": {
           "color": "#2a3f5f"
          },
          "geo": {
           "bgcolor": "white",
           "lakecolor": "white",
           "landcolor": "#E5ECF6",
           "showlakes": true,
           "showland": true,
           "subunitcolor": "white"
          },
          "hoverlabel": {
           "align": "left"
          },
          "hovermode": "closest",
          "mapbox": {
           "style": "light"
          },
          "paper_bgcolor": "white",
          "plot_bgcolor": "#E5ECF6",
          "polar": {
           "angularaxis": {
            "gridcolor": "white",
            "linecolor": "white",
            "ticks": ""
           },
           "bgcolor": "#E5ECF6",
           "radialaxis": {
            "gridcolor": "white",
            "linecolor": "white",
            "ticks": ""
           }
          },
          "scene": {
           "xaxis": {
            "backgroundcolor": "#E5ECF6",
            "gridcolor": "white",
            "gridwidth": 2,
            "linecolor": "white",
            "showbackground": true,
            "ticks": "",
            "zerolinecolor": "white"
           },
           "yaxis": {
            "backgroundcolor": "#E5ECF6",
            "gridcolor": "white",
            "gridwidth": 2,
            "linecolor": "white",
            "showbackground": true,
            "ticks": "",
            "zerolinecolor": "white"
           },
           "zaxis": {
            "backgroundcolor": "#E5ECF6",
            "gridcolor": "white",
            "gridwidth": 2,
            "linecolor": "white",
            "showbackground": true,
            "ticks": "",
            "zerolinecolor": "white"
           }
          },
          "shapedefaults": {
           "line": {
            "color": "#2a3f5f"
           }
          },
          "ternary": {
           "aaxis": {
            "gridcolor": "white",
            "linecolor": "white",
            "ticks": ""
           },
           "baxis": {
            "gridcolor": "white",
            "linecolor": "white",
            "ticks": ""
           },
           "bgcolor": "#E5ECF6",
           "caxis": {
            "gridcolor": "white",
            "linecolor": "white",
            "ticks": ""
           }
          },
          "title": {
           "x": 0.05
          },
          "xaxis": {
           "automargin": true,
           "gridcolor": "white",
           "linecolor": "white",
           "ticks": "",
           "title": {
            "standoff": 15
           },
           "zerolinecolor": "white",
           "zerolinewidth": 2
          },
          "yaxis": {
           "automargin": true,
           "gridcolor": "white",
           "linecolor": "white",
           "ticks": "",
           "title": {
            "standoff": 15
           },
           "zerolinecolor": "white",
           "zerolinewidth": 2
          }
         }
        },
        "title": {
         "text": "Notes Count",
         "x": 0.5
        },
        "xaxis": {
         "range": [
          0,
          360
         ],
         "showgrid": false,
         "title": {
          "text": "x"
         },
         "visible": false
        },
        "yaxis": {
         "range": [
          0,
          180
         ],
         "scaleanchor": "x",
         "scaleratio": 1,
         "showgrid": false,
         "title": {
          "text": "y"
         },
         "visible": false
        }
       }
      }
     },
     "metadata": {},
     "output_type": "display_data"
    }
   ],
   "source": [
    "df = duckdb.sql(\"\"\"\n",
    "SELECT\n",
    "    mid_pos_x as x,\n",
    "    mid_pos_y as y,\n",
    "    COUNT(*) as z\n",
    "FROM '../notes_data/*.parquet'\n",
    "WHERE mid_pos_x IS NOT NULL AND mid_pos_y IS NOT NULL\n",
    "GROUP BY mid_pos_x, mid_pos_y\n",
    "\"\"\").df()\n",
    "\n",
    "util.show_figure(\n",
    "    [\n",
    "        util.FigureConfig(\n",
    "            title=\"Notes Count\",\n",
    "            x_col=\"x\",\n",
    "            y_col=\"y\",\n",
    "            z_col=\"z\",\n",
    "            query_or_df=df,\n",
    "            plot_type=\"map\",\n",
    "        )\n",
    "    ]\n",
    ")"
   ]
  },
  {
   "cell_type": "markdown",
   "metadata": {},
   "source": [
    "## Notes Comments Activity"
   ]
  },
  {
   "cell_type": "code",
   "execution_count": 5,
   "metadata": {},
   "outputs": [
    {
     "data": {
      "application/vnd.plotly.v1+json": {
       "config": {
        "plotlyServerURL": "https://plot.ly"
       },
       "data": [
        {
         "hovertemplate": "Comments<br>%{x}<br>%{y:,} Comments<extra></extra>",
         "name": "Comments",
         "type": "scatter",
         "visible": true,
         "x": [
          "2013-04",
          "2013-05",
          "2013-06",
          "2013-07",
          "2013-08",
          "2013-09",
          "2013-10",
          "2013-11",
          "2013-12",
          "2014-01",
          "2014-02",
          "2014-03",
          "2014-04",
          "2014-05",
          "2014-06",
          "2014-07",
          "2014-08",
          "2014-09",
          "2014-10",
          "2014-11",
          "2014-12",
          "2015-01",
          "2015-02",
          "2015-03",
          "2015-04",
          "2015-05",
          "2015-06",
          "2015-07",
          "2015-08",
          "2015-09",
          "2015-10",
          "2015-11",
          "2015-12",
          "2016-01",
          "2016-02",
          "2016-03",
          "2016-04",
          "2016-05",
          "2016-06",
          "2016-07",
          "2016-08",
          "2016-09",
          "2016-10",
          "2016-11",
          "2016-12",
          "2017-01",
          "2017-02",
          "2017-03",
          "2017-04",
          "2017-05",
          "2017-06",
          "2017-07",
          "2017-08",
          "2017-09",
          "2017-10",
          "2017-11",
          "2017-12",
          "2018-01",
          "2018-02",
          "2018-03",
          "2018-04",
          "2018-05",
          "2018-06",
          "2018-07",
          "2018-08",
          "2018-09",
          "2018-10",
          "2018-11",
          "2018-12",
          "2019-01",
          "2019-02",
          "2019-03",
          "2019-04",
          "2019-05",
          "2019-06",
          "2019-07",
          "2019-08",
          "2019-09",
          "2019-10",
          "2019-11",
          "2019-12",
          "2020-01",
          "2020-02",
          "2020-03",
          "2020-04",
          "2020-05",
          "2020-06",
          "2020-07",
          "2020-08",
          "2020-09",
          "2020-10",
          "2020-11",
          "2020-12",
          "2021-01",
          "2021-02",
          "2021-03",
          "2021-04",
          "2021-05",
          "2021-06",
          "2021-07",
          "2021-08",
          "2021-09",
          "2021-10",
          "2021-11",
          "2021-12",
          "2022-01",
          "2022-02",
          "2022-03",
          "2022-04",
          "2022-05",
          "2022-06",
          "2022-07",
          "2022-08",
          "2022-09",
          "2022-10",
          "2022-11",
          "2022-12",
          "2023-01",
          "2023-02",
          "2023-03",
          "2023-04",
          "2023-05",
          "2023-06",
          "2023-07",
          "2023-08",
          "2023-09",
          "2023-10",
          "2023-11",
          "2023-12",
          "2024-01",
          "2024-02",
          "2024-03",
          "2024-04",
          "2024-05",
          "2024-06",
          "2024-07",
          "2024-08",
          "2024-09",
          "2024-10",
          "2024-11",
          "2024-12",
          "2025-01",
          "2025-02",
          "2025-03",
          "2025-04",
          "2025-05",
          "2025-06",
          "2025-07",
          "2025-08",
          "2025-09"
         ],
         "y": {
          "bdata": "CQMAAKITAADuGgAAhSkAAPZQAABYWwAAW2AAAMNOAADjSAAA+lsAAPhYAAA6XgAAVWAAAPRnAADFWQAA1GIAAGp3AAD5YAAAR18AAONeAAC1ZAAAd2cAAJZkAAAdZQAAvmcAAORsAAC6agAAH2sAALx8AAAcdAAAaG0AANNkAABjZwAAVGUAAHtfAAAPYAAAgoEAABuIAADNwQAASewAABoMAQCm3AAAatIAALPGAADu0AAA8NgAAPi7AAB32QAAKdMAACnXAAAg1AAAAe0AAHrpAADu4QAAVdsAAJjWAACG1wAAq9sAAPu9AADwwgAANtsAAGXhAABZzQAAC80AAOUBAQCM7gAAf84AALi9AAABwQAA19UAALmxAADEwwAApNgAAKr1AACj2gAASNwAAJQUAQDz4QAAKeUAAArMAAAHzAAAE9sAAL/NAABe8wAAngIBAGn6AADI8AAAyvUAAPARAQDqCwEAigMBAAQgAQC18gAAlDIBAGsCAQDjIgEAqSkBAIM4AQBuHQEAQC4BAABdAQBPOAEABSUBAB4VAQDLBgEA+B0BAAcLAQA/JwEAFiMBAKQuAQBLMgEAFEABAFJXAQBuEQEAt1EBAC4oAQBsCgEAtzEBANscAQAxUAEAl0QBAIpAAQBiNAEAZ1wBAPJ4AgCFeQEAF4EBAK9RAQB/JQEAwGUBALAaAQDfNgEAGloBAEKJAQCTPgEATVABALyRAQCrbgEA6jsBABskAQDtAwEADD4BAI4kAQDzZgEAyGEBAIOFAQCEcAEACZQBAJv5AQDcbwEA",
          "dtype": "i4"
         }
        },
        {
         "hovertemplate": "Comments<br>%{x}<br>%{y:,} Commenters<extra></extra>",
         "name": "Comments",
         "type": "scatter",
         "visible": false,
         "x": [
          "2013-04",
          "2013-05",
          "2013-06",
          "2013-07",
          "2013-08",
          "2013-09",
          "2013-10",
          "2013-11",
          "2013-12",
          "2014-01",
          "2014-02",
          "2014-03",
          "2014-04",
          "2014-05",
          "2014-06",
          "2014-07",
          "2014-08",
          "2014-09",
          "2014-10",
          "2014-11",
          "2014-12",
          "2015-01",
          "2015-02",
          "2015-03",
          "2015-04",
          "2015-05",
          "2015-06",
          "2015-07",
          "2015-08",
          "2015-09",
          "2015-10",
          "2015-11",
          "2015-12",
          "2016-01",
          "2016-02",
          "2016-03",
          "2016-04",
          "2016-05",
          "2016-06",
          "2016-07",
          "2016-08",
          "2016-09",
          "2016-10",
          "2016-11",
          "2016-12",
          "2017-01",
          "2017-02",
          "2017-03",
          "2017-04",
          "2017-05",
          "2017-06",
          "2017-07",
          "2017-08",
          "2017-09",
          "2017-10",
          "2017-11",
          "2017-12",
          "2018-01",
          "2018-02",
          "2018-03",
          "2018-04",
          "2018-05",
          "2018-06",
          "2018-07",
          "2018-08",
          "2018-09",
          "2018-10",
          "2018-11",
          "2018-12",
          "2019-01",
          "2019-02",
          "2019-03",
          "2019-04",
          "2019-05",
          "2019-06",
          "2019-07",
          "2019-08",
          "2019-09",
          "2019-10",
          "2019-11",
          "2019-12",
          "2020-01",
          "2020-02",
          "2020-03",
          "2020-04",
          "2020-05",
          "2020-06",
          "2020-07",
          "2020-08",
          "2020-09",
          "2020-10",
          "2020-11",
          "2020-12",
          "2021-01",
          "2021-02",
          "2021-03",
          "2021-04",
          "2021-05",
          "2021-06",
          "2021-07",
          "2021-08",
          "2021-09",
          "2021-10",
          "2021-11",
          "2021-12",
          "2022-01",
          "2022-02",
          "2022-03",
          "2022-04",
          "2022-05",
          "2022-06",
          "2022-07",
          "2022-08",
          "2022-09",
          "2022-10",
          "2022-11",
          "2022-12",
          "2023-01",
          "2023-02",
          "2023-03",
          "2023-04",
          "2023-05",
          "2023-06",
          "2023-07",
          "2023-08",
          "2023-09",
          "2023-10",
          "2023-11",
          "2023-12",
          "2024-01",
          "2024-02",
          "2024-03",
          "2024-04",
          "2024-05",
          "2024-06",
          "2024-07",
          "2024-08",
          "2024-09",
          "2024-10",
          "2024-11",
          "2024-12",
          "2025-01",
          "2025-02",
          "2025-03",
          "2025-04",
          "2025-05",
          "2025-06",
          "2025-07",
          "2025-08",
          "2025-09"
         ],
         "y": {
          "bdata": "CgFCA5YDMAXqB34IhwjiBzMIWgoCCQwKxAlKCjYJ3wmuC9QJ0Am0CewJNQpjCu8KlwulCx0LeAvrCz0LegoOC9cKaAvNCkELOBDKEO0jDi6pMFooASoBJ8YrxCwDJr0rgCeZJZEi4SarJaUi+h9GHuohxR8dG/wdUR3vH3oc1x12Ig0ezx0AGxQbGxxZGsYdJh6sHkAd6x/EIm0elCBFHisbFh63GWMbJht6HZgdXSDXIHAffh2zGxwaCx5VHgMh0h64Hn8gTB8tIIgdsxsaGhYZ5Rt9Gf8baBw0H90cWR42IF0cyR2qG7gYhBxKHE8foB+nIAAg1yOHJVQjGCGwGwgaIR6YHBcfyx/8JDMimiNqKTskvCN1HyMcHSH2IUEnaibyJ9QmEirkLLwo",
          "dtype": "i2"
         }
        },
        {
         "hovertemplate": "Comments<br>%{x}<br>%{y:,} Notes with Comments<extra></extra>",
         "name": "Comments",
         "type": "scatter",
         "visible": false,
         "x": [
          "2013-04",
          "2013-05",
          "2013-06",
          "2013-07",
          "2013-08",
          "2013-09",
          "2013-10",
          "2013-11",
          "2013-12",
          "2014-01",
          "2014-02",
          "2014-03",
          "2014-04",
          "2014-05",
          "2014-06",
          "2014-07",
          "2014-08",
          "2014-09",
          "2014-10",
          "2014-11",
          "2014-12",
          "2015-01",
          "2015-02",
          "2015-03",
          "2015-04",
          "2015-05",
          "2015-06",
          "2015-07",
          "2015-08",
          "2015-09",
          "2015-10",
          "2015-11",
          "2015-12",
          "2016-01",
          "2016-02",
          "2016-03",
          "2016-04",
          "2016-05",
          "2016-06",
          "2016-07",
          "2016-08",
          "2016-09",
          "2016-10",
          "2016-11",
          "2016-12",
          "2017-01",
          "2017-02",
          "2017-03",
          "2017-04",
          "2017-05",
          "2017-06",
          "2017-07",
          "2017-08",
          "2017-09",
          "2017-10",
          "2017-11",
          "2017-12",
          "2018-01",
          "2018-02",
          "2018-03",
          "2018-04",
          "2018-05",
          "2018-06",
          "2018-07",
          "2018-08",
          "2018-09",
          "2018-10",
          "2018-11",
          "2018-12",
          "2019-01",
          "2019-02",
          "2019-03",
          "2019-04",
          "2019-05",
          "2019-06",
          "2019-07",
          "2019-08",
          "2019-09",
          "2019-10",
          "2019-11",
          "2019-12",
          "2020-01",
          "2020-02",
          "2020-03",
          "2020-04",
          "2020-05",
          "2020-06",
          "2020-07",
          "2020-08",
          "2020-09",
          "2020-10",
          "2020-11",
          "2020-12",
          "2021-01",
          "2021-02",
          "2021-03",
          "2021-04",
          "2021-05",
          "2021-06",
          "2021-07",
          "2021-08",
          "2021-09",
          "2021-10",
          "2021-11",
          "2021-12",
          "2022-01",
          "2022-02",
          "2022-03",
          "2022-04",
          "2022-05",
          "2022-06",
          "2022-07",
          "2022-08",
          "2022-09",
          "2022-10",
          "2022-11",
          "2022-12",
          "2023-01",
          "2023-02",
          "2023-03",
          "2023-04",
          "2023-05",
          "2023-06",
          "2023-07",
          "2023-08",
          "2023-09",
          "2023-10",
          "2023-11",
          "2023-12",
          "2024-01",
          "2024-02",
          "2024-03",
          "2024-04",
          "2024-05",
          "2024-06",
          "2024-07",
          "2024-08",
          "2024-09",
          "2024-10",
          "2024-11",
          "2024-12",
          "2025-01",
          "2025-02",
          "2025-03",
          "2025-04",
          "2025-05",
          "2025-06",
          "2025-07",
          "2025-08",
          "2025-09"
         ],
         "y": {
          "bdata": "TgIAAF8OAABHEwAAPB0AAGI2AADAOwAA0UAAANc3AAAENQAAK0MAAG0/AACvQwAA/UUAADJLAAAxQQAAl0gAAO1XAAD5SQAAI0cAAAdGAADnSwAAakoAAMlKAAD9RwAAdkgAAPJKAAAbSwAA7UsAAI1YAACrTgAABk0AAHBIAADySQAAfEoAABZHAAAuRgAAuF0AAF5jAACAjwAAmbQAAFLMAACvpQAAJqMAAL2bAADtpQAAX6cAAIOUAADypQAAIaUAACumAAA7oQAAkbcAAGGzAAAwrQAAc6sAAGSjAAANoQAAx6AAAHyOAABmlAAAcqAAAJOoAABynAAAZpwAAK/AAADftwAAQ50AAIWRAABDlQAAv6EAAKKJAABPlQAA3akAAIbBAABYpQAATqkAAGLTAACErQAA2asAAMCXAAB7mQAAwaMAAIOXAACCswAAD7cAANCyAADLqwAA0rAAABrHAAAUwwAArrwAAO3LAAAPsQAATt8AAM26AAA+zQAAL9EAAGLbAADaywAAdtYAAKn7AADY1wAAnNEAAFrKAAB3vwAAqMwAALC9AACx1QAAm9IAAPPdAADn3gAAiOwAAJ3+AAAgyAAADv0AAFrXAADCwQAAh9wAAEnLAABF8wAABOUAAAHiAAAW3QAAZ/gAAOsKAgAjEQEA6BcBAEfzAADO4AAA5AUBABnNAACQ2QAAhPUAAHEcAQBO3AAAi+kAAOsXAQBPAAEAO94AAIfRAADxuwAA4OIAAEbJAAC5+AAAVvcAANENAQD0/gAAwRYBAOh5AQAWAwEA",
          "dtype": "i4"
         }
        }
       ],
       "layout": {
        "barmode": "stack",
        "font": {
         "family": "Times",
         "size": 15
        },
        "margin": {
         "b": 55,
         "l": 55,
         "r": 55,
         "t": 55
        },
        "paper_bgcolor": "#f5f2f0",
        "plot_bgcolor": "#f5f2f0",
        "template": {
         "data": {
          "bar": [
           {
            "error_x": {
             "color": "#2a3f5f"
            },
            "error_y": {
             "color": "#2a3f5f"
            },
            "marker": {
             "line": {
              "color": "#E5ECF6",
              "width": 0.5
             },
             "pattern": {
              "fillmode": "overlay",
              "size": 10,
              "solidity": 0.2
             }
            },
            "type": "bar"
           }
          ],
          "barpolar": [
           {
            "marker": {
             "line": {
              "color": "#E5ECF6",
              "width": 0.5
             },
             "pattern": {
              "fillmode": "overlay",
              "size": 10,
              "solidity": 0.2
             }
            },
            "type": "barpolar"
           }
          ],
          "carpet": [
           {
            "aaxis": {
             "endlinecolor": "#2a3f5f",
             "gridcolor": "white",
             "linecolor": "white",
             "minorgridcolor": "white",
             "startlinecolor": "#2a3f5f"
            },
            "baxis": {
             "endlinecolor": "#2a3f5f",
             "gridcolor": "white",
             "linecolor": "white",
             "minorgridcolor": "white",
             "startlinecolor": "#2a3f5f"
            },
            "type": "carpet"
           }
          ],
          "choropleth": [
           {
            "colorbar": {
             "outlinewidth": 0,
             "ticks": ""
            },
            "type": "choropleth"
           }
          ],
          "contour": [
           {
            "colorbar": {
             "outlinewidth": 0,
             "ticks": ""
            },
            "colorscale": [
             [
              0,
              "#0d0887"
             ],
             [
              0.1111111111111111,
              "#46039f"
             ],
             [
              0.2222222222222222,
              "#7201a8"
             ],
             [
              0.3333333333333333,
              "#9c179e"
             ],
             [
              0.4444444444444444,
              "#bd3786"
             ],
             [
              0.5555555555555556,
              "#d8576b"
             ],
             [
              0.6666666666666666,
              "#ed7953"
             ],
             [
              0.7777777777777778,
              "#fb9f3a"
             ],
             [
              0.8888888888888888,
              "#fdca26"
             ],
             [
              1,
              "#f0f921"
             ]
            ],
            "type": "contour"
           }
          ],
          "contourcarpet": [
           {
            "colorbar": {
             "outlinewidth": 0,
             "ticks": ""
            },
            "type": "contourcarpet"
           }
          ],
          "heatmap": [
           {
            "colorbar": {
             "outlinewidth": 0,
             "ticks": ""
            },
            "colorscale": [
             [
              0,
              "#0d0887"
             ],
             [
              0.1111111111111111,
              "#46039f"
             ],
             [
              0.2222222222222222,
              "#7201a8"
             ],
             [
              0.3333333333333333,
              "#9c179e"
             ],
             [
              0.4444444444444444,
              "#bd3786"
             ],
             [
              0.5555555555555556,
              "#d8576b"
             ],
             [
              0.6666666666666666,
              "#ed7953"
             ],
             [
              0.7777777777777778,
              "#fb9f3a"
             ],
             [
              0.8888888888888888,
              "#fdca26"
             ],
             [
              1,
              "#f0f921"
             ]
            ],
            "type": "heatmap"
           }
          ],
          "histogram": [
           {
            "marker": {
             "pattern": {
              "fillmode": "overlay",
              "size": 10,
              "solidity": 0.2
             }
            },
            "type": "histogram"
           }
          ],
          "histogram2d": [
           {
            "colorbar": {
             "outlinewidth": 0,
             "ticks": ""
            },
            "colorscale": [
             [
              0,
              "#0d0887"
             ],
             [
              0.1111111111111111,
              "#46039f"
             ],
             [
              0.2222222222222222,
              "#7201a8"
             ],
             [
              0.3333333333333333,
              "#9c179e"
             ],
             [
              0.4444444444444444,
              "#bd3786"
             ],
             [
              0.5555555555555556,
              "#d8576b"
             ],
             [
              0.6666666666666666,
              "#ed7953"
             ],
             [
              0.7777777777777778,
              "#fb9f3a"
             ],
             [
              0.8888888888888888,
              "#fdca26"
             ],
             [
              1,
              "#f0f921"
             ]
            ],
            "type": "histogram2d"
           }
          ],
          "histogram2dcontour": [
           {
            "colorbar": {
             "outlinewidth": 0,
             "ticks": ""
            },
            "colorscale": [
             [
              0,
              "#0d0887"
             ],
             [
              0.1111111111111111,
              "#46039f"
             ],
             [
              0.2222222222222222,
              "#7201a8"
             ],
             [
              0.3333333333333333,
              "#9c179e"
             ],
             [
              0.4444444444444444,
              "#bd3786"
             ],
             [
              0.5555555555555556,
              "#d8576b"
             ],
             [
              0.6666666666666666,
              "#ed7953"
             ],
             [
              0.7777777777777778,
              "#fb9f3a"
             ],
             [
              0.8888888888888888,
              "#fdca26"
             ],
             [
              1,
              "#f0f921"
             ]
            ],
            "type": "histogram2dcontour"
           }
          ],
          "mesh3d": [
           {
            "colorbar": {
             "outlinewidth": 0,
             "ticks": ""
            },
            "type": "mesh3d"
           }
          ],
          "parcoords": [
           {
            "line": {
             "colorbar": {
              "outlinewidth": 0,
              "ticks": ""
             }
            },
            "type": "parcoords"
           }
          ],
          "pie": [
           {
            "automargin": true,
            "type": "pie"
           }
          ],
          "scatter": [
           {
            "fillpattern": {
             "fillmode": "overlay",
             "size": 10,
             "solidity": 0.2
            },
            "type": "scatter"
           }
          ],
          "scatter3d": [
           {
            "line": {
             "colorbar": {
              "outlinewidth": 0,
              "ticks": ""
             }
            },
            "marker": {
             "colorbar": {
              "outlinewidth": 0,
              "ticks": ""
             }
            },
            "type": "scatter3d"
           }
          ],
          "scattercarpet": [
           {
            "marker": {
             "colorbar": {
              "outlinewidth": 0,
              "ticks": ""
             }
            },
            "type": "scattercarpet"
           }
          ],
          "scattergeo": [
           {
            "marker": {
             "colorbar": {
              "outlinewidth": 0,
              "ticks": ""
             }
            },
            "type": "scattergeo"
           }
          ],
          "scattergl": [
           {
            "marker": {
             "colorbar": {
              "outlinewidth": 0,
              "ticks": ""
             }
            },
            "type": "scattergl"
           }
          ],
          "scattermap": [
           {
            "marker": {
             "colorbar": {
              "outlinewidth": 0,
              "ticks": ""
             }
            },
            "type": "scattermap"
           }
          ],
          "scattermapbox": [
           {
            "marker": {
             "colorbar": {
              "outlinewidth": 0,
              "ticks": ""
             }
            },
            "type": "scattermapbox"
           }
          ],
          "scatterpolar": [
           {
            "marker": {
             "colorbar": {
              "outlinewidth": 0,
              "ticks": ""
             }
            },
            "type": "scatterpolar"
           }
          ],
          "scatterpolargl": [
           {
            "marker": {
             "colorbar": {
              "outlinewidth": 0,
              "ticks": ""
             }
            },
            "type": "scatterpolargl"
           }
          ],
          "scatterternary": [
           {
            "marker": {
             "colorbar": {
              "outlinewidth": 0,
              "ticks": ""
             }
            },
            "type": "scatterternary"
           }
          ],
          "surface": [
           {
            "colorbar": {
             "outlinewidth": 0,
             "ticks": ""
            },
            "colorscale": [
             [
              0,
              "#0d0887"
             ],
             [
              0.1111111111111111,
              "#46039f"
             ],
             [
              0.2222222222222222,
              "#7201a8"
             ],
             [
              0.3333333333333333,
              "#9c179e"
             ],
             [
              0.4444444444444444,
              "#bd3786"
             ],
             [
              0.5555555555555556,
              "#d8576b"
             ],
             [
              0.6666666666666666,
              "#ed7953"
             ],
             [
              0.7777777777777778,
              "#fb9f3a"
             ],
             [
              0.8888888888888888,
              "#fdca26"
             ],
             [
              1,
              "#f0f921"
             ]
            ],
            "type": "surface"
           }
          ],
          "table": [
           {
            "cells": {
             "fill": {
              "color": "#EBF0F8"
             },
             "line": {
              "color": "white"
             }
            },
            "header": {
             "fill": {
              "color": "#C8D4E3"
             },
             "line": {
              "color": "white"
             }
            },
            "type": "table"
           }
          ]
         },
         "layout": {
          "annotationdefaults": {
           "arrowcolor": "#2a3f5f",
           "arrowhead": 0,
           "arrowwidth": 1
          },
          "autotypenumbers": "strict",
          "coloraxis": {
           "colorbar": {
            "outlinewidth": 0,
            "ticks": ""
           }
          },
          "colorscale": {
           "diverging": [
            [
             0,
             "#8e0152"
            ],
            [
             0.1,
             "#c51b7d"
            ],
            [
             0.2,
             "#de77ae"
            ],
            [
             0.3,
             "#f1b6da"
            ],
            [
             0.4,
             "#fde0ef"
            ],
            [
             0.5,
             "#f7f7f7"
            ],
            [
             0.6,
             "#e6f5d0"
            ],
            [
             0.7,
             "#b8e186"
            ],
            [
             0.8,
             "#7fbc41"
            ],
            [
             0.9,
             "#4d9221"
            ],
            [
             1,
             "#276419"
            ]
           ],
           "sequential": [
            [
             0,
             "#0d0887"
            ],
            [
             0.1111111111111111,
             "#46039f"
            ],
            [
             0.2222222222222222,
             "#7201a8"
            ],
            [
             0.3333333333333333,
             "#9c179e"
            ],
            [
             0.4444444444444444,
             "#bd3786"
            ],
            [
             0.5555555555555556,
             "#d8576b"
            ],
            [
             0.6666666666666666,
             "#ed7953"
            ],
            [
             0.7777777777777778,
             "#fb9f3a"
            ],
            [
             0.8888888888888888,
             "#fdca26"
            ],
            [
             1,
             "#f0f921"
            ]
           ],
           "sequentialminus": [
            [
             0,
             "#0d0887"
            ],
            [
             0.1111111111111111,
             "#46039f"
            ],
            [
             0.2222222222222222,
             "#7201a8"
            ],
            [
             0.3333333333333333,
             "#9c179e"
            ],
            [
             0.4444444444444444,
             "#bd3786"
            ],
            [
             0.5555555555555556,
             "#d8576b"
            ],
            [
             0.6666666666666666,
             "#ed7953"
            ],
            [
             0.7777777777777778,
             "#fb9f3a"
            ],
            [
             0.8888888888888888,
             "#fdca26"
            ],
            [
             1,
             "#f0f921"
            ]
           ]
          },
          "colorway": [
           "#636efa",
           "#EF553B",
           "#00cc96",
           "#ab63fa",
           "#FFA15A",
           "#19d3f3",
           "#FF6692",
           "#B6E880",
           "#FF97FF",
           "#FECB52"
          ],
          "font": {
           "color": "#2a3f5f"
          },
          "geo": {
           "bgcolor": "white",
           "lakecolor": "white",
           "landcolor": "#E5ECF6",
           "showlakes": true,
           "showland": true,
           "subunitcolor": "white"
          },
          "hoverlabel": {
           "align": "left"
          },
          "hovermode": "closest",
          "mapbox": {
           "style": "light"
          },
          "paper_bgcolor": "white",
          "plot_bgcolor": "#E5ECF6",
          "polar": {
           "angularaxis": {
            "gridcolor": "white",
            "linecolor": "white",
            "ticks": ""
           },
           "bgcolor": "#E5ECF6",
           "radialaxis": {
            "gridcolor": "white",
            "linecolor": "white",
            "ticks": ""
           }
          },
          "scene": {
           "xaxis": {
            "backgroundcolor": "#E5ECF6",
            "gridcolor": "white",
            "gridwidth": 2,
            "linecolor": "white",
            "showbackground": true,
            "ticks": "",
            "zerolinecolor": "white"
           },
           "yaxis": {
            "backgroundcolor": "#E5ECF6",
            "gridcolor": "white",
            "gridwidth": 2,
            "linecolor": "white",
            "showbackground": true,
            "ticks": "",
            "zerolinecolor": "white"
           },
           "zaxis": {
            "backgroundcolor": "#E5ECF6",
            "gridcolor": "white",
            "gridwidth": 2,
            "linecolor": "white",
            "showbackground": true,
            "ticks": "",
            "zerolinecolor": "white"
           }
          },
          "shapedefaults": {
           "line": {
            "color": "#2a3f5f"
           }
          },
          "ternary": {
           "aaxis": {
            "gridcolor": "white",
            "linecolor": "white",
            "ticks": ""
           },
           "baxis": {
            "gridcolor": "white",
            "linecolor": "white",
            "ticks": ""
           },
           "bgcolor": "#E5ECF6",
           "caxis": {
            "gridcolor": "white",
            "linecolor": "white",
            "ticks": ""
           }
          },
          "title": {
           "x": 0.05
          },
          "xaxis": {
           "automargin": true,
           "gridcolor": "white",
           "linecolor": "white",
           "ticks": "",
           "title": {
            "standoff": 15
           },
           "zerolinecolor": "white",
           "zerolinewidth": 2
          },
          "yaxis": {
           "automargin": true,
           "gridcolor": "white",
           "linecolor": "white",
           "ticks": "",
           "title": {
            "standoff": 15
           },
           "zerolinecolor": "white",
           "zerolinewidth": 2
          }
         }
        },
        "title": {
         "text": "Monthly Comments",
         "x": 0.5
        },
        "updatemenus": [
         {
          "buttons": [
           {
            "args": [
             {
              "visible": [
               true,
               false,
               false
              ]
             },
             {
              "title.text": "Monthly Comments",
              "xaxis.title.text": "months",
              "yaxis.title.text": "Comments"
             }
            ],
            "label": "Comments",
            "method": "update"
           },
           {
            "args": [
             {
              "visible": [
               false,
               true,
               false
              ]
             },
             {
              "title.text": "Monthly Commenters",
              "xaxis.title.text": "months",
              "yaxis.title.text": "Commenters"
             }
            ],
            "label": "Commenters",
            "method": "update"
           },
           {
            "args": [
             {
              "visible": [
               false,
               false,
               true
              ]
             },
             {
              "title.text": "Monthly Notes with Comments",
              "xaxis.title.text": "months",
              "yaxis.title.text": "Notes with Comments"
             }
            ],
            "label": "Notes",
            "method": "update"
           }
          ],
          "type": "buttons"
         }
        ],
        "xaxis": {
         "gridcolor": "darkgray",
         "linecolor": "black",
         "showgrid": true,
         "tickcolor": "black",
         "title": {
          "text": "months"
         },
         "zerolinecolor": "darkgray"
        },
        "yaxis": {
         "gridcolor": "darkgray",
         "linecolor": "black",
         "rangemode": "tozero",
         "showgrid": true,
         "tickcolor": "black",
         "title": {
          "text": "Comments"
         },
         "zerolinecolor": "darkgray"
        }
       }
      }
     },
     "metadata": {},
     "output_type": "display_data"
    }
   ],
   "source": [
    "df = duckdb.sql(\"\"\"\n",
    "SELECT\n",
    "    YEAR(timestamp) as year,\n",
    "    MONTH(timestamp) as month,\n",
    "    CONCAT(YEAR(timestamp), '-', LPAD(CAST(MONTH(timestamp) as VARCHAR), 2, '0')) as months,\n",
    "    COUNT(*) as \"Comments\",\n",
    "    COUNT(DISTINCT user_name) as \"Commenters\",\n",
    "    COUNT(DISTINCT note_id) as \"Notes with Comments\"\n",
    "FROM '../notes_comments_data/*.parquet'\n",
    "WHERE user_name != ''\n",
    "GROUP BY YEAR(timestamp), MONTH(timestamp)\n",
    "ORDER BY year, month\n",
    "\"\"\").df()\n",
    "\n",
    "util.show_figure(\n",
    "    [\n",
    "        util.FigureConfig(\n",
    "            title=\"Monthly Comments\",\n",
    "            label=\"Comments\",\n",
    "            x_col=\"months\",\n",
    "            y_col=\"Comments\",\n",
    "            query_or_df=df,\n",
    "        ),\n",
    "        util.FigureConfig(\n",
    "            title=\"Monthly Commenters\",\n",
    "            label=\"Commenters\",\n",
    "            x_col=\"months\",\n",
    "            y_col=\"Commenters\",\n",
    "            query_or_df=df,\n",
    "        ),\n",
    "        util.FigureConfig(\n",
    "            title=\"Monthly Notes with Comments\",\n",
    "            label=\"Notes\",\n",
    "            x_col=\"months\",\n",
    "            y_col=\"Notes with Comments\",\n",
    "            query_or_df=df,\n",
    "        ),\n",
    "    ]\n",
    ")"
   ]
  },
  {
   "cell_type": "markdown",
   "metadata": {},
   "source": [
    "## Comment Action Types"
   ]
  },
  {
   "cell_type": "code",
   "execution_count": 6,
   "metadata": {},
   "outputs": [
    {
     "data": {
      "application/vnd.plotly.v1+json": {
       "config": {
        "plotlyServerURL": "https://plot.ly"
       },
       "data": [
        {
         "hovertemplate": "opened<br>%{x}<br>%{y:,} Count<extra></extra>",
         "name": "opened",
         "type": "scatter",
         "visible": true,
         "x": [
          "2013-04",
          "2013-05",
          "2013-06",
          "2013-07",
          "2013-08",
          "2013-09",
          "2013-10",
          "2013-11",
          "2013-12",
          "2014-01",
          "2014-02",
          "2014-03",
          "2014-04",
          "2014-05",
          "2014-06",
          "2014-07",
          "2014-08",
          "2014-09",
          "2014-10",
          "2014-11",
          "2014-12",
          "2015-01",
          "2015-02",
          "2015-03",
          "2015-04",
          "2015-05",
          "2015-06",
          "2015-07",
          "2015-08",
          "2015-09",
          "2015-10",
          "2015-11",
          "2015-12",
          "2016-01",
          "2016-02",
          "2016-03",
          "2016-04",
          "2016-05",
          "2016-06",
          "2016-07",
          "2016-08",
          "2016-09",
          "2016-10",
          "2016-11",
          "2016-12",
          "2017-01",
          "2017-02",
          "2017-03",
          "2017-04",
          "2017-05",
          "2017-06",
          "2017-07",
          "2017-08",
          "2017-09",
          "2017-10",
          "2017-11",
          "2017-12",
          "2018-01",
          "2018-02",
          "2018-03",
          "2018-04",
          "2018-05",
          "2018-06",
          "2018-07",
          "2018-08",
          "2018-09",
          "2018-10",
          "2018-11",
          "2018-12",
          "2019-01",
          "2019-02",
          "2019-03",
          "2019-04",
          "2019-05",
          "2019-06",
          "2019-07",
          "2019-08",
          "2019-09",
          "2019-10",
          "2019-11",
          "2019-12",
          "2020-01",
          "2020-02",
          "2020-03",
          "2020-04",
          "2020-05",
          "2020-06",
          "2020-07",
          "2020-08",
          "2020-09",
          "2020-10",
          "2020-11",
          "2020-12",
          "2021-01",
          "2021-02",
          "2021-03",
          "2021-04",
          "2021-05",
          "2021-06",
          "2021-07",
          "2021-08",
          "2021-09",
          "2021-10",
          "2021-11",
          "2021-12",
          "2022-01",
          "2022-02",
          "2022-03",
          "2022-04",
          "2022-05",
          "2022-06",
          "2022-07",
          "2022-08",
          "2022-09",
          "2022-10",
          "2022-11",
          "2022-12",
          "2023-01",
          "2023-02",
          "2023-03",
          "2023-04",
          "2023-05",
          "2023-06",
          "2023-07",
          "2023-08",
          "2023-09",
          "2023-10",
          "2023-11",
          "2023-12",
          "2024-01",
          "2024-02",
          "2024-03",
          "2024-04",
          "2024-05",
          "2024-06",
          "2024-07",
          "2024-08",
          "2024-09",
          "2024-10",
          "2024-11",
          "2024-12",
          "2025-01",
          "2025-02",
          "2025-03",
          "2025-04",
          "2025-05",
          "2025-06",
          "2025-07",
          "2025-08",
          "2025-09"
         ],
         "y": {
          "bdata": "YQMAAOEQAAAuFQAAdyIAAJQ6AAAfPQAAZz4AAJ84AACsMQAA90AAAEo8AAAUQgAAIEIAAP1BAAD0OQAAlUQAAFdeAABFPAAALDkAACc4AABbPAAAgD0AAI06AACqPAAA0TsAALhCAACCPwAASEQAAMJKAADtRQAA1kIAAC08AAADOQAAsTsAANA4AACvPAAAYlEAAEhTAACrfAAAgp8AAAyrAAA1jwAAWogAAEp9AAA1hwAAFpcAAP59AADEkAAACH0AAO57AADbfgAALZMAAEyOAACiiQAAhH8AAIJ5AABHfAAAvnkAAPVrAAClcgAAAoEAAIF9AABEcgAAs30AAJuLAACKjQAAO3gAADFrAACwcgAAJ3oAANBsAAAGhAAAwnkAAL+EAABwfQAASYYAAJSlAABcgwAAsX8AAPZ1AACJbAAAAHwAAGVzAADaiwAAm3sAACKJAADhhQAAEpUAAACiAADLlAAAFosAAM2cAAA4egAA0JEAABGXAAClogAAl6gAAPWwAAAPoAAAC6kAALa/AADCrgAAC6IAABOOAACTiAAACp8AAJiJAAAyoQAARKwAAKipAAD6oQAA8LAAABKyAAC2mAAA8KAAAGqXAAANjwAA35wAAEmYAABipwAAZK4AAKGvAADbpwAAmMEAAK7VAAA9ywAAlrYAAGuaAABtiQAArawAAPeOAAA4oQAAYK0AALm8AABnmQAA/60AABPFAACMrwAAWp4AAKiIAAC8dwAAb48AAEWHAADpogAAeqYAAMS4AAAurwAA9sYAAHnMAAAXqgAA",
          "dtype": "i4"
         }
        },
        {
         "hovertemplate": "closed<br>%{x}<br>%{y:,} Count<extra></extra>",
         "name": "closed",
         "type": "scatter",
         "visible": true,
         "x": [
          "2013-04",
          "2013-05",
          "2013-06",
          "2013-07",
          "2013-08",
          "2013-09",
          "2013-10",
          "2013-11",
          "2013-12",
          "2014-01",
          "2014-02",
          "2014-03",
          "2014-04",
          "2014-05",
          "2014-06",
          "2014-07",
          "2014-08",
          "2014-09",
          "2014-10",
          "2014-11",
          "2014-12",
          "2015-01",
          "2015-02",
          "2015-03",
          "2015-04",
          "2015-05",
          "2015-06",
          "2015-07",
          "2015-08",
          "2015-09",
          "2015-10",
          "2015-11",
          "2015-12",
          "2016-01",
          "2016-02",
          "2016-03",
          "2016-04",
          "2016-05",
          "2016-06",
          "2016-07",
          "2016-08",
          "2016-09",
          "2016-10",
          "2016-11",
          "2016-12",
          "2017-01",
          "2017-02",
          "2017-03",
          "2017-04",
          "2017-05",
          "2017-06",
          "2017-07",
          "2017-08",
          "2017-09",
          "2017-10",
          "2017-11",
          "2017-12",
          "2018-01",
          "2018-02",
          "2018-03",
          "2018-04",
          "2018-05",
          "2018-06",
          "2018-07",
          "2018-08",
          "2018-09",
          "2018-10",
          "2018-11",
          "2018-12",
          "2019-01",
          "2019-02",
          "2019-03",
          "2019-04",
          "2019-05",
          "2019-06",
          "2019-07",
          "2019-08",
          "2019-09",
          "2019-10",
          "2019-11",
          "2019-12",
          "2020-01",
          "2020-02",
          "2020-03",
          "2020-04",
          "2020-05",
          "2020-06",
          "2020-07",
          "2020-08",
          "2020-09",
          "2020-10",
          "2020-11",
          "2020-12",
          "2021-01",
          "2021-02",
          "2021-03",
          "2021-04",
          "2021-05",
          "2021-06",
          "2021-07",
          "2021-08",
          "2021-09",
          "2021-10",
          "2021-11",
          "2021-12",
          "2022-01",
          "2022-02",
          "2022-03",
          "2022-04",
          "2022-05",
          "2022-06",
          "2022-07",
          "2022-08",
          "2022-09",
          "2022-10",
          "2022-11",
          "2022-12",
          "2023-01",
          "2023-02",
          "2023-03",
          "2023-04",
          "2023-05",
          "2023-06",
          "2023-07",
          "2023-08",
          "2023-09",
          "2023-10",
          "2023-11",
          "2023-12",
          "2024-01",
          "2024-02",
          "2024-03",
          "2024-04",
          "2024-05",
          "2024-06",
          "2024-07",
          "2024-08",
          "2024-09",
          "2024-10",
          "2024-11",
          "2024-12",
          "2025-01",
          "2025-02",
          "2025-03",
          "2025-04",
          "2025-05",
          "2025-06",
          "2025-07",
          "2025-08",
          "2025-09"
         ],
         "y": {
          "bdata": "TQEAAGoJAADWDAAAtBQAAH0pAAARLwAAvTIAAEIpAABfJwAAIzIAALoyAAAeMgAAVzQAAD82AADBLwAAfTMAAFpGAADiOAAACDYAAEA0AAAcNgAABDkAAO82AACyNgAAJjcAAKg2AAA1NwAA4jYAAAJBAABfOgAARjkAAGY2AACsOAAAcDcAACI0AACRNAAAMUIAAAFGAAAUUgAAkl4AANhuAABYXQAAyFYAAIVWAABWWwAANV0AACtTAACiXQAA6GcAAK5qAACYZgAAZ28AAFpvAADkawAAx2kAALprAAAYawAAt24AAHZlAAC2YwAAqWwAAEB0AACgawAA/GgAAKiFAADLfwAAPG8AAIlnAADDaQAAqnoAANNhAAC2ZwAA5HUAAJ6QAADJdAAAg3MAADaXAADVfAAA4XsAAOlvAAApdQAASnoAADx2AABMkgAAHpkAAOSAAAAugAAAen8AAPyOAABUjwAA0I4AAKOUAADOiQAAMbEAAIF9AACElwAAC5YAAGSgAAAgjwAA2ZQAABq0AAAfnAAAjZ0AANKfAACmlAAA3ZoAAJGQAADZogAAQ58AAK6mAABxqQAAsKgAAOa7AADokQAA08IAAFKjAAAAjwAA4KwAAF+WAADruQAAcKMAAC6fAADclQAAPqgAAE21AQDBwQAAoNIAABi9AADrrgAAqMcAADacAAB9oAAAjbkAAIPPAADynAAAMKQAAFrCAADOuwAA4KAAAAKeAAAhigAAI64AACOZAACuvwAAZ7UAAK7GAAD0uQAAUMgAAJcjAQBowgAA",
          "dtype": "i4"
         }
        },
        {
         "hovertemplate": "commented<br>%{x}<br>%{y:,} Count<extra></extra>",
         "name": "commented",
         "type": "scatter",
         "visible": true,
         "x": [
          "2013-04",
          "2013-05",
          "2013-06",
          "2013-07",
          "2013-08",
          "2013-09",
          "2013-10",
          "2013-11",
          "2013-12",
          "2014-01",
          "2014-02",
          "2014-03",
          "2014-04",
          "2014-05",
          "2014-06",
          "2014-07",
          "2014-08",
          "2014-09",
          "2014-10",
          "2014-11",
          "2014-12",
          "2015-01",
          "2015-02",
          "2015-03",
          "2015-04",
          "2015-05",
          "2015-06",
          "2015-07",
          "2015-08",
          "2015-09",
          "2015-10",
          "2015-11",
          "2015-12",
          "2016-01",
          "2016-02",
          "2016-03",
          "2016-04",
          "2016-05",
          "2016-06",
          "2016-07",
          "2016-08",
          "2016-09",
          "2016-10",
          "2016-11",
          "2016-12",
          "2017-01",
          "2017-02",
          "2017-03",
          "2017-04",
          "2017-05",
          "2017-06",
          "2017-07",
          "2017-08",
          "2017-09",
          "2017-10",
          "2017-11",
          "2017-12",
          "2018-01",
          "2018-02",
          "2018-03",
          "2018-04",
          "2018-05",
          "2018-06",
          "2018-07",
          "2018-08",
          "2018-09",
          "2018-10",
          "2018-11",
          "2018-12",
          "2019-01",
          "2019-02",
          "2019-03",
          "2019-04",
          "2019-05",
          "2019-06",
          "2019-07",
          "2019-08",
          "2019-09",
          "2019-10",
          "2019-11",
          "2019-12",
          "2020-01",
          "2020-02",
          "2020-03",
          "2020-04",
          "2020-05",
          "2020-06",
          "2020-07",
          "2020-08",
          "2020-09",
          "2020-10",
          "2020-11",
          "2020-12",
          "2021-01",
          "2021-02",
          "2021-03",
          "2021-04",
          "2021-05",
          "2021-06",
          "2021-07",
          "2021-08",
          "2021-09",
          "2021-10",
          "2021-11",
          "2021-12",
          "2022-01",
          "2022-02",
          "2022-03",
          "2022-04",
          "2022-05",
          "2022-06",
          "2022-07",
          "2022-08",
          "2022-09",
          "2022-10",
          "2022-11",
          "2022-12",
          "2023-01",
          "2023-02",
          "2023-03",
          "2023-04",
          "2023-05",
          "2023-06",
          "2023-07",
          "2023-08",
          "2023-09",
          "2023-10",
          "2023-11",
          "2023-12",
          "2024-01",
          "2024-02",
          "2024-03",
          "2024-04",
          "2024-05",
          "2024-06",
          "2024-07",
          "2024-08",
          "2024-09",
          "2024-10",
          "2024-11",
          "2024-12",
          "2025-01",
          "2025-02",
          "2025-03",
          "2025-04",
          "2025-05",
          "2025-06",
          "2025-07",
          "2025-08",
          "2025-09"
         ],
         "y": {
          "bdata": "bwAAANcCAAA7AwAAOwUAAN4JAAAdCwAAnwoAAMkJAAD3CAAAKAwAAD0LAACGDQAAqQsAAH0LAABlCgAAgQwAAAQOAAD0CwAA4QsAABcMAABBDQAAng4AADUOAAAsDgAALA0AAHUNAAAeDgAAdg4AALgOAAAIDgAAOA0AACAOAADqDQAAQw4AAFYMAAA5DgAAsw4AACoPAACtEgAAXhMAAJYXAAD+FAAADxUAAPUSAABxEQAARxUAANQSAAA9FgAA+R4AAHp+AACCZAAAzqYAANsXAAC3EwAABRYAAGMVAAD3FgAAFRoAAO0XAAC7EgAADxcAAPQWAAA/FQAAmBQAAKEZAACgGAAAcxcAADwTAAD2FQAA6hcAAAgWAAAlYwAAPxQAAFwfAAACFQAA1RUAAIQgAABeDgAAwg4AAOALAADSDQAA2A4AALwMAADkDgAADREAABESAADSEwAA6BIAAFUTAAAJFAAAdhIAADETAACrEgAADRcAAJQRAABeEwAAgRQAAGsUAABsFAAAwRYAAIsWAABaEwAA4BQAAHUTAAB1EgAAKxUAAKAYAAC6FQAASBUAAKoWAADjFgAA8xYAAEoZAADPFQAASRgAADkYAACmFAAASxkAAMYZAAAKIAAAqh0AAC0bAAAkGQAASiEAAK4iAAAoIAAAjyMAAOIiAABVGQAAji8AABcdAACDIAAAQSUAAPclAAAKHwAAQiEAAAsqAAB3JwAAhiEAAIYcAACNHAAAOSIAAJUhAAA/JgAAHiUAAHYrAAAvKAAAYCoAAEktAABQJgAA",
          "dtype": "i4"
         }
        },
        {
         "hovertemplate": "reopened<br>%{x}<br>%{y:,} Count<extra></extra>",
         "name": "reopened",
         "type": "scatter",
         "visible": true,
         "x": [
          "2013-06",
          "2013-07",
          "2013-08",
          "2013-09",
          "2013-10",
          "2013-11",
          "2013-12",
          "2014-01",
          "2014-02",
          "2014-03",
          "2014-04",
          "2014-05",
          "2014-06",
          "2014-07",
          "2014-08",
          "2014-09",
          "2014-10",
          "2014-11",
          "2014-12",
          "2015-01",
          "2015-02",
          "2015-03",
          "2015-04",
          "2015-05",
          "2015-06",
          "2015-07",
          "2015-08",
          "2015-09",
          "2015-10",
          "2015-11",
          "2015-12",
          "2016-01",
          "2016-02",
          "2016-03",
          "2016-04",
          "2016-05",
          "2016-06",
          "2016-07",
          "2016-08",
          "2016-09",
          "2016-10",
          "2016-11",
          "2016-12",
          "2017-01",
          "2017-02",
          "2017-03",
          "2017-04",
          "2017-05",
          "2017-06",
          "2017-07",
          "2017-08",
          "2017-09",
          "2017-10",
          "2017-11",
          "2017-12",
          "2018-01",
          "2018-02",
          "2018-03",
          "2018-04",
          "2018-05",
          "2018-06",
          "2018-07",
          "2018-08",
          "2018-09",
          "2018-10",
          "2018-11",
          "2018-12",
          "2019-01",
          "2019-02",
          "2019-03",
          "2019-04",
          "2019-05",
          "2019-06",
          "2019-07",
          "2019-08",
          "2019-09",
          "2019-10",
          "2019-11",
          "2019-12",
          "2020-01",
          "2020-02",
          "2020-03",
          "2020-04",
          "2020-05",
          "2020-06",
          "2020-07",
          "2020-08",
          "2020-09",
          "2020-10",
          "2020-11",
          "2020-12",
          "2021-01",
          "2021-02",
          "2021-03",
          "2021-04",
          "2021-05",
          "2021-06",
          "2021-07",
          "2021-08",
          "2021-09",
          "2021-10",
          "2021-11",
          "2021-12",
          "2022-01",
          "2022-02",
          "2022-03",
          "2022-04",
          "2022-05",
          "2022-06",
          "2022-07",
          "2022-08",
          "2022-09",
          "2022-10",
          "2022-11",
          "2022-12",
          "2023-01",
          "2023-02",
          "2023-03",
          "2023-04",
          "2023-05",
          "2023-06",
          "2023-07",
          "2023-08",
          "2023-09",
          "2023-10",
          "2023-11",
          "2023-12",
          "2024-01",
          "2024-02",
          "2024-03",
          "2024-04",
          "2024-05",
          "2024-06",
          "2024-07",
          "2024-08",
          "2024-09",
          "2024-10",
          "2024-11",
          "2024-12",
          "2025-01",
          "2025-02",
          "2025-03",
          "2025-04",
          "2025-05",
          "2025-06",
          "2025-07",
          "2025-08",
          "2025-09"
         ],
         "y": {
          "bdata": "GQGGAmEEPgWYBD0EmwKZA9ICWANeAx4DjwKlAtgDVgOUAuoC9AJYBF8DvQMCBIQDAgSvAyUE/QPCA+4DqwN9A/kDrAMWBXYEnQT+BBsGYwaeBBkE9ANvBl0FdgZYBlcH9gdhBpgFTgbyBaYFhwiRCLMGswaLBrIHoQanBusHQAdyCCIHBgcWCcEGdAfGBtUHJwdIBw4J+AcIC94JhQiMCd4IvAn6CgsLVQmDCScJHwlBCA4KyAeTCswJ7AlrCt8I0AcyCS4JcQ0ICOEJ8wnTCS4JTQkUCUAJrwgeCAAJEgh+CT0JnAfhCHgJKQrwCB4JpAj9CBsJUQg/ClcOYAe4C+wJZg6QC6sL6Q04CcsKCgtVCsoJ7QeBCjcJ/AtgCtwLsAn8CVAKUQo=",
          "dtype": "i2"
         }
        },
        {
         "hovertemplate": "hidden<br>%{x}<br>%{y:,} Count<extra></extra>",
         "name": "hidden",
         "type": "scatter",
         "visible": true,
         "x": [
          "2015-08",
          "2015-09",
          "2016-04",
          "2018-03",
          "2018-04",
          "2018-05",
          "2018-06",
          "2018-07",
          "2018-08",
          "2018-09",
          "2018-10",
          "2018-11",
          "2018-12",
          "2019-01",
          "2019-02",
          "2019-03",
          "2019-04",
          "2019-05",
          "2019-06",
          "2019-07",
          "2019-08",
          "2019-09",
          "2019-10",
          "2019-11",
          "2019-12",
          "2020-01",
          "2020-02",
          "2020-04",
          "2020-05",
          "2020-08",
          "2020-09",
          "2020-10",
          "2020-11",
          "2020-12",
          "2021-01",
          "2021-02",
          "2021-06",
          "2021-07",
          "2021-08",
          "2021-09",
          "2021-12",
          "2022-01",
          "2022-02",
          "2022-05",
          "2022-07",
          "2022-11",
          "2023-06",
          "2023-09",
          "2023-10",
          "2023-11",
          "2023-12",
          "2024-01",
          "2024-04",
          "2024-05",
          "2024-07",
          "2024-09",
          "2024-10",
          "2024-11",
          "2025-04",
          "2025-06",
          "2025-08"
         ],
         "y": {
          "bdata": "AQABAAEAJwAFAOkAdAAfAAgACAARACcACwASAAQABQAJABMABwAJAAkAJAAsArsAHgADAAEAAgACAAEAAQAFAAMABQABAAMABgAWAAUAAwACAAYAAQACAAEABQABAAEA9gQZAAIAAQABAAEAAQABAAIAAQABAAIAIAA=",
          "dtype": "i2"
         }
        }
       ],
       "layout": {
        "barmode": "stack",
        "font": {
         "family": "Times",
         "size": 15
        },
        "margin": {
         "b": 55,
         "l": 55,
         "r": 55,
         "t": 55
        },
        "paper_bgcolor": "#f5f2f0",
        "plot_bgcolor": "#f5f2f0",
        "template": {
         "data": {
          "bar": [
           {
            "error_x": {
             "color": "#2a3f5f"
            },
            "error_y": {
             "color": "#2a3f5f"
            },
            "marker": {
             "line": {
              "color": "#E5ECF6",
              "width": 0.5
             },
             "pattern": {
              "fillmode": "overlay",
              "size": 10,
              "solidity": 0.2
             }
            },
            "type": "bar"
           }
          ],
          "barpolar": [
           {
            "marker": {
             "line": {
              "color": "#E5ECF6",
              "width": 0.5
             },
             "pattern": {
              "fillmode": "overlay",
              "size": 10,
              "solidity": 0.2
             }
            },
            "type": "barpolar"
           }
          ],
          "carpet": [
           {
            "aaxis": {
             "endlinecolor": "#2a3f5f",
             "gridcolor": "white",
             "linecolor": "white",
             "minorgridcolor": "white",
             "startlinecolor": "#2a3f5f"
            },
            "baxis": {
             "endlinecolor": "#2a3f5f",
             "gridcolor": "white",
             "linecolor": "white",
             "minorgridcolor": "white",
             "startlinecolor": "#2a3f5f"
            },
            "type": "carpet"
           }
          ],
          "choropleth": [
           {
            "colorbar": {
             "outlinewidth": 0,
             "ticks": ""
            },
            "type": "choropleth"
           }
          ],
          "contour": [
           {
            "colorbar": {
             "outlinewidth": 0,
             "ticks": ""
            },
            "colorscale": [
             [
              0,
              "#0d0887"
             ],
             [
              0.1111111111111111,
              "#46039f"
             ],
             [
              0.2222222222222222,
              "#7201a8"
             ],
             [
              0.3333333333333333,
              "#9c179e"
             ],
             [
              0.4444444444444444,
              "#bd3786"
             ],
             [
              0.5555555555555556,
              "#d8576b"
             ],
             [
              0.6666666666666666,
              "#ed7953"
             ],
             [
              0.7777777777777778,
              "#fb9f3a"
             ],
             [
              0.8888888888888888,
              "#fdca26"
             ],
             [
              1,
              "#f0f921"
             ]
            ],
            "type": "contour"
           }
          ],
          "contourcarpet": [
           {
            "colorbar": {
             "outlinewidth": 0,
             "ticks": ""
            },
            "type": "contourcarpet"
           }
          ],
          "heatmap": [
           {
            "colorbar": {
             "outlinewidth": 0,
             "ticks": ""
            },
            "colorscale": [
             [
              0,
              "#0d0887"
             ],
             [
              0.1111111111111111,
              "#46039f"
             ],
             [
              0.2222222222222222,
              "#7201a8"
             ],
             [
              0.3333333333333333,
              "#9c179e"
             ],
             [
              0.4444444444444444,
              "#bd3786"
             ],
             [
              0.5555555555555556,
              "#d8576b"
             ],
             [
              0.6666666666666666,
              "#ed7953"
             ],
             [
              0.7777777777777778,
              "#fb9f3a"
             ],
             [
              0.8888888888888888,
              "#fdca26"
             ],
             [
              1,
              "#f0f921"
             ]
            ],
            "type": "heatmap"
           }
          ],
          "histogram": [
           {
            "marker": {
             "pattern": {
              "fillmode": "overlay",
              "size": 10,
              "solidity": 0.2
             }
            },
            "type": "histogram"
           }
          ],
          "histogram2d": [
           {
            "colorbar": {
             "outlinewidth": 0,
             "ticks": ""
            },
            "colorscale": [
             [
              0,
              "#0d0887"
             ],
             [
              0.1111111111111111,
              "#46039f"
             ],
             [
              0.2222222222222222,
              "#7201a8"
             ],
             [
              0.3333333333333333,
              "#9c179e"
             ],
             [
              0.4444444444444444,
              "#bd3786"
             ],
             [
              0.5555555555555556,
              "#d8576b"
             ],
             [
              0.6666666666666666,
              "#ed7953"
             ],
             [
              0.7777777777777778,
              "#fb9f3a"
             ],
             [
              0.8888888888888888,
              "#fdca26"
             ],
             [
              1,
              "#f0f921"
             ]
            ],
            "type": "histogram2d"
           }
          ],
          "histogram2dcontour": [
           {
            "colorbar": {
             "outlinewidth": 0,
             "ticks": ""
            },
            "colorscale": [
             [
              0,
              "#0d0887"
             ],
             [
              0.1111111111111111,
              "#46039f"
             ],
             [
              0.2222222222222222,
              "#7201a8"
             ],
             [
              0.3333333333333333,
              "#9c179e"
             ],
             [
              0.4444444444444444,
              "#bd3786"
             ],
             [
              0.5555555555555556,
              "#d8576b"
             ],
             [
              0.6666666666666666,
              "#ed7953"
             ],
             [
              0.7777777777777778,
              "#fb9f3a"
             ],
             [
              0.8888888888888888,
              "#fdca26"
             ],
             [
              1,
              "#f0f921"
             ]
            ],
            "type": "histogram2dcontour"
           }
          ],
          "mesh3d": [
           {
            "colorbar": {
             "outlinewidth": 0,
             "ticks": ""
            },
            "type": "mesh3d"
           }
          ],
          "parcoords": [
           {
            "line": {
             "colorbar": {
              "outlinewidth": 0,
              "ticks": ""
             }
            },
            "type": "parcoords"
           }
          ],
          "pie": [
           {
            "automargin": true,
            "type": "pie"
           }
          ],
          "scatter": [
           {
            "fillpattern": {
             "fillmode": "overlay",
             "size": 10,
             "solidity": 0.2
            },
            "type": "scatter"
           }
          ],
          "scatter3d": [
           {
            "line": {
             "colorbar": {
              "outlinewidth": 0,
              "ticks": ""
             }
            },
            "marker": {
             "colorbar": {
              "outlinewidth": 0,
              "ticks": ""
             }
            },
            "type": "scatter3d"
           }
          ],
          "scattercarpet": [
           {
            "marker": {
             "colorbar": {
              "outlinewidth": 0,
              "ticks": ""
             }
            },
            "type": "scattercarpet"
           }
          ],
          "scattergeo": [
           {
            "marker": {
             "colorbar": {
              "outlinewidth": 0,
              "ticks": ""
             }
            },
            "type": "scattergeo"
           }
          ],
          "scattergl": [
           {
            "marker": {
             "colorbar": {
              "outlinewidth": 0,
              "ticks": ""
             }
            },
            "type": "scattergl"
           }
          ],
          "scattermap": [
           {
            "marker": {
             "colorbar": {
              "outlinewidth": 0,
              "ticks": ""
             }
            },
            "type": "scattermap"
           }
          ],
          "scattermapbox": [
           {
            "marker": {
             "colorbar": {
              "outlinewidth": 0,
              "ticks": ""
             }
            },
            "type": "scattermapbox"
           }
          ],
          "scatterpolar": [
           {
            "marker": {
             "colorbar": {
              "outlinewidth": 0,
              "ticks": ""
             }
            },
            "type": "scatterpolar"
           }
          ],
          "scatterpolargl": [
           {
            "marker": {
             "colorbar": {
              "outlinewidth": 0,
              "ticks": ""
             }
            },
            "type": "scatterpolargl"
           }
          ],
          "scatterternary": [
           {
            "marker": {
             "colorbar": {
              "outlinewidth": 0,
              "ticks": ""
             }
            },
            "type": "scatterternary"
           }
          ],
          "surface": [
           {
            "colorbar": {
             "outlinewidth": 0,
             "ticks": ""
            },
            "colorscale": [
             [
              0,
              "#0d0887"
             ],
             [
              0.1111111111111111,
              "#46039f"
             ],
             [
              0.2222222222222222,
              "#7201a8"
             ],
             [
              0.3333333333333333,
              "#9c179e"
             ],
             [
              0.4444444444444444,
              "#bd3786"
             ],
             [
              0.5555555555555556,
              "#d8576b"
             ],
             [
              0.6666666666666666,
              "#ed7953"
             ],
             [
              0.7777777777777778,
              "#fb9f3a"
             ],
             [
              0.8888888888888888,
              "#fdca26"
             ],
             [
              1,
              "#f0f921"
             ]
            ],
            "type": "surface"
           }
          ],
          "table": [
           {
            "cells": {
             "fill": {
              "color": "#EBF0F8"
             },
             "line": {
              "color": "white"
             }
            },
            "header": {
             "fill": {
              "color": "#C8D4E3"
             },
             "line": {
              "color": "white"
             }
            },
            "type": "table"
           }
          ]
         },
         "layout": {
          "annotationdefaults": {
           "arrowcolor": "#2a3f5f",
           "arrowhead": 0,
           "arrowwidth": 1
          },
          "autotypenumbers": "strict",
          "coloraxis": {
           "colorbar": {
            "outlinewidth": 0,
            "ticks": ""
           }
          },
          "colorscale": {
           "diverging": [
            [
             0,
             "#8e0152"
            ],
            [
             0.1,
             "#c51b7d"
            ],
            [
             0.2,
             "#de77ae"
            ],
            [
             0.3,
             "#f1b6da"
            ],
            [
             0.4,
             "#fde0ef"
            ],
            [
             0.5,
             "#f7f7f7"
            ],
            [
             0.6,
             "#e6f5d0"
            ],
            [
             0.7,
             "#b8e186"
            ],
            [
             0.8,
             "#7fbc41"
            ],
            [
             0.9,
             "#4d9221"
            ],
            [
             1,
             "#276419"
            ]
           ],
           "sequential": [
            [
             0,
             "#0d0887"
            ],
            [
             0.1111111111111111,
             "#46039f"
            ],
            [
             0.2222222222222222,
             "#7201a8"
            ],
            [
             0.3333333333333333,
             "#9c179e"
            ],
            [
             0.4444444444444444,
             "#bd3786"
            ],
            [
             0.5555555555555556,
             "#d8576b"
            ],
            [
             0.6666666666666666,
             "#ed7953"
            ],
            [
             0.7777777777777778,
             "#fb9f3a"
            ],
            [
             0.8888888888888888,
             "#fdca26"
            ],
            [
             1,
             "#f0f921"
            ]
           ],
           "sequentialminus": [
            [
             0,
             "#0d0887"
            ],
            [
             0.1111111111111111,
             "#46039f"
            ],
            [
             0.2222222222222222,
             "#7201a8"
            ],
            [
             0.3333333333333333,
             "#9c179e"
            ],
            [
             0.4444444444444444,
             "#bd3786"
            ],
            [
             0.5555555555555556,
             "#d8576b"
            ],
            [
             0.6666666666666666,
             "#ed7953"
            ],
            [
             0.7777777777777778,
             "#fb9f3a"
            ],
            [
             0.8888888888888888,
             "#fdca26"
            ],
            [
             1,
             "#f0f921"
            ]
           ]
          },
          "colorway": [
           "#636efa",
           "#EF553B",
           "#00cc96",
           "#ab63fa",
           "#FFA15A",
           "#19d3f3",
           "#FF6692",
           "#B6E880",
           "#FF97FF",
           "#FECB52"
          ],
          "font": {
           "color": "#2a3f5f"
          },
          "geo": {
           "bgcolor": "white",
           "lakecolor": "white",
           "landcolor": "#E5ECF6",
           "showlakes": true,
           "showland": true,
           "subunitcolor": "white"
          },
          "hoverlabel": {
           "align": "left"
          },
          "hovermode": "closest",
          "mapbox": {
           "style": "light"
          },
          "paper_bgcolor": "white",
          "plot_bgcolor": "#E5ECF6",
          "polar": {
           "angularaxis": {
            "gridcolor": "white",
            "linecolor": "white",
            "ticks": ""
           },
           "bgcolor": "#E5ECF6",
           "radialaxis": {
            "gridcolor": "white",
            "linecolor": "white",
            "ticks": ""
           }
          },
          "scene": {
           "xaxis": {
            "backgroundcolor": "#E5ECF6",
            "gridcolor": "white",
            "gridwidth": 2,
            "linecolor": "white",
            "showbackground": true,
            "ticks": "",
            "zerolinecolor": "white"
           },
           "yaxis": {
            "backgroundcolor": "#E5ECF6",
            "gridcolor": "white",
            "gridwidth": 2,
            "linecolor": "white",
            "showbackground": true,
            "ticks": "",
            "zerolinecolor": "white"
           },
           "zaxis": {
            "backgroundcolor": "#E5ECF6",
            "gridcolor": "white",
            "gridwidth": 2,
            "linecolor": "white",
            "showbackground": true,
            "ticks": "",
            "zerolinecolor": "white"
           }
          },
          "shapedefaults": {
           "line": {
            "color": "#2a3f5f"
           }
          },
          "ternary": {
           "aaxis": {
            "gridcolor": "white",
            "linecolor": "white",
            "ticks": ""
           },
           "baxis": {
            "gridcolor": "white",
            "linecolor": "white",
            "ticks": ""
           },
           "bgcolor": "#E5ECF6",
           "caxis": {
            "gridcolor": "white",
            "linecolor": "white",
            "ticks": ""
           }
          },
          "title": {
           "x": 0.05
          },
          "xaxis": {
           "automargin": true,
           "gridcolor": "white",
           "linecolor": "white",
           "ticks": "",
           "title": {
            "standoff": 15
           },
           "zerolinecolor": "white",
           "zerolinewidth": 2
          },
          "yaxis": {
           "automargin": true,
           "gridcolor": "white",
           "linecolor": "white",
           "ticks": "",
           "title": {
            "standoff": 15
           },
           "zerolinecolor": "white",
           "zerolinewidth": 2
          }
         }
        },
        "title": {
         "text": "Monthly Comment Actions",
         "x": 0.5
        },
        "xaxis": {
         "gridcolor": "darkgray",
         "linecolor": "black",
         "showgrid": true,
         "tickcolor": "black",
         "title": {
          "text": "months"
         },
         "zerolinecolor": "darkgray"
        },
        "yaxis": {
         "gridcolor": "darkgray",
         "linecolor": "black",
         "rangemode": "tozero",
         "showgrid": true,
         "tickcolor": "black",
         "title": {
          "text": "Count"
         },
         "zerolinecolor": "darkgray"
        }
       }
      }
     },
     "metadata": {},
     "output_type": "display_data"
    }
   ],
   "source": [
    "df = duckdb.sql(\"\"\"\n",
    "SELECT\n",
    "    YEAR(timestamp) as year,\n",
    "    MONTH(timestamp) as month,\n",
    "    CONCAT(YEAR(timestamp), '-', LPAD(CAST(MONTH(timestamp) as VARCHAR), 2, '0')) as months,\n",
    "    action,\n",
    "    COUNT(*) as \"Count\"\n",
    "FROM '../notes_comments_data/*.parquet'\n",
    "GROUP BY YEAR(timestamp), MONTH(timestamp), action\n",
    "ORDER BY year, month, action\n",
    "\"\"\").df()\n",
    "\n",
    "util.show_figure(\n",
    "    [\n",
    "        util.FigureConfig(\n",
    "            title=\"Monthly Comment Actions\",\n",
    "            label=\"Actions\",\n",
    "            x_col=\"months\",\n",
    "            y_col=\"Count\",\n",
    "            group_col=\"action\",\n",
    "            query_or_df=df,\n",
    "        )\n",
    "    ]\n",
    ")"
   ]
  },
  {
   "cell_type": "markdown",
   "metadata": {},
   "source": [
    "## Average Time to Close Notes"
   ]
  },
  {
   "cell_type": "code",
   "execution_count": 8,
   "metadata": {},
   "outputs": [
    {
     "data": {
      "application/vnd.plotly.v1+json": {
       "config": {
        "plotlyServerURL": "https://plot.ly"
       },
       "data": [
        {
         "hovertemplate": "Average Days to Close<br>%{x}<br>%{y:,} Average Days to Close<extra></extra>",
         "name": "Average Days to Close",
         "type": "scatter",
         "visible": true,
         "x": [
          "2013-04",
          "2013-05",
          "2013-06",
          "2013-07",
          "2013-08",
          "2013-09",
          "2013-10",
          "2013-11",
          "2013-12",
          "2014-01",
          "2014-02",
          "2014-03",
          "2014-04",
          "2014-05",
          "2014-06",
          "2014-07",
          "2014-08",
          "2014-09",
          "2014-10",
          "2014-11",
          "2014-12",
          "2015-01",
          "2015-02",
          "2015-03",
          "2015-04",
          "2015-05",
          "2015-06",
          "2015-07",
          "2015-08",
          "2015-09",
          "2015-10",
          "2015-11",
          "2015-12",
          "2016-01",
          "2016-02",
          "2016-03",
          "2016-04",
          "2016-05",
          "2016-06",
          "2016-07",
          "2016-08",
          "2016-09",
          "2016-10",
          "2016-11",
          "2016-12",
          "2017-01",
          "2017-02",
          "2017-03",
          "2017-04",
          "2017-05",
          "2017-06",
          "2017-07",
          "2017-08",
          "2017-09",
          "2017-10",
          "2017-11",
          "2017-12",
          "2018-01",
          "2018-02",
          "2018-03",
          "2018-04",
          "2018-05",
          "2018-06",
          "2018-07",
          "2018-08",
          "2018-09",
          "2018-10",
          "2018-11",
          "2018-12",
          "2019-01",
          "2019-02",
          "2019-03",
          "2019-04",
          "2019-05",
          "2019-06",
          "2019-07",
          "2019-08",
          "2019-09",
          "2019-10",
          "2019-11",
          "2019-12",
          "2020-01",
          "2020-02",
          "2020-03",
          "2020-04",
          "2020-05",
          "2020-06",
          "2020-07",
          "2020-08",
          "2020-09",
          "2020-10",
          "2020-11",
          "2020-12",
          "2021-01",
          "2021-02",
          "2021-03",
          "2021-04",
          "2021-05",
          "2021-06",
          "2021-07",
          "2021-08",
          "2021-09",
          "2021-10",
          "2021-11",
          "2021-12",
          "2022-01",
          "2022-02",
          "2022-03",
          "2022-04",
          "2022-05",
          "2022-06",
          "2022-07",
          "2022-08",
          "2022-09",
          "2022-10",
          "2022-11",
          "2022-12",
          "2023-01",
          "2023-02",
          "2023-03",
          "2023-04",
          "2023-05",
          "2023-06",
          "2023-07",
          "2023-08",
          "2023-09",
          "2023-10",
          "2023-11",
          "2023-12",
          "2024-01",
          "2024-02",
          "2024-03",
          "2024-04",
          "2024-05",
          "2024-06",
          "2024-07",
          "2024-08",
          "2024-09",
          "2024-10",
          "2024-11",
          "2024-12",
          "2025-01",
          "2025-02",
          "2025-03",
          "2025-04",
          "2025-05",
          "2025-06",
          "2025-07",
          "2025-08",
          "2025-09"
         ],
         "y": {
          "bdata": "NcwOjiCycEDYLNC5xLlxQLMEzRH5MW5ADd9Ftph/c0Dhk+nGkmFvQDj+uZOySm1Am+7+Sa8rcUAxVVHlFKF0QJvPUnH1HnVAQfAsTpjFdUDGHVjU0UJxQNkt4d/s+nRAiKzXuZqpc0B8fXDy3gF2QFdPG7Z3hnJAe35Wz5rmdECoc6rkN59yQHEE1i8NcHNAbzvPiM85c0DnlI3O7/9xQAakTwFnUHNAjxOMFKA5cUA8GkLCl9N1QM4BpgRDTHRA/Fx5xUtYdEBgDEOBF4FyQB9ZLsE7QnNAIPVMBvxAdkAWGkQgipR1QMIwgjOZOnNAeKwcs42qcUB7eeKIbjx0QH3gOA1QTHRASrNd3QtEdUDANIMzfCF3QBAEQRAE03ZA/uKoS4WldUDZC0QBByp1QLDpMxVabHpA4Be8QNh1fEAlqKCsRdh9QKP41Qrsm31A3OXXqQ8Ff0D7Ico0iwd/QCro5yixQX5ADWNiGigjg0DgBnO8CVKAQF8Q18r30X1A9USMPDB8e0Amd7kbR3Z7QKL7uFepbXtAtaJU64ygeUCvFik7tJB6QKBuJ0/823lAfHriiE91ekDpFQpecGF3QGnHj7sWWnlAwrB1+TWIdkCODMxMKvJ2QEYS+wETdHdAsLQM1ufcdEC7y/qGM811QPKrbRNHMnVABPWwe/fSdUCZgufmfjt1QEGoETIraHVAmS/ZWiEud0AdO7NjsKR1QA33rgrc2HRA1DUwSpGXc0D4Euf+ZoZ0QBRX3/I4bHVAVHMswP+BdkBw2uJLFelzQASGM0zySXNAsJWxs5d/dEBR54+nt+VyQAKwrnzVfnRA5OqdtqW/dEAmflAJGt50QMN2nq2FPnNA+nkT1iE9c0DiMIv6wvNxQOKLtBIhsmhAsqqYpts5a0DEvXiNn6pwQHlntb5YJm9AWpL3qqWKcEBBf/1kiyVuQCHk18Ijcm1Am9JKLqhVbECu02f+OlFoQGzTJIwoAGxAt+rvX4F4bUClaRyTMEVuQFH4PxFHbWtA3CnCoXfaZ0ATTVc70zBoQCwkx2VliWlANphLdvlGaEDl9635ja5nQOpMeFD04mVAmwbLliUfZUD+3UfmEspmQMBSewQT9WVAOnK1eNRSZUDPE2kNZO1kQEMnjhExpmRA9UtNlv80ZEC1i2uKYuNjQJ74zCToIGJAYMrnAeHlZEBJm7c/N+RjQO9Gtes9PmRAkp+D/4zBYUDdeBAxC2liQOVHvGwdA2BAvA7ZQVhqXkBGWB+pUqleQLNXap3nXlxAOyARHnlyW0CQADUNU09bQNMp6E/upltAJrsImBTaWkB6CWB2xq9aQGo/Atwo0FhA9XtQkkRFWUDnkh15DwJYQFAdaA9YNVhAlhk5FcVPXUBkj3WZrzpbQMOlSpj2yVdAWt0kPZgtVkCWfhmrGodVQAOIY6QUXVJA9RZaDp0+UECrnjHNPQFQQNrWFi8S3U1AW4AJK/56TUDsVWDNwIBJQExVFwdtG0dA5HsU9T/qQ0AmwpyFRkNAQPxUN8PeHjpArYbBgKUWOEDWjWBqyF8zQLbuIMRDci1AbZuAqaFgJkD7zEAPYF0aQBZ9ZAqbDQRA",
          "dtype": "f8"
         }
        },
        {
         "hovertemplate": "Average Days to Close<br>%{x}<br>%{y:,} Median Days to Close<extra></extra>",
         "name": "Average Days to Close",
         "type": "scatter",
         "visible": false,
         "x": [
          "2013-04",
          "2013-05",
          "2013-06",
          "2013-07",
          "2013-08",
          "2013-09",
          "2013-10",
          "2013-11",
          "2013-12",
          "2014-01",
          "2014-02",
          "2014-03",
          "2014-04",
          "2014-05",
          "2014-06",
          "2014-07",
          "2014-08",
          "2014-09",
          "2014-10",
          "2014-11",
          "2014-12",
          "2015-01",
          "2015-02",
          "2015-03",
          "2015-04",
          "2015-05",
          "2015-06",
          "2015-07",
          "2015-08",
          "2015-09",
          "2015-10",
          "2015-11",
          "2015-12",
          "2016-01",
          "2016-02",
          "2016-03",
          "2016-04",
          "2016-05",
          "2016-06",
          "2016-07",
          "2016-08",
          "2016-09",
          "2016-10",
          "2016-11",
          "2016-12",
          "2017-01",
          "2017-02",
          "2017-03",
          "2017-04",
          "2017-05",
          "2017-06",
          "2017-07",
          "2017-08",
          "2017-09",
          "2017-10",
          "2017-11",
          "2017-12",
          "2018-01",
          "2018-02",
          "2018-03",
          "2018-04",
          "2018-05",
          "2018-06",
          "2018-07",
          "2018-08",
          "2018-09",
          "2018-10",
          "2018-11",
          "2018-12",
          "2019-01",
          "2019-02",
          "2019-03",
          "2019-04",
          "2019-05",
          "2019-06",
          "2019-07",
          "2019-08",
          "2019-09",
          "2019-10",
          "2019-11",
          "2019-12",
          "2020-01",
          "2020-02",
          "2020-03",
          "2020-04",
          "2020-05",
          "2020-06",
          "2020-07",
          "2020-08",
          "2020-09",
          "2020-10",
          "2020-11",
          "2020-12",
          "2021-01",
          "2021-02",
          "2021-03",
          "2021-04",
          "2021-05",
          "2021-06",
          "2021-07",
          "2021-08",
          "2021-09",
          "2021-10",
          "2021-11",
          "2021-12",
          "2022-01",
          "2022-02",
          "2022-03",
          "2022-04",
          "2022-05",
          "2022-06",
          "2022-07",
          "2022-08",
          "2022-09",
          "2022-10",
          "2022-11",
          "2022-12",
          "2023-01",
          "2023-02",
          "2023-03",
          "2023-04",
          "2023-05",
          "2023-06",
          "2023-07",
          "2023-08",
          "2023-09",
          "2023-10",
          "2023-11",
          "2023-12",
          "2024-01",
          "2024-02",
          "2024-03",
          "2024-04",
          "2024-05",
          "2024-06",
          "2024-07",
          "2024-08",
          "2024-09",
          "2024-10",
          "2024-11",
          "2024-12",
          "2025-01",
          "2025-02",
          "2025-03",
          "2025-04",
          "2025-05",
          "2025-06",
          "2025-07",
          "2025-08",
          "2025-09"
         ],
         "y": {
          "bdata": "AAAAAAAAJEAAAAAAAAAoQAAAAAAAADNAAAAAAAAAM0AAAAAAAAAoQAAAAAAAACxAAAAAAAAALEAAAAAAAABCQAAAAAAAADpAAAAAAAAAO0AAAAAAAAAkQAAAAAAAADpAAAAAAAAAMEAAAAAAAAA4QAAAAAAAADVAAAAAAAAAPkAAAAAAAAAyQAAAAAAAADlAAAAAAAAAM0AAAAAAAAAyQAAAAAAAADhAAAAAAAAALEAAAAAAAAA2QAAAAAAAADVAAAAAAAAAM0AAAAAAAAAzQAAAAAAAADdAAAAAAAAAPkAAAAAAAAA1QAAAAAAAADFAAAAAAAAAMkAAAAAAAAA6QAAAAAAAADRAAAAAAAAAQEAAAAAAAIBDQAAAAAAAAD1AAAAAAAAAPUAAAAAAAAA7QAAAAAAAgEpAAAAAAACAUUAAAAAAAMBWQAAAAAAAgFdAAAAAAACAWkAAAAAAAMBYQAAAAAAAQFtAAAAAAABAZkAAAAAAAIBhQAAAAAAAQFlAAAAAAACAVEAAAAAAAMBUQAAAAAAAQFRAAAAAAAAAU0AAAAAAAMBUQAAAAAAAQFFAAAAAAABAVkAAAAAAAIBHQAAAAAAAAFJAAAAAAACARkAAAAAAAABLQAAAAAAAQFBAAAAAAAAAQkAAAAAAAABNQAAAAAAAgEZAAAAAAAAATEAAAAAAAABHQAAAAAAAgE1AAAAAAAAAUkAAAAAAAIBOQAAAAAAAgERAAAAAAAAAPkAAAAAAAIBLQAAAAAAAgExAAAAAAAAATEAAAAAAAAA/QAAAAAAAAD9AAAAAAACAQ0AAAAAAAAA0QAAAAAAAgEFAAAAAAACAR0AAAAAAAABGQAAAAAAAgEBAAAAAAACAQkAAAAAAAAA3QAAAAAAAAABAAAAAAAAACEAAAAAAAAAwQAAAAAAAADJAAAAAAAAAOkAAAAAAAAAxQAAAAAAAACxAAAAAAAAAJkAAAAAAAAAuQAAAAAAAACRAAAAAAAAAJEAAAAAAAIBAQAAAAAAAAChAAAAAAAAAKEAAAAAAAAAoQAAAAAAAADNAAAAAAAAAMEAAAAAAAAAwQAAAAAAAADNAAAAAAAAAIEAAAAAAAAAjQAAAAAAAACJAAAAAAAAAJkAAAAAAAAAmQAAAAAAAACJAAAAAAAAAJkAAAAAAAAAmQAAAAAAAACJAAAAAAAAANkAAAAAAAAA0QAAAAAAAADdAAAAAAAAAMUAAAAAAAAAxQAAAAAAAAChAAAAAAAAAIEAAAAAAAAAiQAAAAAAAABxAAAAAAAAAHEAAAAAAAAAiQAAAAAAAACpAAAAAAAAAJkAAAAAAAAAiQAAAAAAAACBAAAAAAAAAIkAAAAAAAAAUQAAAAAAAACRAAAAAAAAAJEAAAAAAAAAqQAAAAAAAACRAAAAAAAAAHEAAAAAAAAAiQAAAAAAAABxAAAAAAAAAGEAAAAAAAAAcQAAAAAAAABRAAAAAAAAAFEAAAAAAAAAUQAAAAAAAABRAAAAAAAAACEAAAAAAAAAQQAAAAAAAAABAAAAAAAAACEAAAAAAAAAAQAAAAAAAAPA/AAAAAAAAAEAAAAAAAADwPwAAAAAAAPA/",
          "dtype": "f8"
         }
        }
       ],
       "layout": {
        "barmode": "stack",
        "font": {
         "family": "Times",
         "size": 15
        },
        "margin": {
         "b": 55,
         "l": 55,
         "r": 55,
         "t": 55
        },
        "paper_bgcolor": "#f5f2f0",
        "plot_bgcolor": "#f5f2f0",
        "template": {
         "data": {
          "bar": [
           {
            "error_x": {
             "color": "#2a3f5f"
            },
            "error_y": {
             "color": "#2a3f5f"
            },
            "marker": {
             "line": {
              "color": "#E5ECF6",
              "width": 0.5
             },
             "pattern": {
              "fillmode": "overlay",
              "size": 10,
              "solidity": 0.2
             }
            },
            "type": "bar"
           }
          ],
          "barpolar": [
           {
            "marker": {
             "line": {
              "color": "#E5ECF6",
              "width": 0.5
             },
             "pattern": {
              "fillmode": "overlay",
              "size": 10,
              "solidity": 0.2
             }
            },
            "type": "barpolar"
           }
          ],
          "carpet": [
           {
            "aaxis": {
             "endlinecolor": "#2a3f5f",
             "gridcolor": "white",
             "linecolor": "white",
             "minorgridcolor": "white",
             "startlinecolor": "#2a3f5f"
            },
            "baxis": {
             "endlinecolor": "#2a3f5f",
             "gridcolor": "white",
             "linecolor": "white",
             "minorgridcolor": "white",
             "startlinecolor": "#2a3f5f"
            },
            "type": "carpet"
           }
          ],
          "choropleth": [
           {
            "colorbar": {
             "outlinewidth": 0,
             "ticks": ""
            },
            "type": "choropleth"
           }
          ],
          "contour": [
           {
            "colorbar": {
             "outlinewidth": 0,
             "ticks": ""
            },
            "colorscale": [
             [
              0,
              "#0d0887"
             ],
             [
              0.1111111111111111,
              "#46039f"
             ],
             [
              0.2222222222222222,
              "#7201a8"
             ],
             [
              0.3333333333333333,
              "#9c179e"
             ],
             [
              0.4444444444444444,
              "#bd3786"
             ],
             [
              0.5555555555555556,
              "#d8576b"
             ],
             [
              0.6666666666666666,
              "#ed7953"
             ],
             [
              0.7777777777777778,
              "#fb9f3a"
             ],
             [
              0.8888888888888888,
              "#fdca26"
             ],
             [
              1,
              "#f0f921"
             ]
            ],
            "type": "contour"
           }
          ],
          "contourcarpet": [
           {
            "colorbar": {
             "outlinewidth": 0,
             "ticks": ""
            },
            "type": "contourcarpet"
           }
          ],
          "heatmap": [
           {
            "colorbar": {
             "outlinewidth": 0,
             "ticks": ""
            },
            "colorscale": [
             [
              0,
              "#0d0887"
             ],
             [
              0.1111111111111111,
              "#46039f"
             ],
             [
              0.2222222222222222,
              "#7201a8"
             ],
             [
              0.3333333333333333,
              "#9c179e"
             ],
             [
              0.4444444444444444,
              "#bd3786"
             ],
             [
              0.5555555555555556,
              "#d8576b"
             ],
             [
              0.6666666666666666,
              "#ed7953"
             ],
             [
              0.7777777777777778,
              "#fb9f3a"
             ],
             [
              0.8888888888888888,
              "#fdca26"
             ],
             [
              1,
              "#f0f921"
             ]
            ],
            "type": "heatmap"
           }
          ],
          "histogram": [
           {
            "marker": {
             "pattern": {
              "fillmode": "overlay",
              "size": 10,
              "solidity": 0.2
             }
            },
            "type": "histogram"
           }
          ],
          "histogram2d": [
           {
            "colorbar": {
             "outlinewidth": 0,
             "ticks": ""
            },
            "colorscale": [
             [
              0,
              "#0d0887"
             ],
             [
              0.1111111111111111,
              "#46039f"
             ],
             [
              0.2222222222222222,
              "#7201a8"
             ],
             [
              0.3333333333333333,
              "#9c179e"
             ],
             [
              0.4444444444444444,
              "#bd3786"
             ],
             [
              0.5555555555555556,
              "#d8576b"
             ],
             [
              0.6666666666666666,
              "#ed7953"
             ],
             [
              0.7777777777777778,
              "#fb9f3a"
             ],
             [
              0.8888888888888888,
              "#fdca26"
             ],
             [
              1,
              "#f0f921"
             ]
            ],
            "type": "histogram2d"
           }
          ],
          "histogram2dcontour": [
           {
            "colorbar": {
             "outlinewidth": 0,
             "ticks": ""
            },
            "colorscale": [
             [
              0,
              "#0d0887"
             ],
             [
              0.1111111111111111,
              "#46039f"
             ],
             [
              0.2222222222222222,
              "#7201a8"
             ],
             [
              0.3333333333333333,
              "#9c179e"
             ],
             [
              0.4444444444444444,
              "#bd3786"
             ],
             [
              0.5555555555555556,
              "#d8576b"
             ],
             [
              0.6666666666666666,
              "#ed7953"
             ],
             [
              0.7777777777777778,
              "#fb9f3a"
             ],
             [
              0.8888888888888888,
              "#fdca26"
             ],
             [
              1,
              "#f0f921"
             ]
            ],
            "type": "histogram2dcontour"
           }
          ],
          "mesh3d": [
           {
            "colorbar": {
             "outlinewidth": 0,
             "ticks": ""
            },
            "type": "mesh3d"
           }
          ],
          "parcoords": [
           {
            "line": {
             "colorbar": {
              "outlinewidth": 0,
              "ticks": ""
             }
            },
            "type": "parcoords"
           }
          ],
          "pie": [
           {
            "automargin": true,
            "type": "pie"
           }
          ],
          "scatter": [
           {
            "fillpattern": {
             "fillmode": "overlay",
             "size": 10,
             "solidity": 0.2
            },
            "type": "scatter"
           }
          ],
          "scatter3d": [
           {
            "line": {
             "colorbar": {
              "outlinewidth": 0,
              "ticks": ""
             }
            },
            "marker": {
             "colorbar": {
              "outlinewidth": 0,
              "ticks": ""
             }
            },
            "type": "scatter3d"
           }
          ],
          "scattercarpet": [
           {
            "marker": {
             "colorbar": {
              "outlinewidth": 0,
              "ticks": ""
             }
            },
            "type": "scattercarpet"
           }
          ],
          "scattergeo": [
           {
            "marker": {
             "colorbar": {
              "outlinewidth": 0,
              "ticks": ""
             }
            },
            "type": "scattergeo"
           }
          ],
          "scattergl": [
           {
            "marker": {
             "colorbar": {
              "outlinewidth": 0,
              "ticks": ""
             }
            },
            "type": "scattergl"
           }
          ],
          "scattermap": [
           {
            "marker": {
             "colorbar": {
              "outlinewidth": 0,
              "ticks": ""
             }
            },
            "type": "scattermap"
           }
          ],
          "scattermapbox": [
           {
            "marker": {
             "colorbar": {
              "outlinewidth": 0,
              "ticks": ""
             }
            },
            "type": "scattermapbox"
           }
          ],
          "scatterpolar": [
           {
            "marker": {
             "colorbar": {
              "outlinewidth": 0,
              "ticks": ""
             }
            },
            "type": "scatterpolar"
           }
          ],
          "scatterpolargl": [
           {
            "marker": {
             "colorbar": {
              "outlinewidth": 0,
              "ticks": ""
             }
            },
            "type": "scatterpolargl"
           }
          ],
          "scatterternary": [
           {
            "marker": {
             "colorbar": {
              "outlinewidth": 0,
              "ticks": ""
             }
            },
            "type": "scatterternary"
           }
          ],
          "surface": [
           {
            "colorbar": {
             "outlinewidth": 0,
             "ticks": ""
            },
            "colorscale": [
             [
              0,
              "#0d0887"
             ],
             [
              0.1111111111111111,
              "#46039f"
             ],
             [
              0.2222222222222222,
              "#7201a8"
             ],
             [
              0.3333333333333333,
              "#9c179e"
             ],
             [
              0.4444444444444444,
              "#bd3786"
             ],
             [
              0.5555555555555556,
              "#d8576b"
             ],
             [
              0.6666666666666666,
              "#ed7953"
             ],
             [
              0.7777777777777778,
              "#fb9f3a"
             ],
             [
              0.8888888888888888,
              "#fdca26"
             ],
             [
              1,
              "#f0f921"
             ]
            ],
            "type": "surface"
           }
          ],
          "table": [
           {
            "cells": {
             "fill": {
              "color": "#EBF0F8"
             },
             "line": {
              "color": "white"
             }
            },
            "header": {
             "fill": {
              "color": "#C8D4E3"
             },
             "line": {
              "color": "white"
             }
            },
            "type": "table"
           }
          ]
         },
         "layout": {
          "annotationdefaults": {
           "arrowcolor": "#2a3f5f",
           "arrowhead": 0,
           "arrowwidth": 1
          },
          "autotypenumbers": "strict",
          "coloraxis": {
           "colorbar": {
            "outlinewidth": 0,
            "ticks": ""
           }
          },
          "colorscale": {
           "diverging": [
            [
             0,
             "#8e0152"
            ],
            [
             0.1,
             "#c51b7d"
            ],
            [
             0.2,
             "#de77ae"
            ],
            [
             0.3,
             "#f1b6da"
            ],
            [
             0.4,
             "#fde0ef"
            ],
            [
             0.5,
             "#f7f7f7"
            ],
            [
             0.6,
             "#e6f5d0"
            ],
            [
             0.7,
             "#b8e186"
            ],
            [
             0.8,
             "#7fbc41"
            ],
            [
             0.9,
             "#4d9221"
            ],
            [
             1,
             "#276419"
            ]
           ],
           "sequential": [
            [
             0,
             "#0d0887"
            ],
            [
             0.1111111111111111,
             "#46039f"
            ],
            [
             0.2222222222222222,
             "#7201a8"
            ],
            [
             0.3333333333333333,
             "#9c179e"
            ],
            [
             0.4444444444444444,
             "#bd3786"
            ],
            [
             0.5555555555555556,
             "#d8576b"
            ],
            [
             0.6666666666666666,
             "#ed7953"
            ],
            [
             0.7777777777777778,
             "#fb9f3a"
            ],
            [
             0.8888888888888888,
             "#fdca26"
            ],
            [
             1,
             "#f0f921"
            ]
           ],
           "sequentialminus": [
            [
             0,
             "#0d0887"
            ],
            [
             0.1111111111111111,
             "#46039f"
            ],
            [
             0.2222222222222222,
             "#7201a8"
            ],
            [
             0.3333333333333333,
             "#9c179e"
            ],
            [
             0.4444444444444444,
             "#bd3786"
            ],
            [
             0.5555555555555556,
             "#d8576b"
            ],
            [
             0.6666666666666666,
             "#ed7953"
            ],
            [
             0.7777777777777778,
             "#fb9f3a"
            ],
            [
             0.8888888888888888,
             "#fdca26"
            ],
            [
             1,
             "#f0f921"
            ]
           ]
          },
          "colorway": [
           "#636efa",
           "#EF553B",
           "#00cc96",
           "#ab63fa",
           "#FFA15A",
           "#19d3f3",
           "#FF6692",
           "#B6E880",
           "#FF97FF",
           "#FECB52"
          ],
          "font": {
           "color": "#2a3f5f"
          },
          "geo": {
           "bgcolor": "white",
           "lakecolor": "white",
           "landcolor": "#E5ECF6",
           "showlakes": true,
           "showland": true,
           "subunitcolor": "white"
          },
          "hoverlabel": {
           "align": "left"
          },
          "hovermode": "closest",
          "mapbox": {
           "style": "light"
          },
          "paper_bgcolor": "white",
          "plot_bgcolor": "#E5ECF6",
          "polar": {
           "angularaxis": {
            "gridcolor": "white",
            "linecolor": "white",
            "ticks": ""
           },
           "bgcolor": "#E5ECF6",
           "radialaxis": {
            "gridcolor": "white",
            "linecolor": "white",
            "ticks": ""
           }
          },
          "scene": {
           "xaxis": {
            "backgroundcolor": "#E5ECF6",
            "gridcolor": "white",
            "gridwidth": 2,
            "linecolor": "white",
            "showbackground": true,
            "ticks": "",
            "zerolinecolor": "white"
           },
           "yaxis": {
            "backgroundcolor": "#E5ECF6",
            "gridcolor": "white",
            "gridwidth": 2,
            "linecolor": "white",
            "showbackground": true,
            "ticks": "",
            "zerolinecolor": "white"
           },
           "zaxis": {
            "backgroundcolor": "#E5ECF6",
            "gridcolor": "white",
            "gridwidth": 2,
            "linecolor": "white",
            "showbackground": true,
            "ticks": "",
            "zerolinecolor": "white"
           }
          },
          "shapedefaults": {
           "line": {
            "color": "#2a3f5f"
           }
          },
          "ternary": {
           "aaxis": {
            "gridcolor": "white",
            "linecolor": "white",
            "ticks": ""
           },
           "baxis": {
            "gridcolor": "white",
            "linecolor": "white",
            "ticks": ""
           },
           "bgcolor": "#E5ECF6",
           "caxis": {
            "gridcolor": "white",
            "linecolor": "white",
            "ticks": ""
           }
          },
          "title": {
           "x": 0.05
          },
          "xaxis": {
           "automargin": true,
           "gridcolor": "white",
           "linecolor": "white",
           "ticks": "",
           "title": {
            "standoff": 15
           },
           "zerolinecolor": "white",
           "zerolinewidth": 2
          },
          "yaxis": {
           "automargin": true,
           "gridcolor": "white",
           "linecolor": "white",
           "ticks": "",
           "title": {
            "standoff": 15
           },
           "zerolinecolor": "white",
           "zerolinewidth": 2
          }
         }
        },
        "title": {
         "text": "Average Days to Close Notes",
         "x": 0.5
        },
        "updatemenus": [
         {
          "buttons": [
           {
            "args": [
             {
              "visible": [
               true,
               false
              ]
             },
             {
              "title.text": "Average Days to Close Notes",
              "xaxis.title.text": "months",
              "yaxis.title.text": "Average Days to Close"
             }
            ],
            "label": "Average Days",
            "method": "update"
           },
           {
            "args": [
             {
              "visible": [
               false,
               true
              ]
             },
             {
              "title.text": "Median Days to Close Notes",
              "xaxis.title.text": "months",
              "yaxis.title.text": "Median Days to Close"
             }
            ],
            "label": "Median Days",
            "method": "update"
           }
          ],
          "type": "buttons"
         }
        ],
        "xaxis": {
         "gridcolor": "darkgray",
         "linecolor": "black",
         "showgrid": true,
         "tickcolor": "black",
         "title": {
          "text": "months"
         },
         "zerolinecolor": "darkgray"
        },
        "yaxis": {
         "gridcolor": "darkgray",
         "linecolor": "black",
         "rangemode": "tozero",
         "showgrid": true,
         "tickcolor": "black",
         "title": {
          "text": "Average Days to Close"
         },
         "zerolinecolor": "darkgray"
        }
       }
      }
     },
     "metadata": {},
     "output_type": "display_data"
    }
   ],
   "source": [
    "df = duckdb.sql(\"\"\"\n",
    "SELECT\n",
    "    YEAR(created_at) as year,\n",
    "    MONTH(created_at) as month,\n",
    "    CONCAT(YEAR(created_at), '-', LPAD(CAST(MONTH(created_at) as VARCHAR), 2, '0')) as months,\n",
    "    AVG(DATEDIFF('day', created_at, closed_at)) as \"Average Days to Close\",\n",
    "    MEDIAN(DATEDIFF('day', created_at, closed_at)) as \"Median Days to Close\",\n",
    "    COUNT(*) as \"Closed Notes\"\n",
    "FROM '../notes_data/*.parquet'\n",
    "WHERE closed_at IS NOT NULL\n",
    "GROUP BY YEAR(created_at), MONTH(created_at)\n",
    "ORDER BY year, month\n",
    "\"\"\").df()\n",
    "\n",
    "util.show_figure(\n",
    "    [\n",
    "        util.FigureConfig(\n",
    "            title=\"Average Days to Close Notes\",\n",
    "            label=\"Average Days\",\n",
    "            x_col=\"months\",\n",
    "            y_col=\"Average Days to Close\",\n",
    "            query_or_df=df,\n",
    "        ),\n",
    "        util.FigureConfig(\n",
    "            title=\"Median Days to Close Notes\",\n",
    "            label=\"Median Days\",\n",
    "            x_col=\"months\",\n",
    "            y_col=\"Median Days to Close\",\n",
    "            query_or_df=df,\n",
    "        ),\n",
    "    ]\n",
    ")"
   ]
  }
 ],
 "metadata": {
  "kernelspec": {
   "display_name": ".venv",
   "language": "python",
   "name": "python3"
  },
  "language_info": {
   "codemirror_mode": {
    "name": "ipython",
    "version": 3
   },
   "file_extension": ".py",
   "mimetype": "text/x-python",
   "name": "python",
   "nbconvert_exporter": "python",
   "pygments_lexer": "ipython3",
   "version": "3.13.5"
  }
 },
 "nbformat": 4,
 "nbformat_minor": 4
}

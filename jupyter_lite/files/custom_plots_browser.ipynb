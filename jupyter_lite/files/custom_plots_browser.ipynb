{
 "cells": [
  {
   "attachments": {},
   "cell_type": "markdown",
   "metadata": {},
   "source": [
    "# Custom Plots\n",
    "\n",
    "This is python notebook in a browser using [pyodide](https://github.com/pyodide/pyodide). It can be used to create custom OpenStreetMap plots with plotly and the aggregate [data](https://github.com/piebro/openstreetmap-statistics/tree/master/assets/data). Run a cell by clicking on it and pressing ```shift``` and ```enter```."
   ]
  },
  {
   "attachments": {},
   "cell_type": "markdown",
   "metadata": {},
   "source": [
    "## setup and imports"
   ]
  },
  {
   "cell_type": "code",
   "execution_count": null,
   "metadata": {},
   "outputs": [],
   "source": [
    "import piplite\n",
    "await piplite.install(\"nbformat\")\n",
    "await piplite.install(\"plotly\")\n",
    "\n",
    "import pyodide\n",
    "import json\n",
    "import plotly.graph_objects as go\n",
    "\n",
    "def load(data_name):\n",
    "    url = \"https://raw.githubusercontent.com/piebro/openstreetmap-statistics/master/assets/data/\"\n",
    "    return json.loads(pyodide.http.open_url(url + data_name).readline())"
   ]
  },
  {
   "attachments": {},
   "cell_type": "markdown",
   "metadata": {},
   "source": [
    "## create custom plots"
   ]
  },
  {
   "cell_type": "code",
   "execution_count": null,
   "metadata": {},
   "outputs": [],
   "source": [
    "def get_plot_layout(plot_title, unit):\n",
    "    return {\n",
    "        \"font\": {\"family\": \"Times\", \"size\": 15},\n",
    "        \"paper_bgcolor\": \"#dfdfdf\",\n",
    "        \"plot_bgcolor\": \"#dfdfdf\",\n",
    "        \"margin\": {\"l\": 55, \"r\": 55, \"b\": 55, \"t\": 55},\n",
    "        \"title\": {\"text\": plot_title, \"x\": 0.5},\n",
    "        \"xaxis\": {\"title\": {\"text\": \"time\"}},\n",
    "        \"yaxis\": {\"title\": {\"text\": unit}, \"rangemode\": \"tozero\"},\n",
    "        \"autosize\": False,\n",
    "        \"width\": 1000,\n",
    "        \"height\": 500,\n",
    "        \"xaxis\": {\"showgrid\":True, \"gridcolor\": \"#d1d1d1\", \"zerolinecolor\": \"#d1d1d1\"},\n",
    "        \"yaxis\": {\"showgrid\":True, \"gridcolor\": \"#d1d1d1\", \"zerolinecolor\": \"#d1d1d1\"}\n",
    "    }\n",
    "\n",
    "data = load(\"created_by_top_100_contributor_count_monthly.json\")\n",
    "selected_mobile_editors = [\"MAPS.ME android\", \"MAPS.ME ios\", \"StreetComplete\", \"OsmAnd\", \"Vespucci\", \"Go Map!!\", \"Organic Maps android\"]\n",
    "fig = go.Figure()\n",
    "for name in selected_mobile_editors:\n",
    "    fig.add_trace(go.Scatter(x=data[\"x\"], y=data[\"y_list\"][data[\"y_names\"].index(name)], name=name))\n",
    "fig.update_layout(get_plot_layout(\"monthly contributor count per selected editing apps\", \"contributors\"))\n",
    "fig.show()"
   ]
  }
 ],
 "metadata": {
  "kernelspec": {
   "display_name": "venv",
   "language": "python",
   "name": "python3"
  },
  "language_info": {
   "codemirror_mode": {
    "name": "ipython",
    "version": 3
   },
   "file_extension": ".py",
   "mimetype": "text/x-python",
   "name": "python",
   "nbconvert_exporter": "python",
   "pygments_lexer": "ipython3",
   "version": "3.8.10"
  },
  "orig_nbformat": 4
 },
 "nbformat": 4,
 "nbformat_minor": 2
}

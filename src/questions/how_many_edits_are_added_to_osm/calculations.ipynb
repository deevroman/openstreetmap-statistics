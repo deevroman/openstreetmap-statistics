{
 "cells": [
  {
   "cell_type": "code",
   "execution_count": 1,
   "metadata": {},
   "outputs": [],
   "source": [
    "import sys\n",
    "from pathlib import Path\n",
    "\n",
    "import numpy as np\n",
    "import pandas as pd\n",
    "\n",
    "sys.path.append(str(Path.resolve(Path.cwd() / \"..\" / \"..\")))\n",
    "\n",
    "import new_util as util\n",
    "\n",
    "DATA_DIR = \"../../../temp\"\n",
    "MONTHS, YEARS = util.get_months_years(DATA_DIR)\n",
    "TIME_DICT = util.get_month_year_dicts(DATA_DIR)\n",
    "\n",
    "util.reset_data_and_plots()"
   ]
  }
 ],
 "metadata": {
  "kernelspec": {
   "display_name": ".venv",
   "language": "python",
   "name": "python3"
  },
  "language_info": {
   "codemirror_mode": {
    "name": "ipython",
    "version": 3
   },
   "file_extension": ".py",
   "mimetype": "text/x-python",
   "name": "python",
   "nbconvert_exporter": "python",
   "pygments_lexer": "ipython3",
   "version": "3.10.12"
  }
 },
 "nbformat": 4,
 "nbformat_minor": 2
}
